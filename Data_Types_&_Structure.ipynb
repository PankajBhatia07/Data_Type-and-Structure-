{
  "nbformat": 4,
  "nbformat_minor": 0,
  "metadata": {
    "colab": {
      "provenance": [],
      "collapsed_sections": [
        "GGvEELCxfx9g",
        "LXPXue20shDj",
        "C9o6Mgm18ktc",
        "CMrq0H0j_iB7",
        "Tl5gz_jHiYvu",
        "56MQDnxKkzXp",
        "gyLuSzltoFI8",
        "Me-ufvzCtdVr",
        "bbMqJ37h_nW_",
        "uv4M_IKsIvIA",
        "FS8bujimqx5b",
        "ZxZE64lkzF83",
        "lwmBI5ol2KOz",
        "NOeFrw6QBc-y",
        "_iu2yg2JGu0m",
        "Pw_beRpK-NOF",
        "qmKc_cj4Axvx",
        "WEpQED1z8ooQ",
        "ntUAFCxLBBw4",
        "4bGvfLZTCdCG",
        "CCJ1CqBtW2ZQ",
        "TMC_kyN9QavV",
        "vaZUcf1rRGON",
        "nSWUrvI3Sk0x",
        "MDJFWSDTjqnt",
        "XSXbrbcmymqd",
        "5h9wfYZvy8XR",
        "7_h8fASKzrPv",
        "Yi_21l-Iz8sF",
        "LRNVVzWV0lFS",
        "tE-mfwvalm9V",
        "EkPn7vWdmE_W",
        "EzL7AFGVm6QC",
        "_zAieCDOnqe9",
        "RB8SgN4koXsQ",
        "pxFeu9NTpfza",
        "MjKtGsMBqoWF",
        "X1s9oP3rra-v",
        "XOSsjdQ7r_uL",
        "-7sWjXDY1RQ8",
        "c0OusXk9nId8",
        "jfujBmHppB25",
        "doxa68n3tzeg",
        "MFq5hSG0wAus",
        "30xOp0rCw2TL",
        "zH5GSbQKyvEG",
        "67gux8kF0b0t",
        "uhyBFfM63A-k",
        "A2TcHXQk4x3G",
        "qtQN6AKW59AB"
      ]
    },
    "kernelspec": {
      "name": "python3",
      "display_name": "Python 3"
    },
    "language_info": {
      "name": "python"
    }
  },
  "cells": [
    {
      "cell_type": "markdown",
      "source": [
        "## ***Data Types & Structure***"
      ],
      "metadata": {
        "id": "jmEQ7gWt65PO"
      }
    },
    {
      "cell_type": "markdown",
      "source": [
        "##**Q1. What are data structures and why are they important?**"
      ],
      "metadata": {
        "id": "GGvEELCxfx9g"
      }
    },
    {
      "cell_type": "markdown",
      "source": [
        "\n",
        "Data structures are organized ways to store, manage, and manipulate data efficiently for various operations and algorithms. They are fundamental building blocks in computer science and software development, impacting performance, scalability, and ease of implementation. Below are several key points explaining what data structures are and why they are important:"
      ],
      "metadata": {
        "id": "KPDHCK2UsTQl"
      }
    },
    {
      "cell_type": "markdown",
      "source": [
        "**1.Definition:** Data structures are specialized formats for organizing, processing, and storing data to perform operations efficiently.\n",
        "\n",
        "**2.Types:** They can be broadly classified into:\n",
        "\n",
        "* **Linear:** Arrays, Linked Lists, Stacks, Queues.\n",
        "\n",
        "* **Non-linear:** Trees, Graphs.\n",
        "\n",
        "* **Hash-based:** Hash Tables, Hash Maps.\n",
        "\n",
        "**3.Purpose:** They provide a way to organize data so it can be used efficiently for computation.\n",
        "\n",
        "\n"
      ],
      "metadata": {
        "id": "arEDoXVIiB4j"
      }
    },
    {
      "cell_type": "markdown",
      "source": [
        "**1.Efficiency in Operations:**\n",
        "\n",
        "* They optimize operations such as searching, sorting, insertion, and deletion.\n",
        "\n",
        "* For example, a binary search tree (BST) allows efficient searching in\n",
        "𝑂\n",
        "(\n",
        "log\n",
        "⁡\n",
        "𝑛\n",
        ")\n",
        "O(logn).\n",
        "\n",
        "**2.Memory Management:**\n",
        "\n",
        "* Effective use of memory resources.\n",
        "\n",
        "* Dynamic data structures like linked lists can adjust their size at runtime, unlike arrays with fixed sizes.\n",
        "\n",
        "**3.Problem Solving:**\n",
        "\n",
        "* Essential for algorithm design and implementation.\n",
        "\n",
        "* Example: Graphs are crucial for solving shortest-path problems like those in Google Maps.\n",
        "\n",
        "**4.Real-World Applications:**\n",
        "\n",
        "* Databases: Use trees and hash tables for indexing.\n",
        "\n",
        "* Networks: Graphs model and optimize routes.\n",
        "\n",
        "* Operating Systems: Use queues and stacks for process scheduling and memory management.\n",
        "\n",
        "**5.Foundation for Algorithms:**\n",
        "\n",
        "* Algorithms rely on data structures to process data efficiently.\n",
        "\n",
        "* Example: Sorting algorithms like QuickSort and MergeSort use arrays and linked lists.\n",
        "\n",
        "**6.Scalability:**\n",
        "\n",
        "* Proper data structures allow systems to scale effectively with large datasets.\n",
        "\n",
        "**7.Customization and Adaptability:**\n",
        "\n",
        "* Data structures allow developers to model real-world entities.\n",
        "\n",
        "* Example: A priority queue for task scheduling.\n",
        "\n",
        "**8.Performance Optimization:**\n",
        "\n",
        "* The choice of data structure significantly impacts the performance of applications.\n",
        "\n",
        "* Example: Using hash tables ensures\n",
        "𝑂\n",
        "(\n",
        "1\n",
        ")\n",
        "O(1) average time complexity for lookups.\n",
        "\n",
        "**9.Support for Complex Operations:**\n",
        "\n",
        "* Some tasks require advanced data structures.\n",
        "\n",
        "* Example: Trie structures for prefix-based searching in dictionaries or autocomplete systems.\n",
        "\n",
        "**10.Error Handling:**\n",
        "\n",
        "* Certain data structures inherently reduce errors.\n",
        "\n",
        "* Example: Stacks prevent buffer overflows with proper memory handling.\n",
        "\n",
        "**11.Versatility Across Domains:**\n",
        "\n",
        "* Data structures are used in fields like machine learning, web development, game development, and more.\n"
      ],
      "metadata": {
        "id": "YZOzNNP9pAvE"
      }
    },
    {
      "cell_type": "markdown",
      "source": [
        "##**Q2.Explain the difference between mutable and immutable data types with examples.**"
      ],
      "metadata": {
        "id": "LXPXue20shDj"
      }
    },
    {
      "cell_type": "markdown",
      "source": [
        "The difference between mutable and immutable data types lies in whether the data can be modified after it is created. Here's a detailed explanation:"
      ],
      "metadata": {
        "id": "NcJvSs9QtInC"
      }
    },
    {
      "cell_type": "markdown",
      "source": [
        "####**Mutable Data Types**\n",
        "* **Definition:** Mutable data types allow changes to their content after they are created, without changing their identity.\n",
        "* **Key Characteristics:**\n",
        "\n",
        "1.You can modify, add, or remove elements.\n",
        "\n",
        "2.The memory address (or object reference) remains the same.\n",
        "\n",
        "3.They are allows you to create, update, delete and perform any operations. Ordereed elements of different data types.\n",
        "\n",
        "4.A built-in data types that stores set of values. It can store elements of different types (Integers, Float, String etc.)\n",
        "#### **Examples in Python:**\n"
      ],
      "metadata": {
        "id": "GT-fiGMAtdIX"
      }
    },
    {
      "cell_type": "markdown",
      "source": [
        "  ### **Lists:**"
      ],
      "metadata": {
        "id": "KSRtP_CoviGO"
      }
    },
    {
      "cell_type": "code",
      "source": [
        "my_list = [1, 2, 3, \"Iphone\", \"Samsung\"]\n",
        "print(my_list)  # Output: [1, 2, 3,\"Iphone\", \"Samsung\"]\n"
      ],
      "metadata": {
        "colab": {
          "base_uri": "https://localhost:8080/"
        },
        "id": "aX5KetHQujeS",
        "outputId": "0e87a728-fe39-4dae-a42a-eb6d2bd15d34"
      },
      "execution_count": null,
      "outputs": [
        {
          "output_type": "stream",
          "name": "stdout",
          "text": [
            "[1, 2, 3, 'Iphone', 'Samsung']\n"
          ]
        }
      ]
    },
    {
      "cell_type": "code",
      "source": [
        "my_list[0] #indexing"
      ],
      "metadata": {
        "colab": {
          "base_uri": "https://localhost:8080/"
        },
        "id": "QoGFY_h3y0Cg",
        "outputId": "07a9ceb4-8fed-4458-d7eb-6c3b75988876"
      },
      "execution_count": null,
      "outputs": [
        {
          "output_type": "execute_result",
          "data": {
            "text/plain": [
              "1"
            ]
          },
          "metadata": {},
          "execution_count": 99
        }
      ]
    },
    {
      "cell_type": "markdown",
      "source": [
        "### **List Slicing**"
      ],
      "metadata": {
        "id": "PTWEwbXHEMGE"
      }
    },
    {
      "cell_type": "code",
      "source": [
        "my_list[:5] #slicing"
      ],
      "metadata": {
        "colab": {
          "base_uri": "https://localhost:8080/"
        },
        "id": "5Ld6M_aOzI8P",
        "outputId": "e6159d0a-4fb5-41bf-b8f2-1ffbedce308b"
      },
      "execution_count": null,
      "outputs": [
        {
          "output_type": "execute_result",
          "data": {
            "text/plain": [
              "[1, 2, 3, 'Iphone', 'Samsung']"
            ]
          },
          "metadata": {},
          "execution_count": 100
        }
      ]
    },
    {
      "cell_type": "code",
      "source": [
        "my_list[1:5]"
      ],
      "metadata": {
        "colab": {
          "base_uri": "https://localhost:8080/"
        },
        "id": "nf802p_KDArg",
        "outputId": "c137bd9c-4f56-49c7-a652-7e761bd613cf"
      },
      "execution_count": null,
      "outputs": [
        {
          "output_type": "execute_result",
          "data": {
            "text/plain": [
              "[2, 3, 'Iphone', 'Samsung']"
            ]
          },
          "metadata": {},
          "execution_count": 101
        }
      ]
    },
    {
      "cell_type": "code",
      "source": [
        "my_list[-6:-1]"
      ],
      "metadata": {
        "colab": {
          "base_uri": "https://localhost:8080/"
        },
        "id": "DYoEJwT7Dkpo",
        "outputId": "8094f41b-b7d5-4782-8baa-57e5cceea896"
      },
      "execution_count": null,
      "outputs": [
        {
          "output_type": "execute_result",
          "data": {
            "text/plain": [
              "[1, 2, 3, 'Iphone']"
            ]
          },
          "metadata": {},
          "execution_count": 108
        }
      ]
    },
    {
      "cell_type": "markdown",
      "source": [
        "### **List Method**"
      ],
      "metadata": {
        "id": "CpCHRjN_Cq_x"
      }
    },
    {
      "cell_type": "code",
      "source": [
        "my_list.append(\"Motrola\") #adding Motrola at the end of the list\n",
        "print(my_list)"
      ],
      "metadata": {
        "colab": {
          "base_uri": "https://localhost:8080/"
        },
        "id": "HoiSVxAl18cb",
        "outputId": "57a95c81-3e02-494f-ff2c-b8f32391adb9"
      },
      "execution_count": null,
      "outputs": [
        {
          "output_type": "stream",
          "name": "stdout",
          "text": [
            "[1, 2, 3, 'Iphone', 'Samsung', 'Googlepixel', 'Oneplus', 'Motrola']\n"
          ]
        }
      ]
    },
    {
      "cell_type": "code",
      "source": [
        "my_list.insert(4, \"Nokia\") #adding Nokia at 4 insert(indexposition, element value)\n",
        "print(my_list)"
      ],
      "metadata": {
        "colab": {
          "base_uri": "https://localhost:8080/"
        },
        "id": "tQDR4f8d2kTY",
        "outputId": "fca894bd-5f35-4510-d190-4ba754642834"
      },
      "execution_count": null,
      "outputs": [
        {
          "output_type": "stream",
          "name": "stdout",
          "text": [
            "[1, 2, 3, 'Iphone', 'Nokia', 'Samsung', 'Googlepixel', 'Oneplus', 'Motrola']\n"
          ]
        }
      ]
    },
    {
      "cell_type": "code",
      "source": [
        "my_list.remove(\"Nokia\") #remove element\n",
        "print(my_list)"
      ],
      "metadata": {
        "colab": {
          "base_uri": "https://localhost:8080/"
        },
        "id": "ZyEl9eU43avj",
        "outputId": "e3883605-d8ac-4a6a-8a3d-5e95428605ea"
      },
      "execution_count": null,
      "outputs": [
        {
          "output_type": "stream",
          "name": "stdout",
          "text": [
            "[1, 2, 3, 'Iphone', 'Samsung', 'Googlepixel', 'Oneplus', 'Motrola']\n"
          ]
        }
      ]
    },
    {
      "cell_type": "code",
      "source": [
        "my_list.reverse() #sorting\n",
        "print(my_list)"
      ],
      "metadata": {
        "colab": {
          "base_uri": "https://localhost:8080/"
        },
        "id": "DN9HOl0NBkq8",
        "outputId": "932e9e2f-b29f-448f-d684-e8a5365c2439"
      },
      "execution_count": null,
      "outputs": [
        {
          "output_type": "stream",
          "name": "stdout",
          "text": [
            "['Redmi', '', 'Redmi', '', 'Redmi', '', 'Redmi', 'Realme', 'Redmi', 'Realme', 'Motrola', 'Oneplus', 'Samsung', 'Iphone', 3, 2, 1]\n"
          ]
        }
      ]
    },
    {
      "cell_type": "code",
      "source": [
        "len(my_list)"
      ],
      "metadata": {
        "colab": {
          "base_uri": "https://localhost:8080/"
        },
        "id": "nVx38COr641K",
        "outputId": "03704cff-a322-4c4d-dfde-b6584ed6e769"
      },
      "execution_count": null,
      "outputs": [
        {
          "output_type": "execute_result",
          "data": {
            "text/plain": [
              "8"
            ]
          },
          "metadata": {},
          "execution_count": 59
        }
      ]
    },
    {
      "cell_type": "code",
      "source": [
        "my_list.pop(5)"
      ],
      "metadata": {
        "colab": {
          "base_uri": "https://localhost:8080/",
          "height": 36
        },
        "id": "6gx1kcUe68qx",
        "outputId": "e6aa1337-6355-4219-fed7-414ac80b6aad"
      },
      "execution_count": null,
      "outputs": [
        {
          "output_type": "execute_result",
          "data": {
            "text/plain": [
              "'Googlepixel'"
            ],
            "application/vnd.google.colaboratory.intrinsic+json": {
              "type": "string"
            }
          },
          "metadata": {},
          "execution_count": 60
        }
      ]
    },
    {
      "cell_type": "markdown",
      "source": [
        "  ### **Dictionaries:**"
      ],
      "metadata": {
        "id": "5Fx7DAMLuqMs"
      }
    },
    {
      "cell_type": "code",
      "source": [
        "my_dict = {'Name': 'Pankaj', 'Age': 23,}\n",
        "my_dict['City'] = 'Punjab'   # Adding a city into dictionaries\n",
        "print(my_dict)  # Output: {'Name': 'Pankaj', 'Age': 23, 'City': 'Punjab'}"
      ],
      "metadata": {
        "colab": {
          "base_uri": "https://localhost:8080/"
        },
        "id": "ZWogB6x7v9TD",
        "outputId": "80564f42-36b9-4ab3-994e-06861e77953c"
      },
      "execution_count": null,
      "outputs": [
        {
          "output_type": "stream",
          "name": "stdout",
          "text": [
            "{'Name': 'Pankaj', 'Age': 23, 'City': 'Punjab'}\n"
          ]
        }
      ]
    },
    {
      "cell_type": "code",
      "source": [
        "my_dict.update({\"country\":\"India\"}) #adding country into dictionary\n",
        "print(my_dict)"
      ],
      "metadata": {
        "colab": {
          "base_uri": "https://localhost:8080/"
        },
        "id": "iwiX6NwO32-Q",
        "outputId": "a2250093-fe52-4a25-db02-131dffaa64fc"
      },
      "execution_count": null,
      "outputs": [
        {
          "output_type": "stream",
          "name": "stdout",
          "text": [
            "{'Name': 'Pankaj', 'City': 'Punjab', 'country': 'India'}\n"
          ]
        }
      ]
    },
    {
      "cell_type": "code",
      "source": [
        "del my_dict[\"country\"] #deleting country from dictionary\n",
        "print(my_dict)"
      ],
      "metadata": {
        "id": "v3Erc5uK8sGs"
      },
      "execution_count": null,
      "outputs": []
    },
    {
      "cell_type": "code",
      "source": [
        "my_dict"
      ],
      "metadata": {
        "colab": {
          "base_uri": "https://localhost:8080/"
        },
        "id": "RhlDeh9p8_36",
        "outputId": "555bfbdd-372e-4de3-ed6c-cc2af395f663"
      },
      "execution_count": null,
      "outputs": [
        {
          "output_type": "execute_result",
          "data": {
            "text/plain": [
              "{'Name': 'Pankaj', 'City': 'Punjab'}"
            ]
          },
          "metadata": {},
          "execution_count": 70
        }
      ]
    },
    {
      "cell_type": "code",
      "source": [
        "print(\"City\" in my_dict) #checking the presence of the key\n",
        "print(\"address\" in my_dict)"
      ],
      "metadata": {
        "colab": {
          "base_uri": "https://localhost:8080/"
        },
        "id": "6Gf9ojSp9Imr",
        "outputId": "f16ac4c7-6788-4174-b15b-c16b2f708705"
      },
      "execution_count": null,
      "outputs": [
        {
          "output_type": "stream",
          "name": "stdout",
          "text": [
            "True\n",
            "False\n"
          ]
        }
      ]
    },
    {
      "cell_type": "markdown",
      "source": [
        "### **Dictionaries Methods**"
      ],
      "metadata": {
        "id": "2V4FmS4-G9HW"
      }
    },
    {
      "cell_type": "code",
      "source": [
        "my_dict.keys() #list of values"
      ],
      "metadata": {
        "colab": {
          "base_uri": "https://localhost:8080/"
        },
        "id": "90qTtr9C8_wa",
        "outputId": "4d4e35d5-238c-45f2-f8c3-339279297072"
      },
      "execution_count": null,
      "outputs": [
        {
          "output_type": "execute_result",
          "data": {
            "text/plain": [
              "dict_keys(['Name', 'City'])"
            ]
          },
          "metadata": {},
          "execution_count": 73
        }
      ]
    },
    {
      "cell_type": "code",
      "source": [
        "my_dict.values() #list of keys"
      ],
      "metadata": {
        "colab": {
          "base_uri": "https://localhost:8080/"
        },
        "id": "1DV8WCeg--CD",
        "outputId": "620e572f-198f-4b8a-a904-bcca02157907"
      },
      "execution_count": null,
      "outputs": [
        {
          "output_type": "execute_result",
          "data": {
            "text/plain": [
              "dict_values(['Pankaj', 'Punjab'])"
            ]
          },
          "metadata": {},
          "execution_count": 74
        }
      ]
    },
    {
      "cell_type": "code",
      "source": [
        "for keys, value in my_dict.items():\n",
        "  print(keys, value)"
      ],
      "metadata": {
        "colab": {
          "base_uri": "https://localhost:8080/"
        },
        "id": "tutULJZj_Kaz",
        "outputId": "752b6914-e375-4380-d442-d82045c33ed3"
      },
      "execution_count": null,
      "outputs": [
        {
          "output_type": "stream",
          "name": "stdout",
          "text": [
            "Name Pankaj\n",
            "Age 23\n",
            "City Punjab\n"
          ]
        }
      ]
    },
    {
      "cell_type": "code",
      "source": [
        "my_dict.items() #list of tuples of key-value pairs"
      ],
      "metadata": {
        "colab": {
          "base_uri": "https://localhost:8080/"
        },
        "id": "PvSNCGyC_qMy",
        "outputId": "c4d76554-0358-4d7e-a9ca-41b7b92ae2d6"
      },
      "execution_count": null,
      "outputs": [
        {
          "output_type": "execute_result",
          "data": {
            "text/plain": [
              "dict_items([('Name', 'Pankaj'), ('Age', 23), ('City', 'Punjab')])"
            ]
          },
          "metadata": {},
          "execution_count": 79
        }
      ]
    },
    {
      "cell_type": "markdown",
      "source": [
        "### **Sets:**"
      ],
      "metadata": {
        "id": "2_jzIM-jxs-G"
      }
    },
    {
      "cell_type": "code",
      "source": [
        "my_set = {1, 2, 3, \"Iphone\", \"Samsung\"}\n",
        "my_set"
      ],
      "metadata": {
        "colab": {
          "base_uri": "https://localhost:8080/"
        },
        "id": "u8VRWQe7AxAv",
        "outputId": "227a79a8-3b01-46dd-e3f1-fcee2f834815"
      },
      "execution_count": null,
      "outputs": [
        {
          "output_type": "execute_result",
          "data": {
            "text/plain": [
              "{1, 2, 3, 'Iphone', 'Samsung'}"
            ]
          },
          "metadata": {},
          "execution_count": 109
        }
      ]
    },
    {
      "cell_type": "markdown",
      "source": [
        "### **Sets Methods**"
      ],
      "metadata": {
        "id": "sF1QfQyYIXaH"
      }
    },
    {
      "cell_type": "code",
      "source": [
        "my_set.add(\"Oneplus\") #Add the set\n",
        "my_set"
      ],
      "metadata": {
        "colab": {
          "base_uri": "https://localhost:8080/"
        },
        "id": "7nk-E2e7HKGf",
        "outputId": "1671ea07-459d-4d9d-c562-6245baf04188"
      },
      "execution_count": null,
      "outputs": [
        {
          "output_type": "execute_result",
          "data": {
            "text/plain": [
              "{2, 3, 'Iphone', 'Oneplus', 'Samsung'}"
            ]
          },
          "metadata": {},
          "execution_count": 141
        }
      ]
    },
    {
      "cell_type": "code",
      "source": [
        "my_set.remove(2)"
      ],
      "metadata": {
        "id": "bYTXegLNIppS"
      },
      "execution_count": null,
      "outputs": []
    },
    {
      "cell_type": "code",
      "source": [
        "my_set"
      ],
      "metadata": {
        "colab": {
          "base_uri": "https://localhost:8080/"
        },
        "id": "uyT8lt0QI3qF",
        "outputId": "a2f4aa80-ab7b-4827-9495-aa133429ff54"
      },
      "execution_count": null,
      "outputs": [
        {
          "output_type": "execute_result",
          "data": {
            "text/plain": [
              "{3, 'Iphone', 'Oneplus', 'Samsung'}"
            ]
          },
          "metadata": {},
          "execution_count": 144
        }
      ]
    },
    {
      "cell_type": "code",
      "source": [
        "set1 = {1, 2, 3}\n",
        "set2 = {3, 4, 5}\n",
        "print(set1.union(set2))"
      ],
      "metadata": {
        "colab": {
          "base_uri": "https://localhost:8080/"
        },
        "id": "IeuQx-d4I7Zn",
        "outputId": "273d0613-527f-488f-f236-c60b9a28f5d3"
      },
      "execution_count": null,
      "outputs": [
        {
          "output_type": "stream",
          "name": "stdout",
          "text": [
            "{1, 2, 3, 4, 5}\n"
          ]
        }
      ]
    },
    {
      "cell_type": "code",
      "source": [
        "print(set1.intersection(set2)) # intersection of sets"
      ],
      "metadata": {
        "colab": {
          "base_uri": "https://localhost:8080/"
        },
        "id": "xTYgJXfuJRIZ",
        "outputId": "4fb7b508-1f06-42a7-83a2-6d71c0bef240"
      },
      "execution_count": null,
      "outputs": [
        {
          "output_type": "stream",
          "name": "stdout",
          "text": [
            "{3}\n"
          ]
        }
      ]
    },
    {
      "cell_type": "code",
      "source": [
        "print(set1.difference(set2))"
      ],
      "metadata": {
        "colab": {
          "base_uri": "https://localhost:8080/"
        },
        "id": "RFgySncGJZ8j",
        "outputId": "9da08204-ce98-46a6-a043-7084f83a473e"
      },
      "execution_count": null,
      "outputs": [
        {
          "output_type": "stream",
          "name": "stdout",
          "text": [
            "{1, 2}\n"
          ]
        }
      ]
    },
    {
      "cell_type": "code",
      "source": [
        "set1.pop() #pop the set"
      ],
      "metadata": {
        "colab": {
          "base_uri": "https://localhost:8080/"
        },
        "id": "PDZAcikMKkRU",
        "outputId": "e0f73f27-7917-4190-fab4-ddcc25623cb5"
      },
      "execution_count": null,
      "outputs": [
        {
          "output_type": "execute_result",
          "data": {
            "text/plain": [
              "1"
            ]
          },
          "metadata": {},
          "execution_count": 148
        }
      ]
    },
    {
      "cell_type": "markdown",
      "source": [],
      "metadata": {
        "id": "ltHaWOIIOtO1"
      }
    },
    {
      "cell_type": "code",
      "source": [
        "set1.clear() #clear the sets"
      ],
      "metadata": {
        "id": "EFdNhwroKGgs"
      },
      "execution_count": null,
      "outputs": []
    },
    {
      "cell_type": "markdown",
      "source": [
        "### **Immutable Data Types**\n",
        "\n",
        "* **Definition:**\n",
        "\n",
        " Immutable data types do not allow modifications to their content after they are created. Any attempt to modify results in the creation of a new object.\n",
        "\n",
        "* **Key Characteristics:**\n",
        "1.Any change creates a new object with a different memory address.\n",
        "\n",
        "2.They are inherently thread-safe because their state cannot be altered.\n",
        "\n",
        "#### **Examples in Python**"
      ],
      "metadata": {
        "id": "iqRR10_KOHcX"
      }
    },
    {
      "cell_type": "markdown",
      "source": [
        "###**String**"
      ],
      "metadata": {
        "id": "3_rxVowvPPka"
      }
    },
    {
      "cell_type": "code",
      "source": [
        "str1 = 'Hello'       # Using single quotes\n",
        "str2 = \"Python\"      # Using double quotes\n",
        "str3 = '''Multiline\n",
        "String Example'''    # Using triple quotes for multi-line strings\n",
        "\n",
        "print(str1)   # Output: Hello\n",
        "print(str2)   # Output: Python\n",
        "print(str3)   # Output: Multiline\\nString Example\n"
      ],
      "metadata": {
        "colab": {
          "base_uri": "https://localhost:8080/"
        },
        "id": "u6hbcdW5sO29",
        "outputId": "fe5228c4-0408-473b-d68f-66386a5908da"
      },
      "execution_count": null,
      "outputs": [
        {
          "output_type": "stream",
          "name": "stdout",
          "text": [
            "Hello\n",
            "Python\n",
            "Multiline\n",
            "String Example\n"
          ]
        }
      ]
    },
    {
      "cell_type": "markdown",
      "source": [
        "### **String Slicing**"
      ],
      "metadata": {
        "id": "Ty4A90n2sbOK"
      }
    },
    {
      "cell_type": "code",
      "source": [
        "text = \"Python\"\n",
        "print(text[0])   # Output: P\n",
        "print(text[-1])  # Output: n (Last character)\n",
        "print(text[2:5]) # Output: tho (Slicing)\n"
      ],
      "metadata": {
        "colab": {
          "base_uri": "https://localhost:8080/"
        },
        "id": "sYISHNEIsnBf",
        "outputId": "12d70229-3890-4d53-c938-821eeb7910f2"
      },
      "execution_count": null,
      "outputs": [
        {
          "output_type": "stream",
          "name": "stdout",
          "text": [
            "P\n",
            "n\n",
            "tho\n"
          ]
        }
      ]
    },
    {
      "cell_type": "markdown",
      "source": [
        "### **String Methods**"
      ],
      "metadata": {
        "id": "xwt_bnjmtAXt"
      }
    },
    {
      "cell_type": "code",
      "source": [
        "s = \"hello world\"\n",
        "print(s.upper())\n",
        "print(s.lower())\n",
        "print(s.title()) # Chaging Case"
      ],
      "metadata": {
        "colab": {
          "base_uri": "https://localhost:8080/"
        },
        "id": "yqTvmJwetGwR",
        "outputId": "7e271ed9-acb7-495c-c7b8-c38bfd5f8dfd"
      },
      "execution_count": null,
      "outputs": [
        {
          "output_type": "stream",
          "name": "stdout",
          "text": [
            "HELLO WORLD\n",
            "hello world\n",
            "Hello World\n"
          ]
        }
      ]
    },
    {
      "cell_type": "code",
      "source": [
        "s = \"  Python  \"\n",
        "print(s.strip())   # (Removes spaces from both ends)\n"
      ],
      "metadata": {
        "colab": {
          "base_uri": "https://localhost:8080/"
        },
        "id": "_DiatcvEtdGq",
        "outputId": "429dc4b1-19d9-479e-f7b5-9889ae7e029d"
      },
      "execution_count": null,
      "outputs": [
        {
          "output_type": "stream",
          "name": "stdout",
          "text": [
            "Python\n"
          ]
        }
      ]
    },
    {
      "cell_type": "code",
      "source": [
        "s = \"I love Python\"\n",
        "print(s.replace(\"Python\", \"Coding\"))\n",
        "print(s.find(\"love\"))  # Replacing & Finding Substrings\n"
      ],
      "metadata": {
        "colab": {
          "base_uri": "https://localhost:8080/"
        },
        "id": "rgT3IPZvto6j",
        "outputId": "a71f1a5f-99af-44ad-a7b3-bebe0c16a172"
      },
      "execution_count": null,
      "outputs": [
        {
          "output_type": "stream",
          "name": "stdout",
          "text": [
            "I love Coding\n",
            "2\n"
          ]
        }
      ]
    },
    {
      "cell_type": "code",
      "source": [
        "s = \"apple,banana,orange\"\n",
        "words = s.split(\",\")   # Splits string into a list\n",
        "print(words)\n",
        "\n",
        "joined = \"-\".join(words)  # Joins list into a string\n",
        "print(joined)  # Splitting & Joining\n"
      ],
      "metadata": {
        "colab": {
          "base_uri": "https://localhost:8080/"
        },
        "id": "Suv8Y57HuBg_",
        "outputId": "80a0478f-ba6c-4e87-8fd3-0ea9a127f4a2"
      },
      "execution_count": null,
      "outputs": [
        {
          "output_type": "stream",
          "name": "stdout",
          "text": [
            "['apple', 'banana', 'orange']\n",
            "apple-banana-orange\n"
          ]
        }
      ]
    },
    {
      "cell_type": "code",
      "source": [
        "s = \"Python Programming\"\n",
        "print(s.startswith(\"Python\"))\n",
        "print(s.endswith(\"Java\"))     # Checking Start & End\n"
      ],
      "metadata": {
        "colab": {
          "base_uri": "https://localhost:8080/"
        },
        "id": "YkQSrSm1uYAq",
        "outputId": "bbcfae65-7939-43da-b279-9bb2f96954d5"
      },
      "execution_count": null,
      "outputs": [
        {
          "output_type": "stream",
          "name": "stdout",
          "text": [
            "True\n",
            "False\n"
          ]
        }
      ]
    },
    {
      "cell_type": "markdown",
      "source": [
        "### **String Formatting**"
      ],
      "metadata": {
        "id": "IC-sjRzDuxqy"
      }
    },
    {
      "cell_type": "code",
      "source": [
        "name = \"Pankaj\"\n",
        "age = 23\n",
        "print(f\"My name is {name} and I am {age} years old.\")\n",
        "# Using F-String.\n"
      ],
      "metadata": {
        "colab": {
          "base_uri": "https://localhost:8080/"
        },
        "id": "ofx84bsnu4VE",
        "outputId": "2572054d-54bd-4ac1-a424-9fdc3811025d"
      },
      "execution_count": null,
      "outputs": [
        {
          "output_type": "stream",
          "name": "stdout",
          "text": [
            "My name is Pankaj and I am 23 years old.\n"
          ]
        }
      ]
    },
    {
      "cell_type": "code",
      "source": [
        "print(\"I love {}\".format(\"Python\"))  # Using .format()\n"
      ],
      "metadata": {
        "colab": {
          "base_uri": "https://localhost:8080/"
        },
        "id": "Qf5Uoy33vE1F",
        "outputId": "d36e1789-f199-4867-f560-62daa25caaaf"
      },
      "execution_count": null,
      "outputs": [
        {
          "output_type": "stream",
          "name": "stdout",
          "text": [
            "I love Python\n"
          ]
        }
      ]
    },
    {
      "cell_type": "code",
      "source": [
        "print(\"My age is %d\" % 25)  #Using % Formatting\n"
      ],
      "metadata": {
        "colab": {
          "base_uri": "https://localhost:8080/"
        },
        "id": "GfNE61OWvgQz",
        "outputId": "d0757426-f853-4063-a93c-6a5f14498322"
      },
      "execution_count": null,
      "outputs": [
        {
          "output_type": "stream",
          "name": "stdout",
          "text": [
            "My age is 25\n"
          ]
        }
      ]
    },
    {
      "cell_type": "markdown",
      "source": [
        "### **Reversing a String**"
      ],
      "metadata": {
        "id": "DZVm9hJxv02E"
      }
    },
    {
      "cell_type": "code",
      "source": [
        "s = \"Python\"\n",
        "print(s[::-1])  # Output: nohtyP\n"
      ],
      "metadata": {
        "colab": {
          "base_uri": "https://localhost:8080/"
        },
        "id": "4bKflsuov0Cn",
        "outputId": "e99eae01-7a81-4500-de1d-7f7e945e19ca"
      },
      "execution_count": null,
      "outputs": [
        {
          "output_type": "stream",
          "name": "stdout",
          "text": [
            "nohtyP\n"
          ]
        }
      ]
    },
    {
      "cell_type": "markdown",
      "source": [
        "### **Checking if a String is Numeric or Alphabetic**"
      ],
      "metadata": {
        "id": "rdHlynOswIEy"
      }
    },
    {
      "cell_type": "code",
      "source": [
        "s = \"12345\"\n",
        "print(s.isdigit())  # Output True\n",
        "\n",
        "s = \"Hello\"\n",
        "print(s.isalpha())  # Output True\n"
      ],
      "metadata": {
        "colab": {
          "base_uri": "https://localhost:8080/"
        },
        "id": "3t7Sq_USwpLd",
        "outputId": "7bce45b1-23b3-433d-e56c-3d021b79cacd"
      },
      "execution_count": null,
      "outputs": [
        {
          "output_type": "stream",
          "name": "stdout",
          "text": [
            "True\n",
            "True\n"
          ]
        }
      ]
    },
    {
      "cell_type": "markdown",
      "source": [
        "### **Tuples**"
      ],
      "metadata": {
        "id": "Cv3S775-w5da"
      }
    },
    {
      "cell_type": "code",
      "source": [
        "# Tuples in Python\n",
        "tup = (2, 1, 5, 7, 8)\n",
        "print(tup[0])\n",
        "print(tup[4])"
      ],
      "metadata": {
        "colab": {
          "base_uri": "https://localhost:8080/"
        },
        "id": "u6mYHLF0w4wr",
        "outputId": "65482810-8bfb-4bad-9b36-66a0b92896d9"
      },
      "execution_count": null,
      "outputs": [
        {
          "output_type": "stream",
          "name": "stdout",
          "text": [
            "2\n",
            "8\n"
          ]
        }
      ]
    },
    {
      "cell_type": "code",
      "source": [
        "tup = (1,5,7,8)\n",
        "print(tup)\n",
        "print(type(tup))"
      ],
      "metadata": {
        "colab": {
          "base_uri": "https://localhost:8080/"
        },
        "id": "_C8D-WPFzEdR",
        "outputId": "51982e06-ea8d-4017-ea1c-9cfc351d04f3"
      },
      "execution_count": null,
      "outputs": [
        {
          "output_type": "stream",
          "name": "stdout",
          "text": [
            "(1, 5, 7, 8)\n",
            "<class 'tuple'>\n"
          ]
        }
      ]
    },
    {
      "cell_type": "markdown",
      "source": [
        "### **Tuples Slicing**"
      ],
      "metadata": {
        "id": "8ztwGhfBzN6D"
      }
    },
    {
      "cell_type": "code",
      "source": [
        "tup = (1,5,7,8)\n",
        "print(tup[2:4])"
      ],
      "metadata": {
        "colab": {
          "base_uri": "https://localhost:8080/"
        },
        "id": "1uJf9eqKzSf2",
        "outputId": "f470f9ea-2a54-45d5-dde1-d20dad99eef6"
      },
      "execution_count": null,
      "outputs": [
        {
          "output_type": "stream",
          "name": "stdout",
          "text": [
            "(7, 8)\n"
          ]
        }
      ]
    },
    {
      "cell_type": "markdown",
      "source": [
        "### **Tuples Methods**"
      ],
      "metadata": {
        "id": "THXEpnQSzasC"
      }
    },
    {
      "cell_type": "code",
      "source": [
        "tup = (1, 5, 7, 8)\n",
        "print(tup.index(7)) # Index"
      ],
      "metadata": {
        "colab": {
          "base_uri": "https://localhost:8080/"
        },
        "id": "3vbwXFTozgSR",
        "outputId": "95464bc3-2993-48ea-9f02-4eba24bd82ec"
      },
      "execution_count": null,
      "outputs": [
        {
          "output_type": "stream",
          "name": "stdout",
          "text": [
            "2\n"
          ]
        }
      ]
    },
    {
      "cell_type": "code",
      "source": [
        "tup = (1, 5, 7, 8, 8, 5, 1, 5)\n",
        "print(tup.count(5)) # Count"
      ],
      "metadata": {
        "colab": {
          "base_uri": "https://localhost:8080/"
        },
        "id": "jwV_V27EznIk",
        "outputId": "ae8966de-d9c7-40dc-9144-8567a1d2f3c1"
      },
      "execution_count": null,
      "outputs": [
        {
          "output_type": "stream",
          "name": "stdout",
          "text": [
            "3\n"
          ]
        }
      ]
    },
    {
      "cell_type": "markdown",
      "source": [
        "##**Q3.What are the main differences between lists and tuples in Python?**"
      ],
      "metadata": {
        "id": "C9o6Mgm18ktc"
      }
    },
    {
      "cell_type": "markdown",
      "source": [
        "\n",
        "![Screenshot 2025-01-29 124626.png](data:image/png;base64,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)"
      ],
      "metadata": {
        "id": "WovD4dem0AoX"
      }
    },
    {
      "cell_type": "markdown",
      "source": [
        "### **Example: Lists (Mutable)**"
      ],
      "metadata": {
        "id": "hLnaVu4P857v"
      }
    },
    {
      "cell_type": "code",
      "source": [
        "my_list = [1, 2, 3]\n",
        "my_list.append(4)  # Modifies the list\n",
        "print(my_list)  # Output: [1, 2, 3, 4]\n"
      ],
      "metadata": {
        "colab": {
          "base_uri": "https://localhost:8080/"
        },
        "id": "9YazMo5_9UJP",
        "outputId": "34c0f697-a340-4416-f4e6-9f9bba12e567"
      },
      "execution_count": null,
      "outputs": [
        {
          "output_type": "stream",
          "name": "stdout",
          "text": [
            "[1, 2, 3, 4]\n"
          ]
        }
      ]
    },
    {
      "cell_type": "markdown",
      "source": [
        "### **Example: Tuples (Immutable)**"
      ],
      "metadata": {
        "id": "0LnhDi3q9ZSj"
      }
    },
    {
      "cell_type": "code",
      "source": [
        "my_tuple = (1, 2, 3)\n",
        "# my_tuple[1] = 4  #  This will raise a TypeError\n",
        "print(my_tuple)  # Output: (1, 2, 3)\n"
      ],
      "metadata": {
        "colab": {
          "base_uri": "https://localhost:8080/"
        },
        "id": "XvffChxk9hnh",
        "outputId": "d4249b09-779c-4bf0-99ae-aa1f93e002e9"
      },
      "execution_count": null,
      "outputs": [
        {
          "output_type": "stream",
          "name": "stdout",
          "text": [
            "(1, 2, 3)\n"
          ]
        }
      ]
    },
    {
      "cell_type": "markdown",
      "source": [
        "##**Q4.Describe how dictionaries store data.**"
      ],
      "metadata": {
        "id": "CMrq0H0j_iB7"
      }
    },
    {
      "cell_type": "markdown",
      "source": [
        "A dictionary (dict) in Python is a built-in data structure that stores data in key-value pairs."
      ],
      "metadata": {
        "id": "UxoBL65q_7ey"
      }
    },
    {
      "cell_type": "markdown",
      "source": [
        "**1. Structure of a Dictionary**\n",
        "\n",
        "* **Keys:**\n",
        "Unique, immutable values (e.g., strings, numbers, tuples).\n",
        "\n",
        "* **Values:** Can be of any data type (strings, lists, other dictionaries, etc.).\n",
        "\n",
        "* **Storage Mechanism:** Uses a hash table for fast access.\n"
      ],
      "metadata": {
        "id": "kQOU3gtmAFvZ"
      }
    },
    {
      "cell_type": "markdown",
      "source": [
        "**2.Creating a Dictionary**"
      ],
      "metadata": {
        "id": "67ohuSjZEgBp"
      }
    },
    {
      "cell_type": "code",
      "source": [
        "# Defining a dictionary\n",
        "my_dict = {\n",
        "    \"name\": \"Alice\",\n",
        "    \"age\": 25,\n",
        "    \"city\": \"New York\"\n",
        "}\n",
        "print(my_dict)\n",
        "# Output {'name': 'Alice', 'age': 25, 'city': 'New York'}\n"
      ],
      "metadata": {
        "colab": {
          "base_uri": "https://localhost:8080/"
        },
        "id": "jM7qb9SZEt5k",
        "outputId": "e43fc450-7340-44a9-8e20-9327d26a02e1"
      },
      "execution_count": null,
      "outputs": [
        {
          "output_type": "stream",
          "name": "stdout",
          "text": [
            "{'name': 'Alice', 'age': 25, 'city': 'New York'}\n"
          ]
        }
      ]
    },
    {
      "cell_type": "markdown",
      "source": [
        "**3. Accessing Dictionary Elements**"
      ],
      "metadata": {
        "id": "l4WNdKmjE2Q8"
      }
    },
    {
      "cell_type": "code",
      "source": [
        "print(my_dict[\"name\"])  # Output Alice\n",
        "print(my_dict.get(\"age\"))  # Output 25\n"
      ],
      "metadata": {
        "colab": {
          "base_uri": "https://localhost:8080/"
        },
        "id": "0iRPbbvME__z",
        "outputId": "013d2427-ee5a-4bce-e90b-b1bae2cfe578"
      },
      "execution_count": null,
      "outputs": [
        {
          "output_type": "stream",
          "name": "stdout",
          "text": [
            "Alice\n",
            "25\n"
          ]
        }
      ]
    },
    {
      "cell_type": "markdown",
      "source": [
        "**4. How Dictionaries Store Data Internally**\n"
      ],
      "metadata": {
        "id": "KpPhOkhuFuVF"
      }
    },
    {
      "cell_type": "markdown",
      "source": [
        "*  **Uses a hash table:**\n",
        " *  Keys are hashed (converted into a unique number).\n",
        "\n",
        " *  Values are stored at the corresponding hash index.\n",
        "\n",
        " * This allows for O(1) average time complexity for lookups"
      ],
      "metadata": {
        "id": "-5lz7GEtGIED"
      }
    },
    {
      "cell_type": "markdown",
      "source": [
        "**Example**"
      ],
      "metadata": {
        "id": "_aA0LRWXI-wt"
      }
    },
    {
      "cell_type": "markdown",
      "source": [
        "Hash Table Representation:\n",
        "\n",
        "Key      -> Hash -> Index -> Value\n",
        "\n",
        "\"name\"   -> 4532 -> 0     -> \"Alice\"\n",
        "\n",
        "\"age\"    -> 7891 -> 1     -> 25\n",
        "\n",
        "\"city\"   -> 9123 -> 2     -> \"New York\"\n"
      ],
      "metadata": {
        "id": "hXBgMnBlIrzG"
      }
    },
    {
      "cell_type": "markdown",
      "source": [
        "**5. Adding & Modifying Entries**"
      ],
      "metadata": {
        "id": "Gp2Np-11JKrG"
      }
    },
    {
      "cell_type": "code",
      "source": [
        "my_dict[\"job\"] = \"Engineer\"  # Adding a new key-value pair\n",
        "my_dict[\"age\"] = 26  # Modifying an existing value\n",
        "print(my_dict)\n",
        "# Output {'name': 'Alice', 'age': 26, 'city': 'New York', 'job': 'Engineer'}\n"
      ],
      "metadata": {
        "colab": {
          "base_uri": "https://localhost:8080/"
        },
        "id": "5rn8YijoJQGc",
        "outputId": "c0cd1628-78f4-4911-ebe6-61fc6272dd4c"
      },
      "execution_count": null,
      "outputs": [
        {
          "output_type": "stream",
          "name": "stdout",
          "text": [
            "{'name': 'Alice', 'age': 26, 'city': 'New York', 'job': 'Engineer'}\n"
          ]
        }
      ]
    },
    {
      "cell_type": "markdown",
      "source": [
        "**6. Removing Entries**"
      ],
      "metadata": {
        "id": "Bxd_u81aJYW4"
      }
    },
    {
      "cell_type": "code",
      "source": [
        "my_dict.pop(\"city\")  # Removes 'city'\n",
        "del my_dict[\"job\"]   # Deletes 'job'\n",
        "print(my_dict)\n",
        "# Output: {'name': 'Alice', 'age': 26}\n"
      ],
      "metadata": {
        "colab": {
          "base_uri": "https://localhost:8080/"
        },
        "id": "lXi4XUMFJfKJ",
        "outputId": "76d4ce25-8902-466e-e3b3-41f2c3744b0d"
      },
      "execution_count": null,
      "outputs": [
        {
          "output_type": "stream",
          "name": "stdout",
          "text": [
            "{'name': 'Alice', 'age': 26}\n"
          ]
        }
      ]
    },
    {
      "cell_type": "markdown",
      "source": [
        "**7. Dictionary Methods**"
      ],
      "metadata": {
        "id": "aVzG48mbJkG9"
      }
    },
    {
      "cell_type": "code",
      "source": [
        "print(my_dict.keys())    # Output dict_keys(['name', 'age'])\n",
        "print(my_dict.values())  # Output dict_values(['Alice', 26])\n",
        "print(my_dict.items())   # Output dict_items([('name', 'Alice'), ('age', 26)])\n"
      ],
      "metadata": {
        "colab": {
          "base_uri": "https://localhost:8080/"
        },
        "id": "HaYUnUu-Jmfc",
        "outputId": "b9f29538-b9bb-44a0-98c4-5ef2c1958755"
      },
      "execution_count": null,
      "outputs": [
        {
          "output_type": "stream",
          "name": "stdout",
          "text": [
            "dict_keys(['name', 'age'])\n",
            "dict_values(['Alice', 26])\n",
            "dict_items([('name', 'Alice'), ('age', 26)])\n"
          ]
        }
      ]
    },
    {
      "cell_type": "markdown",
      "source": [
        "**8. Why Use Dictionaries?**"
      ],
      "metadata": {
        "id": "18G-f1uUJ09S"
      }
    },
    {
      "cell_type": "markdown",
      "source": [
        "* Fast Lookups (O(1) on average)\n",
        "\n",
        "* Flexible Data Storage (Supports nested structures)\n",
        "\n",
        "* Efficient Memory Usage (No need for sequential searching like lists)"
      ],
      "metadata": {
        "id": "Tu9Ye6BIJ3na"
      }
    },
    {
      "cell_type": "markdown",
      "source": [
        "##**Q5.Why might you use a set instead of a list in Python?**"
      ],
      "metadata": {
        "id": "Tl5gz_jHiYvu"
      }
    },
    {
      "cell_type": "markdown",
      "source": [
        "* **Key Advantages of Using a Set Over a List**"
      ],
      "metadata": {
        "id": "JQUJu4n7lotD"
      }
    },
    {
      "cell_type": "markdown",
      "source": [
        "![Screenshot 2025-01-29 153748.png](data:image/png;base64,iVBORw0KGgoAAAANSUhEUgAAAzAAAAGGCAYAAACkBGRaAAAAAXNSR0IArs4c6QAAAARnQU1BAACxjwv8YQUAAAAJcEhZcwAAEnQAABJ0Ad5mH3gAAACdaVRYdFNuaXBNZXRhZGF0YQAAAAAAeyJjbGlwUG9pbnRzIjpbeyJ4IjotNTQxLjg5NjM2LCJ5IjotNDAxLjI1NDE4fSx7IngiOjEzNzguMTAzNiwieSI6LTQwMS4yNTQxOH0seyJ4IjoxMzc4LjEwMzYsInkiOjY3OC43NDU4NX0seyJ4IjotNTQxLjg5NjM2LCJ5Ijo2NzguNzQ1ODV9XX0Vc2K9AABwEUlEQVR4Xu3dD7heV13g+zc+M/fOKC20RUfSmAlJb2cUh1Zpq9S2XNsh6QW9oIZpWpAbKU9KIiKDNcVaGB6IvSRWRGTSNg/FDo5NkQhFb7EJ0861qUVK0ZYBGWsSMjENjpZSCuPM3DvPzc13nfd38svK3u+f8yfn7HO+n+fZ2e+7373XXnvvtdZea6+1T5YcPaYnSZIkSR3wbf25JEmSJM17NmAkSZIkdcbxIWR/tKTMJEmSJGnOvaz5TRd7YCRJkiR1hg0YSZIkSZ1hA0aSJElSZ9iAkSRJktQZNmAkSZIkdYYNGEmSJEmdYQOmiy54fOLPytXT93+yv4IkzQLKmIufmihvLv0vvd4PfKbXe+6l/R8lqe87rzpeN2kS9ZgX/7v+Amk8NmC66Nv+Yf/DKRCFzD/97f4CSYsSFY2z/vde7++fNfH927691zv9h3u977l+4vuoKEsoUyhbJC1M/9M/6n+YIZYbqtiA6bKv/f7Ef0Aa0xdf1f9hBkVj6e+dPjGXtDg996UT8yh3Prti4vO4oiw5lQ9iJM0vj543UY584Z/3FwxhuaGKDZiFiu7bPNTsh/+q11vx7v6PfQz/iOEgTHzOw9BY9g//l4nPPHnle/zO8BG+n/2Wie+I/eUwWI+Jfcc2xA2jxFHS/ECPC/7+d03M/9t/mnhokh+c/IN/PFGuRF6vy5SLnpgoS0DZwjosk7S4NNUX+Bx1EuZRH7DcUAMbMAsRY9L/6Yd7ve94cX/BMf/zsl7vH7/jeIFAw4PhHzEcBHymkDjnN/sLGvyPZyfmUZnJmp6MsB4T+45t6FoeJY6S5o+v3z8xp9ygcsGQDhos2fkPTfw+2djplymDxrn/f/+1/0HSolHXF6h3UFZEnYT59/zCxOcmlhuLng2YLiOz8yQipmh4/ON/NVGB+C9fmBjmQTdtDPV4fv9p6ZMf6PX+87/t9f583fEhaP/98MRv/2D5xJxl//UvJz7HsJH/+NMT38dF2I9dNjGx71HiKGn+YKhHNGKoXPyj1/V6F/758QcOzHkI8f9+bSKfk6f3/fzEbzH87JFzj+dzyhbWYSiJpMUt6h3UCaLs+O9PTiyz3FADGzALURQE9G780MGJxk10v/69Myfm+B/P9HovfM/xBhCVj9nyV7/a631j78SEUeMoaf6gEUPjhMrE//d3Ew8heEpKT8xz+hUKGjfnP9h/qPIbE8tYr+6tkaTwn++aKFOoEzAE9buu7vX+4tr+j9LJbMB0WfSKxLTv5/o/DBDdrvTWnP3m4++4zCd2DUvzFw8heO/lP75h4juNk7OG9JpSMZGkNn/70V7vC1eeOFT1xff5Z9rVygbMQsQQDuThWTHRFYu6u5b1YghZk2/7jol5FCZRIYleE96pGafnZJQ4Spof+IMb9R/ZOOvH+h+O+daf9Xr/7dDE5zyELKa9x8oPXvrPYgy8FRRJvMDPn2R/4tqJ8oJyhIcjz/mB/gp9lhvqswGzEP3Nzol5Hp4VU/zFj3gZn3VYznpNQ8iioXHGFRPrxf/58K1jDQ/EcoaKxMt3oxgljpLmj/gjG5FPeQcGz/7JRK/M4VsmHmzkIWQx5b8YFA0dwuO3f3LHxHdJC1MuC5ja8EA06gNRn+DhCCw3VLEB00XDhljxkjwvwNG7UYuGCy/j01UbPSn0vkTXbXZg8/EX+Vn3W/3/ROrL604Mn0rMf3pP/0vSNnRklDhKmh8Y3vHkB0/speUzw1j/rP+CPj0sDAGhLKjzfS6zGOrKOuHvvtz/IGnB+H/+c/9DJcqGuh7DOzC5PkD5Qp0i3pu13FBlydFjyie6+SVJkiRpPmjptbMHRpIkSVJn2ICRJEmS1Bk2YCRJkiR1hg0YSZIkSZ1hA0aSJElSZ9iAkSRJktQZNmAkSZIkdYYNGEmSJEmdYQNGkiRJUmfYgJEkSZLUGTZgJEmSJHXGkqPHlE9PXNfrvWBD+ShJQ311h2WGpNFZZkgaB2XGubf3v5zIHhhJkiRJnWEDRpIkSVJn2ICRJEmS1Bk2YCRJkiR1hg0YSeqobe//SG/J6Rf0v829K3/i53rnnPfq/reFg2Pa9Lb39r/NPeJz9649/W+ar7hG5M8DB58s3x/6zGPlO/MumO3yhbDZR+D7fMpns4HjW4hl5FywATNH1v3MjSdl3jDot0Ee/w9PlO3OXH75ZIEpLRSk7TxJixGV4v1fOdxbt3Z1f4nmSjRILI+kU88GzBx55plv9j+dbNBv0mJEBWHjG9f2jj77aJn27v5QedofuvZkc6G67xO/2dv3+D39b5oNd/7OH5S8oLl318fu66254qXlsz1i00fZvv19b+9/mxnzrfdUM8cGzAJy3j87txQATx96oLdyxdn9pVK3RaPkmtdcWea45KXnl8qytJjQs777/s/0Lrv4B/tLNJdu/dCu3k2bry2NGBqWkk4dGzAdEEPDGFrGUx6eKPCd+af2/HF/rePrMWUMRYtteGod6+Un2Aw7Y1l+gt00lO1rT3+jPM2I9Qm3HurGb0yExT5Yj+9NQ+Jy3FiHsNlHIK4RD6b8ex2XODYtTA9/9gv9TyciDVy65o3lM/NIJ4FKX6SfmOqeGtYn/ZAeY50sb8tUD9Fk+/iN9DxMXp8p50VEnIln5A+mfFy1GG9fH1scUxt+q/Mm+8nHQZisV5/LYdsh4hVTHFPelu/1sbXFO5+PCK9NU7hgu7z/KKdiGvY0nfXraxbHWaeNYWHX56fePnvk0S+V+UUXvKjMQ4Sb91XHD/X1Yxp0/tSO873qhcvKw5T1r/3x0rAcdO0GqdNITrOR9/J1iutY5786vQ9LD7Wct5rWb0vjLMtxIQ5MEfeYhqW1QeVATHX+yb8xRdxi3wy3pKEZv2fsK5Yz1eczY13iV+M85XNVx7c+nlqsn8X1rY91WNixXUz19guNDZgO+Oa3/q7MP/p7e3pXv+HGkiHB/JVrf34yw8Z62e0f/njvhnd+YHIbCtkffeWbyufs68882/90XNNQNjIqhUGsT7iE/8vv3l6+g9+YqEyyv1jGejlDsU2OG+sQdi4Mfup1m8txB37fdc/95fM7ttx6QlzY1//5vjvLZy0cVBB4wklaoVCuMeSAIWVgnochcBNb9eJX9ba++y2Tw892fvjmkjbrwp3088AffW5yPcQNgW1iOWERZuQ7biqkw/h9yzs2DbwRRh6K9Zn2Hfirxpsj8bzztneVdTg2tmu7KcU7EQxryXb81sdnbMgRx73/C58s8eGccE0GVUr4jTIrnz+OKfL8uLgWG37mJyfDimvZFgfW5Zxlse7aV19R5lwPKqA5TOIc13c6uKYrX3j2ZNhcQ8KOaxjnJ9It53bTv2yv8Bw6/Ndl3tTDTjhxHIRDes7pkH2Nmhc0HD0uq6/44fI5GpRxbxoHaYT8H9eEiTQb90HKPxpKOV/TkKVMpLwKpFfyVfRUU7nN4V7+sgsHXufYX16f/D1VHMP6N02UXUykO9LaOPmK9FvqCP0yh4l0HigP8m+Uc6tf9bPlN84byzh3efhx4HgPfOXJyeWEw77aym7OK+e3LmvIZ+Q7sO3BQ0dOCHNQmT0OridleYTNRNi5EVPn75vec7xethDZgOkYMuJTB+/vPfbHd/WX9HpHvvq3/U8n+9XfmMiMV/3U6rIdGeqil5z49G5U9PY8+md/XgqEKDSi4lhXEnDBD3xfWY/9sg3iBkzvyc23fLh8zjdv1mMf0ZMSFR2Ol3DInIHCB7e9/8ayPTfjM884vSzTwsJwMa4vuGk1NWSabNl2R7nRb37r6/tLJir6bUM+6mFpt3zgt8u6+YXpCKutssK6eX8ZNz9ueJFvAo2Uppsjx8yNGFGRefDhPy3fm1A+5LxIeLlSM13EOyrPcU7aesZApYs45/NHXp0KKgeEVV9LltWNthCNlFyBiPcW4ji45jl+URkdVK6Ogn1y7vOY/miMtw03Ik6DhkZSOeJ4m1A2xnEQDvvJFdxx84LaUQknH0e+ivNNBXMckUb2fPJf95dMIN8TflT2aSjtuf9PymdQBjB0jXVClEdRXtS47jmdZ3E8PHwJrJ/vt+Mineb34SLdjdPIo0FBHCKvIpcffM6/MbQy6gyDRDm8/deP503Cofxsu4ZR/uayJsqVOK8cY87vhMk2Ue+ZKq4P5Tr3iYxz01T3Cgv9fUQbMB1D5jjrzOeW910oMPGlLx8o8yaRmd+84V+U7chQPFmZii/++f4yJ0xa+lQieaICekHy0C/8+nvfVvbHfnkSij99/D+W+Zf/4itlDsIgrPJ0tx/fJ/uVBwoUnP8j15QnJsuXfXfvujdMhBVPPd701pvLUywKiffctLEs08LDTYIbVlT+R2nE8ASSJ+A1lvFb1lQxpJHMjS4aTTFlcWNmeTzFbHP4yb8p86Uv+M4yD/E9fm9zzsrvmWy4N4kKVdxYaVxwXG2VmukibCrVbah0xVPq6WI/lA/1tRhUYaH8oZzMjT7iFGVHoPyI8CiHMOxaDBOVlhxXplzpjAZNlIHDDLr2tTqNj5MXNFhTY4E0RVqsH0IM0tajtuzs7yrzaETH0/9o0JCGI+3E/misxv0S17/lpyfzy7BhTG1DE2fasPIii2Plnt+GdXLeit6Z2LZN5O2ox8Q0qDEA6jF1QzKfc3Cuc5hcg1GPuU2kgygnYqp7yGjQsIzfxkmHXWUDZo5FhT4b92byjWe/1f80d8543mg9H6P+hbXTT/uOMqfBxtMoCmp6ZiigYrgaFVoqsxQgFBJk3GEVSHUfN+5oxOQn67OFtEfDqZ6i4QK+04MYjZ22YQizjXNDJSGeqPM0MR4eLAQcW30dmPJTzxoVy6iYRI9UfhLN9aJhGGFxHWdSjmdMuZeFzyzj2IjLoDKsqQGiUy+e0nO9YorKc1tv4HREvqbhRBomvYKHkbE/yp7c00qjiHRFWUn6J46norw8VTgP9ZCp6KUfVYwkydOgXgt6dCk/onHAec3nnLzLshwe122mcC1z2DEF7kl8p0406kORLrMBM0d+4sd/tMx5v4P3VEAPBpVzMgi+//tWlfl0ROb54I7fLXOeTHzsE/+ufM6iAfKHn364zMmgdUMqnoQQZp3x+ctn9LSMKj+BbsqU8WTrwpe9vjyN4iYfhdPn/+zLZc7L/TxJofISlQ4aOVo84kll3aMR2nosWBaVgEHGeTodFQZuHm3DEOonqyG+x+/TwTAQKjMxPCWGUbUhP0/3CWGbpvPf9HS07TplK5YvnSwbxxGNFco0eqTyE9OIC8NxxjFKuojyctjT4EDFqR46VJvqOcB084ImkI64Bk33LdLWsKf4WVsaaeqppSeTXhbScDRkL/6hF5cegahQx30zYxlx40FM21DBtnKpLhfa1hsV5400PIrolWobfhXnKD9IatKUtqd6HNGjyzXgnFN25nNOmTDusLtRyolRe+hDrhMtpEZrzQbMHKFSEY0GhkDRUn7+iism3wvhnZVXrP6R8nk64ukrDSX2wROLpkp+3OTZP+vReq9vlC+//IdKnFled72O2/MRBQHqblGmQFzj93jCFYU3vTks47cY9jGTTzs0P9AlXw+B4OXQ+uaB+n0Mnr5HZT7QO8KyUSqtMXSj3j9DjuKGQ9qPCgSoULRVCIkv8Sb+GWmc/NBUARlX5GXyBmFGRaANFaNc6eJYx6mEDdJ0/iOvZjxJzhV3rlE9PCK/dJ/V578JFUueVNOwrJ9SIz81j5eAB4mx9rFfji/KpxDXoQ6P8xvng+PMvXUx1K3tmo3bKMqmmxc0gbTSVPYg/rz1sPQYIo3kP9zAtSUtkWZzOiDdcq1oxMR+iAPpkPebcsMcuYwC27b14DWVS6SNuhyIY875Jd+vM+JFHEKUocMeqGQcE+VAPo7YXzRCIj3HeWuSh30hjpdyN6vzYxPyEeUI56Du3abczw+vOGbOwyD1H4DgOOoyMupLHF8+Fxx7nFfSXC4bY1jgTDwUm69swMwReiv+8rFPlAxKRgq8+E4L/u7fOt4Vetpzvr3/qdlzT39OmTetx9OJG69/w2RjiYZRXdCBd0f4LbDOvbt+o/9tAnF+9MHfLr/VQ8ae97zT+p8GDyfL6/3OHVvKsebjR94+/85y9h3vubxl47pyvgLx/71/u63/TQsFT5N4SsyNKyZuFLmrnwKetBLjf+MmRAWBJ6UU/LEt6/B0qqkCUisVhGPrciOP7Zl4mTIqF7wImhvhGPQiNvEm/jk80vWgbcYVeZyb7TCcX/JYjv+4TxHbcP4JK5//eDKYUU5xg44HI1TS6uEgnG+eJFMRi7CYOMZh15LKX1TG6nXzEBum/CJzG46LcxzXnb/2Qzg14osIm4kn0FFx5bip8MRvxKPp/ISo7ETlZBzTzQuawDVqG5YZ1zVX8IchjfDkPq4JeYA8Uw+LjGtE+s/vqpBvWJYb5qCMivzExHp1mBnlEpXtWJ/el6YhWXV+4Xt9DwfLyEuxXqTt3CgbhviSz/JxRJw4H7lsYZ2m+FI+x3HlBhXHyzmJcJk45mE9OlxjwuN46sYYZXg+h2Afg3A+iHfcuziOpjKAsOtzQY9aXFPOBw3U+I3zQrgLOW8vOXpM+fTEdb3eCzaUj1rYqNyRWchYM1lp0iLz1R2WGfNU5PGoQM833GCpfAyrLOhkPGWlojKoMjpvWWYsCvQK0OuRHzJJU0KZce7t/S8nsgdGkhYYGi/RC6OFhR4nnv5K0mJmA2YRiiFnkhaeGBNeDynRwsAQFobn5HdZJGmxcQiZpKlxOIikcVhmSBqHQ8gkSZIkLQQ2YCRJkiR1hg0YSZIkSZ1hA0aSJElSZ9iAkSRJktQZNmAkSZIkdYYNGEmSJEmdYQNGkhaIc857dW/T297b/zaz+I8Tl5x+Qe/AwSfL94c+81j53pX/UJG4EmdJUvfZgJEkLXgb37i2t2XbHf1vkqQuswEjSRrbJS89v3f02Ud769au7i+ZPnp3ZqtX55rXXNnbff9nJnuQJEndZQNGkrTg0eDCrnvuL3NJUnfZgJGkDop3UGJq6rW48id+rkxZ/S4L+E54vD8T4fE+zSBtvSXsL8Jgyvup45z3se39H+mtevGryuer33Bj+b2Oe96Wqe5NGRb/NVe8tPfAH32u/02S1FU2YCSpY6i4X7rmjb2t735LGcbFdNN7tvf2f+Vwf43xEd6K5Usnw0PdgBiG9fcd+KvJMPbu/lBv07+c+KMCNF7Wv+ldk7/FPuKPDmx+6+t7+7/wyfJ554dvLr/f94nfLN+jsRTLmTh2GjzRiKEBdOuHdk3+vuUdm8qybOULzy7xkyR1mw0YSeqYGAZFpT/se/ye3qoXLut/Gx8NghweDYBx3hmhgcL6d972rv6SiWFb0QjhM3HMVl/xw70DXxke/i0f+O3Se5Lft4m4tg0JY918PKCBNp1GniRpfrABI0kdwzAoKvSzadnZ31XmR776t2U+zOEn/6bMl77gO8u8SQxfi4kek1F6RGjk0DjK2zJl0Vhh+bCeo1EbZZKk+ckGjCRp1jGci3dbGFYWw7z408ajosEW2+Up97LwnWFo0diph5CFlSvO7n+SJHWRDRhJ6pi2dznq4VHTeedjlB6VbFiPzcFDR0ojJP4aWJO2hsU4x0EYNGRoHO34rY/3l04gDtMZZidJmh9swEhSx/B/mtBYyT0MTX9167KLf7Csx/spYAgXvSBNbnjnB04Ij/VocIzaW0HDhMYBL+oH9hvDuXj/JL9TQ1wYQtbkwYf/tP9pQhxvvPAfOOYIj/3EcWLP/X/SO2fl9/S/TWAoWr1MktQ9NmAkqWNoLPAXuWh0xPsgvDxfvxfDi+z0RPAXxliHv1TGEK4mvMTPuzURHmHFC/ijipf0Iwz2u/3X316WMdSLMPnLYREX9lnjuGjYsE40WDhehobF8pg45mhgsZ84TibU8acBdfnLLux/kyR11ZKjx5RPT1zX671gQ/koSUN9dYdlxgJBhb/+K2QLDb0zNHBoCPkOzByxzJA0DsqMc2/vfzmRPTCSpAXvro/dN9aQOEnS/GUDRpK04DH87KbN1/a/SZK6zAaMJC1y9Z8jXog4xkF/AU2S1B02YCRJkiR1hg0YSZIkSZ1hA0aSJElSZ9iAkSRJktQZNmAkSZIkdYYNGEmSJEmdYQNGkiRJUmfYgJEkSZLUGTZgJEmSJHWGDRhJkiRJnWEDRpIkSVJn2ICRJEmS1Bk2YCRJkiR1hg0YSZIkSZ2x5Ogx5dMT1/V6595ePkrSUJYZksZhmSFpHAPKjBMbMJIkSZI0H4zUgPHJiKRRWWZIGodlhqRxDCgzfAdGkiRJUmfYgJEkSZLUGTZgJEmSJHWGDRhJkiRJnWEDpuPWrVvXW7JkSW/btm39JWqzadMmz5UanXPOOSV9zIa77767pLsDBw70lywsV155ZTl/p8KpyL+jXi+OmWM/VTjumdgf8eYYx8F+LTenjzLmVOWVmTabea8LZeRU8k2N45vKcTblv6mGtZDYgJkFp7JR8cwzz/Q/zZ2vfe1rpWA+88wzy3GT0Tl2ls8nizmjz0dx06qn2WpISF12ww039NavX9//dhxl7ah5iDy3f//+co+qRThN9y32y/41WFQqY+pqY0UnGpRvaFzka87U1tC55ZZbemvWrOmtXLmyv2Q0TfmPMAiLMBcrGzCzYD40Kk4lMvCtt97a+/rXv16+k9HJbF/+8pfLd2kQ0gt/zT2m7du393+ZPioQNohm13333dfbt29f/9viwTFz7KdCVIjqChTpm7K2zkOUx02V5zvvvLO3cePG/rfjqHQNaqDEftsqZppovKxataq3devWyeuwZcsWy58FoCnfRGOVciDnvb179/auvvrqxutOvmx6CDFMW/4jLMJcrGzAaFoef/zx3qOPPlo+k3HJwNxMr7rqqrJMkjQ9VKB42prRU0JZy1Q/0Y3luTeFCtfu3bt7l112WX/JBB5AUfGm7B6E/RMPNXvkkUfKfO3atWUOKp4z+UBGp15bvqGBQr6pH95ccsklvZ07d5aGxUMPPdRferzxcdFFF5X5uJryX4S1WB8s2ICZAzHkiidk0eVIQZcTO2gcsDyGZjFnOzJUG7aJ9fkMwuB7vpndfvvtZRk3r8B2TGwX3aJ8/+Vf/uX+Gif75je/2f/U6x0+fLjMuZmSocjIIDzCIh6f+tSnJo+beZ3x4pj5nenCCy8s22RtQ9ayWCfC4fN8G9Km4cgTcQ3jWtdyPuI6I7ajEseNJH4fB2kzthu0fT2EIOLQJp7cRd6L73Ve4PecP/k9jj/vr0779Tmry5WMbVkna4rPoDA53nxd4rxFODHVx4f8e0xN17iW83Y+RyGOK6b6mowSNwxap74+7IPvcfwxsa+s3ndMTccRqEBdfvnl/W8TduzY0TocJYaXsE6ICnZdgRq1B439Ew8NFud5VE3pYVD+QqTvnLYij+Zt67RYpzHCIey8Xp1eB6nzWVveZXlej+0GiXMS8W06NhBuztuEyzb1Oa3zboQXUx1u1pRvCJ+8sGHDhv6SE1GHwV133VXmePDBB0uDJ+fXiEcd36bz05T/CIswCXtROhr+YkP/g6br2I2DR1lHt27d2l9yogsuuKD83jQ99thjZZ1jFa+jZ5xxRuM6xxLs0aeeeqqsl/fFsthm48aN5Xc0xYfPLOO3wHempv22HQvy8RDezp07+79M2Lt3b/mt7Xj4HYOO+d577y3roO383Xjjjf01jh696qqrGtdhGnQsGsM0ywzSCdeD696EdEFaz/hep+2chvkt0hPq9dvU60X+yGHxex1ftqvjyDo5Tvk4merfY1mdb+pji3AiLETeim2bwqrjl8VxZnUYw8LkvOTvOZ4h9hPxBtvkc14fb5MIt45bztN8zuE2xb/eZirxr+Mb6SMv43N9/pv2neNba4o/6nBqEZ8QxzDIoDDjvORzMLYFXs/gWnKO6mseuCb5t8i/+ZzHeY7rHevksijSXk4ThJHDbrre/J7TZ6zTFt+sjmekrzpP1Pvke95npOec5nPait/zNk3nAMQ7hxPHwxQi7Ng2ws/nbtDxN53Htvhk9bnmc/6OCIcpzmMd35DPUdYU7oIyoMywB+YU40kAQ66OVdRPGHJ1LLGX3+kZAS9m8U7Jscp6+Z31WB98//SnP10+Zzx5YJtjGXpa3darV68u+zjWIJoctpCf5NV4ghfr8YSA8Z/0nEQPUCBuxwqDEi7hcw4QTynuuOOOsg7Dz1iHY2Z9fOQjHylzemM4f5yv+rzEWFCeZnz0ox8tn9k+1olzrPmF65KfPsXTMnrw6ifDpE2ubxvSffT8TQfvA5B2cliRp3bt2lXmxJM0uGfPnvI9HLvRlHzQFE+Olfw5nXcn2Gc8xSN+5L1BQ3tGebo+rlHCJJ4hhtXE00zODb9fc8015TsYzz3KE36uSzzhjJ6GBx54oHzH5s2bTyj/4inloUOH+ktO1nQ8g+Lfhv3ka8sxEU6khXjSm4cZ8RS3TkPZkSNHynzZsmVljkF5IKxYsaL/acLBgwenVQbG/iM+OhnpiPTJNacsa+uRCLwjQ/olzQbSds7TUQY9/PDDZQ72Q9rKT965R1M+BsowyqKM/TWVTYPSXxO2535L+LlHIfJdlOHRk5DzBOtzjtre3ZiJMpJ7fuB8EmbuDakNKs+a8k2MNhmkvvbsI5+rjPpJ/BZlW77eaMt/bDco/guZDZhTLG6idEdGwUQCjK7IKFhi/prXvGYyYUdlBfXNmMIrGkbvec97+kun5s1vfnPZ51lnndV7y1veUpblm3mN9ShsHnvssckX3YhL00uhFNSsT/ixbhzr5z//+TKn8fH85z+/3AAijNj/F7/4xTLnO4UK61x66aVlGY0fhonlDB43Bs7dsJuJ5gbXkhtOTFGAgxthNGyYuOnlwvqmm24qN2R+GzYsYVSRHpcvX17mGWmOGxoiD0b+DG03GrYl/07n4UIT9h/nJPIVDxE4J3Es0zETYcY5yuesrlQ0vecxinz8IQ8xYyKNxXUDFSjKFn4bNHwk1PEfVZ0WosyPRjDqimdtlMpSk3y8mIm0gKnGZ7HgnkM5RuWedDfovtNWqa3TNPkvGumkV9ILdYhoeHBt2Vc8EIhrHXk2Jr43aYrDIJGec6MadT5pazRH2VqnydkqI7kGsS/iOE55Nuz3NnWZxPUZVb7P1Jry3zhhLyQ2YBYIei1I9FTi3/e+9/WXTt+zzz7b/zTceeedVwqe2267rXwf9jSVuI6KRs8w0aOjhYEGCTeZ6KlkikZvoEIYlYVxKqRzIXpm6vcxZhp5kHNCRYAyYSYa7rMRJvL7Sdzwp/PUNdATTbiRZpiIcxaVTNITD0DY/6kUaZWJczmowlZXEkElbFAlB1S8coNw3Epqm6b46GQ8iIlGzHTLJBom0XNCo58XyuN6EjY9g6SHaCAH9p/zQUwzlRZm2nwsI5vOVbwPM6gxz3XP763VZdBUNeW/mQq7a2zAnGLPfe5zy5wCJwo1CqUYovWSl7ykzJ/3vOeV+cc+9rHJJwCsH42C7//+7y/zQLjR5XzzzTef8OJ7hMUTHHooCC8Puah98IMfLOuw7q/92q+VZQxla8KQNwrqGC7GNvG5KVNRKY11ops5jjkKijyELKao2MSTG8KmgMjrPP3006Whs3Tp0rIOYkheFPLqDipn3GDqm3IT0iBpgHSRn+pPpaId6bDpaTtpLobmtD1FjJtaTofgpscNmsp1pH0M2t8o2H/TcZJnaPwNqkC1HUObUcIcBdvW+bd+YjlVhEMPyyioyBAP5GsyW9gHaTQf97BGW6SjurLEU/i2YThxr8h/spV0G8c6FW3pWsO1nTPybVPeq/N0lIHcw+h1iUosaYChRgwly7140y1ThmlLk3EsUa60pbmIV904aCsj2/Y3KsqEel8YpTxrOgbCIh+3Dd2N0QB5qGjbtR5VW/6r08piYgNmFuWnbEwkahI0PQX0PsSTv6iMs/zaa68t2zKMC/G+B+vFUCkaE694xSvK54xC7sYbbyyfX/e615WGAl796leXOTc0hmYRXjSEmjCEi3VYl/3jF37hF8q8Ceuff/75JY5sEzdVxtvWOCesw/rRAxPHHN3feQhZTFEgvPzlLy/nifMV5yWm+IslFC7x5PFNb3pT+S3OnbqDGwfpNAp9bmh1hY1rG1iPdBENjDDu+G7wZJ60mm84kb5iWGIMdctPC1mfXiO2b7phsk0MX8g3TNJrfs+MfbXlUdJ9Pie5osr3HJ8YR91WgYoniTGkiXAJPxs3zFHEtjn/MsU5ng5u5vlcEvdcAeG85/3Eg41T0bPAPohLfdyDnjhHOqoro9Frw/YZ15DyjjQVaRTjNlZrbZVOTSBNxX0qkM+5Dm3nLN77ypV1wmAZw2Mzyg0qzKSfaNDQE8PDSMrF/D4ZogzL5Uyd9qcq7rEcX0YjivIj0l1U4HP6Jg7Eq+0hQ1MZyf4INzcYyOc5X2c5T3A+WS/Oz7jlWVu+IS5cp/p8En4cX77ufJ7OQ5q2/NfWOFsUjgb/CtmMafsLWLfddlv5/VhmKn8541hFvCxnzneWZ3v37j0hrGMZuPxFDP7aWIjfWR7ir3Tlv8rF59jfsYKn/LWz+Bz4zkQ8Wc5n9hnxbkJc2DfrxfZsm/9qGMcRv7E81iWe/JbVxxxTjkN9/mJiu0C8cjisz775nM+VpmGW/woZIh0yRfpnHiKMmLjOGWHn7dvwW70t+8pht23P8rxenb6ajjOOK6vDID45f0Y4OT8xsTzL54ypzmO1+hzGOcvhDgqTeDZdk/q6siyfmzocNF2HrA4D9f7BejHFeczh8jmvk4911PgTZr4+TfGIaxXHGed2WNi1el8Zy9k+T/l4QtN1RdP2TPWxDIrDyBbJXyGLKac5DEojearTByJd5msQ17QOM5Cmcrj1evH7KFivKe/l8NvSR16HqU6DTXku0mWIY81hsE4+x3E89Tmty5kIu+33rC3fhBxOTIOuX/4t4lnvn+tUpx3iXJ/fYXFbEAaUGTZgNCky36DMPBWRSZm0gFhmnFJNN8CuaqrIgeX1TXohaaqEgGV1hSWLaz9dw/YzCPufdkXJMkOzaJwG2Timk2+y6eShpm1nqlyY1waUGQ4hkySdUjGuPA/L4DNDYer/sHEhYahHPTSQYTIsq/+n7yyG5OShRlPBkKV6GOYoYr95SJq0WEw139SONYJa35sZpC3/ERZhLlY2YDSJd0tmw2mnndb/JEkT7xFx412V3mPj886dOyffMVqIeG9lzZo1k8fMxPsqe/fuHdo42Lp165QqPxn74DyP2xBiv+xfWoymmm9q119/fXlYMe57aE35jzAIizAXqyV0w5RPT1zX65078RebJGkoywxJ47DMkDSOAWWGPTCSJEmSOsMGjCRJkqTOsAEjSZIkqTNswEiSJEnqDBswkiRJkjrDBowkSZKkzrABI0mSJKkzbMBIkhaVc845Z9r/KZ0kae7YgJEkLSobNmzo3XTTTf1vkqSusQEjSVpU1q5d29u/f3/voYce6i+RJHWJDRhJ0qKycuXK3qpVq3p33XVXf4kkqUtswEhSRxw4cKC3ZMmSE6a6F2HTpk29K6+8srzjkddj22Hy+nmb2G/93gj7ZnmOA/vPYWzbtq3/ywTixjqxHu+jBNbN27JOje3zOjHl4xsWB6xevbq3Z8+e/jdJUpfYgJGkDqCRQK/B1q1be0ePHi3Tzp07e5deeulJDYvdu3f37rzzzsn11qxZUyrsg1DRZ1hVbLNx48bJbeixIAzCzB5++OESp0suuaR8p3FBQyLCILwbbrjhpAbErbfeWuass2/fvvKZdQ4ePHjCtqyXj42GCevHOpwL8Jk4YtQ4rFixovwmSeoeGzCS1AFbtmwpjYjNmzf3l/R669ata2xY0Ki47777+t96vfXr15fKeu6lqOVGAC677LITKviEQcMoh7Fjx47yQjxoYPH79u3by3cQHg0h1suIX14PHFe9LesdOnSov6RXekxif+BdFkQP0DhxWL58eZkPOieSpPnJBowkdQA9D7mBEVgWvRhtli1bVuZHjhwp8yZU5POwq6uvvnpyOWgs4ZFHHilzltPAiUbE4cOHy5xGRw4neluyPGwsq4d+ET69MoEeodwQ2bVrV5lHD9A4cQiDzokkaX6yASNJi1zb8LQaPRnR20Pjgd6fulFFoyPCiGlYAwsM/aKhkbcjTjXCj4YJQ8NyL1EYJw5Lly7tf5IkdYUNGEnqAHotmoY7saytR2NU0XORh6c1ueaaa8oQLTzwwANlWFkYpZdnEBoY8U5LGxo4e/fuPaFhkhtQ48QhhqY19WpJkuY3GzCS1AHxDkp+qZ0X01k23f+UMSr+ETaNohhCljFUi16R2G8MK0P8xh8VyFi3foG+CY2wPDyM4WR170qEn4eHMYVx4sDQtKYeHknS/GcDRpI6gMYCvQ80LKLiHkOo4h2QqWJ7ej8ibCr2TUPIwEv07JfhZDV6URhWFvFjoqEwrGcH/NGBPDwMhJXRyMnD3JiIR+6BGjUO/EGAYX+ZTZI0Py05dgM4Wj49cV2vd+7t5aMkDWWZoVOI3iEaWDRy8rCvWB63slHQw0QjjQbhdBt/GoNlhqRxDCgz7IGRJM17Mcwt/gpaYPhc3VMzDH+AgAaMjRdJ6iYbMJKkeY/GBsPa8hA6JoaB5f/zZhS8a8P/qyNJ6iYbMJKkTuA9oHj3Jab6P8QcBe/J5D9AIEnqFhswkiRJkjrDBowkSZKkzrABI0mSJKkzbMBIkiRJ6gwbMJIkSZI6wwaMJEmSpM6wASNJkiSpM2zASJIkSeoMGzCSJEmSOsMGjCRJkqTOsAEjSZIkqTNswEiSJEnqDBswkiRJkjpjydFjyqcnriszSZIkSZpz597e/3CiExswL9hQPkrSUF/dYZkhaXSWGZLGQZnR0oBxCJkkSZKkzrABI0mSJKkzbMBIkiRJ6gwbMJIkSZI6wwbMInfg4JO9JadfUCZJmmlRxty9a09/ydw557xX9za97b39b5JOtW3v/8i8qG889JnHSjyYq5tswHQEmWzdz9zYO3P55ZMNjgtf9vre7R/+eH+NqTny1b/tf5o5EcdP7fnj/hJJM21QZfzKn/i5MknSVPDAIeoaMVmmaD6xAdMBFCSXrnlj76O/t6f39Wee7S/t9R79sz/vvemtN5eGjCRJ0nTRULn6DTf29u7+UO/os49OTvsO/FVpyEjzgQ2YeY7hFxQkuOAHvq+3/wufLAXJUwfv721849qynIbMfBieEZ4+9ECJ4ytW/0h/iSRJmu+oS+y+/zOl8XLJS8/vL52w7/F7ytxhmJoPbMDMc3d85JNlfsbzTu/d94nf7K1ccXb5ftaZz+1tf9/bS6MGd/7OH5Q5GMLFxBCuGM71+H94ovzGMoaesIz5H3764bK8xnr07ETXMcPXIgwwdI3ljGflt1gHsc8YW5rXZYrfecqTw0T+PU8WmNLUxXjv/M4bE/mt1jR0pEbZwbbkYX7PQ0tYnrdtG6ZKns7r1XEhTNaJ9dhnqI+DqRbHHNN8esgjzVfUJVa9cNlJjZfAg9NbP7Sr/+14eZHzW9z7EfUNplxO1GKdmMjjIfJ73kcuL+oyp6m+UJc36j4bMPPc5//sy2V+0UteVBottdVX/HCZP/L5L5U5GGbG9Mq1Pz855Oyb3/q70lhg2f6vHC7LmN98y4fL54zGC+vRsxMYvvajr3zTZKHyjWe/VeY3vPMD5Tc888w3yzwPc0Nelyl+5ynPT71uc/kMCiF+55i2vvstvat+anX/F0kzYdWLXzXZi7vzwzeX/JYrG+TBeugIFRZu+LlCAba9/GUXlnV4uAIqMyyP7dkXw19rVGQOfOXJyX2wHtvVjZioKLFOPP0lvhxHUxwDcWW/lCOxzk3v2T5Z9klqxjCxqFc0WbF8aZnX5QH5LfJaNH6iwRLLKS/I51k0TiiPYj3yLXm8aR+R7ze/dWLoPA2THb/18cltmSg3ciOGcoVlUfYRRlO5pG6xAdNxzz39OWVeNxoQQ86YKFBuP5bJwdMVljEM7cbr31CWZf/qV24v87j5sx6NCfbx6Qc+W37Lbnv/jWW97b/+9v6SdrEuc+QKxQN/9Lkyf/OGf1EKJ+Zg3/Q2SZoebtzRi7tu7cQDgoc/+4UyB5UL8n1++hp5b9c995d5WHPFSycrEYGntyyP7dkXZU1GA4SHF7m8YD0aIVREMsqqOu9v2XZHWTfH8fq3/HSZRy9LxDXHjwYQ4UlqN6yRv3zZd/c/nYiyJaPxQT7f8o5N/SUT+ZHyJbvlA79dyowojxD5ti5z6rKJfdAwufO2d/WXTGC93EtEuUKZEWUfYdTxVffYgOm46N1oujH/+nvfVjJsZFqeeGLDz/xkWUaPzv/28ovLsix6XqjM8GTk+SuumOxlOXT4r8s8UPBc94afLJ9jP23yujFHDCPj6Qw+uON3yxMT5rDSIc0O8tbBQ0fK53ja2VRByeuFlS88Ob9TYYl83Obwk39T5jxhpXyJKVc4wjkrv6f/6TieELNu3pawMh6GUN5Imll1HSAsfcF39j9NeOTRiVEhF13wojJvQ72EciPnZ6YmddkUw1PpTcnb5l4eyjUaZZdd/IP9JVoobMDMc1FJyEPEsmhYDOrynUnR4zOTGN6GKJwe/dM/LwXQnvv/pPQQve3Nry3LJY2GSn5TA2M+ieEceYphYsPwNLXelik/xZU0Phr+8bCzCQ8yeKAx7IHlONhnU36ue3jbxLCyetLCZgNmnrvmNVeWOcO3GNMZT0mZ89J8dPfGeoNEhYbu1K89/Y0y3fWx+8qyLHo8YghZnkYtUKaCMer47L//N2Vf/DWzX3nnpsZ3f6TFjocWNPKbTOWJY1RImp6wEl6MfR+kqaemfol/2dnfVeZT/T+o6JUZVMECZR2NuNqw4THSYkcPKj0iUdfIWEbvJ6M4hmnL5009uU15dRTR6xO9uk3ayrVB26gbbMDMc4zV5GkjKDhi2AXz6H2hlyKPC20TjRxu4gwLYyJM/sJZFoVTDCHLU37hd6bFcBHiFfuLv3Yk6US890Ferv/iDnmGhsRUeiMoa8j3ufISL+KO8vCCsoMyJcoJwqlflqWsIn71cvL5KHl9/Wt/vFSw6nUpLwJlHecmr5P/ipmkZuRz8mfTS/Qs47dRyoLI5+vfdPz9FPIj5UMWebWpHGtqRGU0Tui94Q+P5HV5Fy6HV5drlE/x31Oou2zAdAAvsfIXOuox3bzcTtcpvRRZ3SAJFCiEQ6EC5vfu+o3yF84yCifWiz/RnJ32nG8v80FDyer9Dxt2FmE2jZ2nYKPg8U+gSifi5k1PJRWCaPAz0TMz6lCsGmUNPa/xoISJp6PsZxSUHVQWYkw64TRtS/woz2IfTDyZHaViRMOMcq9+wJL/WECUdXkdXvSty1BJJyN/ko9zOcBE2TBO2cK63MNje/I4+TIjr5J363KM/DrKMDX+AmIdV/6YSP7jH3wm78c6NKrqPy6i7lly9Jjy6Ynrer0XbCgfpVONF/nP/5FrymcKFgouhrj90I/+H6UApOAcpXKjU+irOywzJI3OMkPSOCgzzp34y7g1e2A078RTEoaS0XjBxT/04jKXJEnS4mYDRvPCef/s3DKcrW2YHN3MkiRJkkPIJE2Nw0EkjcMyQ9I4HEImSZIkaSGwASNJkiSpM2zASJIkSeoMGzCSJEmSOsMGjCRJkqTOsAEjSZIkqTNswEiSJEnqDBswkiRJkjrjxP/IUpIkSZLmg5b/yPLEBkzLSpJ0EssMSeOwzJA0jgFlhkPIJEmSJHWGDRhJkiRJnWEDRpIkSVJn2ICRJC0a55xzTm/btm39b5KkLrIBo5E9/vjjvSVLlvTOPPPM/pLRsQ3bPvTQQ/0l0uJFJXrTpk39b83IKzOVZw4cOFDCYt5VV155ZZkGieO8++67+0tOxLncv39/b+3atf0lkrqEcpPycxjKAR9ULGw2YOaJaBzE1JbxyLyxzlQaEtPxzW9+s8y//vWvl3mb22+/vcTvwgsv7C85eZumdaSZEnlkUCMhGghMbRXeheKWW27prVmzprdy5cr+ksXprrvu8jxIA/CQgDJxWCNhlDJWmk02YOaJaByEG264ofe1r32t/20CTxdvvfXW/rfhDYkm0+lFmW3RqFm3bl1/iTR1q1atKvmlrdeByizrTBUPGUivXcB5WL9+ff/b4uV5kIajXKSnsu3BTiyfavk5k73LWrxswMxDUSh8+tOfLvOwa9euMp9OpWvUXpTpuO6663r890Kf+9zn+ktO1rTON77xjTJ/5plnylyajg0bNpR55JssHgbEOgtZVDYuuuiiMl+s4jz4gEQajN4XeirvvPPO/pIT3XTTTb2NGzf2v0lzwwbMPPSLv/iLZf5rv/ZrZR527NhR5vF7Fr0XeYx4HpYGnhhfeuml5TPyb4ixpbGcz21D2T71qU9Nrss8P6lpikutXoc5vU7YvXv35G/xpIYeo/wknf0N24fETTbSVUajhgcBTe9CNPWs1O9WkOYjXJbn30C6jOX1b1nsK6ZRjBp2ePDBB8uxNg2byuFwTFkdt3qoCN+JS+TFmNp6vLK8ftM2cb5jaiuH6jgeOXKk/8vJqIzVlS7iz3EwsX0+B3UcmLIom+r1chqJZU3xr88bU8b29TlHHV4djmWiZgI9ldyL614SvtM7c/311/eXHBd5ot4mp2XmUQ9hzvo5nQ8rd0LsK6Z6n01GDVvdYANmHnr5y19e5o8++ujkjZ0GA4UGFZEXvehFZVkWvRdZPSytyRlnnFHmZH6eSLOPwGcqaU0VpFe+8pWT6zK/+uqrJwuQprjURlnnec97Xu+SSy4px0yPUe6Ruueee8r8JS95SZlLTeImW6dh0vV0el/27dvX27p1a/lMTyJTPNmnAsnNP5bv3Lmz5I+6kk5+O3jw4OR6PPGsGxE1fqchEtvs3bu3hN2URwP7bQqXGzgV+giL8xEVY+Y5buRx4lvvhwoODYNYj2NYvXp1/9dm7JfwYhviUG9Dns9xe+CBB8q+MuLCdeQcsA5h5gc0GeeA7a+55pr+kuM4LhAG1xWUZcQhwmYiPsS9xnpxPKQJrgfrbdmypSzj+hPPXMHi/LJeU/iRTrgeEbcQYUTDO8KJMJg4Bhsxmi7KM9I2Q20z0vV03iPbvn17SfeI9M8yjFrusDyXseQ78n5dxmY0VngIHNswEbaNmO6yATMPUTBQQOCOO+4o84985CNl3tT7MqrNmzdPFhwgAz/99NPlMw2F2267rffYY49NZu4LLrig/Hbo0KEyzygwnnrqqVKQRCPoD//wD8t8Ku67777JCiHHzv6j0IqK5q/+6q+WOe8GffSjHy2fr7322jKXmkReykMhIl2RH2YDaTkPU4qhW3XvABXWuHGDYRnkp1zRzYg3v+dtyLf18dWo0NaVjWio5LA4H3FOmOff2J7KTF0WsIzjDVQqiOOgigR5O8fnsssuK9uEuD75CS/7iDIxcMws4xyAMHM4WfS4xboZy/Oxgkoa1yev39YYpkyN44mGBY2WSAMxf/jhh8scNGgo73L4EYcY8hhh5f3Vf4SAcNhXRtxprA26BtIo6kZ0PAigrJoN45Q78bABUW41DRcG8eY46nKSPFg/JFB32ICZp+JFUyrqucIevTOz4bnPfW65IfIUkIkeoDYUGGeddVYpYLjR4/Of/3yZz7S4kVM5YVhc9MTQwIobudSmHgrBTSzS7GyhxyPyETdbHD58uMzbLF26tMzb1oubeIQbU90zUWuq1POUM+LVhieTeT+Ew3aDLFu2rMwHDeWiMpHDpQchlmPQkLeM47788sv73wbjyWtbj1tT7xSVIyo2OZ7Dzteo4jiXL19e5hn7iHPM8dNY4XyEPXv2TN4bIpzo8Ykpzqc0XbmnD4MeBMyUqZQ7yHmnFuVRDFmLifqOussGzDxFQ4WeDTLva1/72rLsqquumrUKO0/5uPENqwzNBY6ZY8fv/u7vTg4fe+Mb31jm0iDxBJyn1zRiSONNQ4lmCjdGKsXRk9nUgJiOCDdPuRekNpWKN0OQqMDnfcxEBZ7zTzg8+Yxw6x6EmcY+uQZRGRsVjdx8/DHl3rXZRmMlnhDHcdT75/w1xdOHO5quaETH+7dU+NseBMyE2Sp3Qh6ymSd1kw2YeYrejbhRRaPi9a9/fZk3ofcEjzzySHkyR6/NsCFdrBNP8eLpLg0FMjTDw2IIWROeyLA9PSJxg52p91EIFxE3xLGzr+iNGrdCosUrhgrEEJxBTxDjyXhOf02anqDHNlMZYhFPCaMXozZqvGo0puptVqxYMbBhRQ9EDOmcSdG7FEM+mrTFLQ8ZQdMT16aen3rY1SiaztlMiXg0Dc3luDn+EPcAGi8MQcs9h4PCkWZKDG2Nd0UG5d1hvcgh1qtNp9yp8042arzULTZg5rEf+7Ef63+aeNn+Fa94Rf/byWJoGS+7c2N//vOf37v55pvLsiwXHKwTTzeiAUTjgCfI/DZoCBlPYljn/PPPL/skftN9HyUqaOyXOOSX6zh24hp//pmGFo08aRTR2KURE0Nw2sQ7KzGemorsoKeAVC5DVCrzi69tL7UTl5zGiRf7aWtcRWW2Do8w6vcyMuJUV/7jfOT981AihopQgY+nrmC9QQ2eUUXjLOLLua2HPDXFjSez9f5jfH6cf8Jqeol/lGteY30eHMX5CJRLM4GGCGVobiTFi/d1BZF1SU9cj7rnMMLJaZDPvsSvmUJ5RLlEPsoN6CaUNayb3zWhLGkrO/J7YRi13GEZ64YoK9oeahIvHmJQ1uQ8RzmUyxl1iw2YeeK0004r83ghHlTaoxfk7W9/e5mjaV0yKEMJoqLF/N577y2ZNmM9XtaPbeN3/l+WG2+8cXI5++V7Fvul8UAYsS/W/f3f//0SNqIxlOW4omkdKmi5gKzHt+eu61e/+tX9T9JwcQNDPQSnFnmJiiEVVtJ5002UcAgzxlVHJZJhCtzsWcbES9VNYuhUrIe6oVGL4Q6xDRNPHQcdU7wkn2/cHCPLcjypOETlmSFp/B6/oS5LpoLKEE9Y470Nzm09hIy41eeQBkVdeSKuLIvzT1j1cJBoKA275jXWJw6RBmJqSgdTwYvKnAfiHGFz7ZuGs9Bo4VygbtxGOHlsP+dq0JBCaVxx7x1l6C3vadH4j/QYf7UsI4+TbiN/xYOCUcsd8j3hxnrkD7Yj3DaEzXY5z9HQqv+Ah7pjybECc6LEfOK6Xu/c28tHaT6K93RoDP3lX/6lPTBzzTKjM7hZ01AYtyLfdfREUKmxkjJPWGZIGseAMsMeGHVGdEtTCbPxIo2OJ4/1nxBd6Ohxmu0/2CBJmhs2YNQJURmBFRJpPPwfJuSfPIxsoaPnhQEGg/5ggySpm2zAqBOiMmKFRBpf5J9BY8QlSeoKGzCSJEmSOsMGjCRJkqTOsAEjSZIkqTNswEiSJEnqDBswkiRJkjrDBowkSZKkzrABI0mSJKkzbMBI0iKwbdu23pIlS/rfFr5NmzaVSZK08NiAkSQtONdcc03v1ltv7R04cKC/RJK0UNiAkSTNa1PpPbrkkkt6q1at6u3atau/RJK0UNiAkSQtSKtXr+7t2LGj/02StFDYgJGkBeDuu+8uvRQxXXnllf1f2jG8Km/DlD300ENlWb0e+8I555wzuYxeklpsHxPrZxHntvDBNjfccEP5XP8+aDtcdtllvf379zuMTJIWGBswktRxNB6uvvrq3tGjRyenffv2DWzE0LhgiNXevXsnt9m4cWNpCNRYj4YA62zdurXsi/W2bNlSlu3cubM0Mggz0Ji49NJLJ7djojFSN2JA+LFOhB+NDo6DZYh11q1bV76zHb/F8ptuuqksD8uWLSvzI0eOlLkkaWGwASNJHUfjgUZERuNi9+7drb0P/E6DhXdFwvXXX1/mdU8GjZyVK1eWz2vXri1z9hcNiZg//PDDZQ4aEzQuYjuwjAZNbuiAZSHCf+SRR8p8HDR2sqVLl5b54cOHy1yStDDYgJGkDosGSvSKxMT3Qajs81e68jb0aMwUGiU0rHL49MgMEw2eQ4cOlfkgNJBiH3WjKBslLElSd9iAkaQFgB6RGEqVp9wDUqMHpmmb6FGZrjy8K0+512c6Nm/eXMLjOGgc0ZBpsnz58v4nSdJCYANGkjpsnB6LjHdRZvPldnpzDh482P82PcMaINu3b58chpaHv8W7L/EujCRpYbABI0kdRw9E/RI9nwe9xL9+/fryjkz918PaejHGtWHDhjJELTcoaDA1vcQ/qkHHF+/M5MZKvPsS78JIkhYGGzCS1HH0QDBcK4ZRMdFAue+++/prnIxhYrycX7+nkl+onw6GdzGsLb+bQ69M/aL9KIjrmjVrJo+PxgvD0Oh9irDZD/vLw9MefPDBss9Bw+gkSd2z5CgDiPHEdb3eubeXj5I0lGWG5jl6e+gJojGlecAyQ9I4BpQZ9sBIkhYcemnoTYo/yyxJWjhswEiSFpy77rqrvBvk8DFJWnhswEiSFhzeC2KSJC08NmAkSZIkdYYNGEmSJEmdYQNGkiRJUmfYgJEkSZLUGTZgJEmSJHWGDRhJkiRJnWEDRpIkSVJn2ICRJEmS1Bk2YCRJkiR1hg0YSZIkSZ1hA0aSJElSZ9iAkSRJktQZNmAkSZIkdcaSo8eUT09cV2aSJEmSNOfOvb3/4UQnNmBesKF8lKShvrrDMkPS6CwzJI2DMqOlAeMQMkmSJEmdYQNGkiRJUmfYgJEkSZLUGTZgJEmSJHWGDRjNmF9+9/bektMvKNPdu/aUZV97+hu9K3/i58qyM5df3nv8PzxRlksL0UOfeaykdeaziTzFdCpxXNve/5H+t2bke9Y7cPDJ/pJuIe6b3vbe/rep4/hHOV/TFfuJ8rZNXJeZOj5JU3POea82D84QGzDJ7R/++GQhT2X7U3v+uP/LcVTIL3zZ6yfXW/czN/Z/Wbg4F3G8ecrHzg3y5ls+3P/W6x06/Ndl/o4tt/Z23/+Z8vnrzzzb++a3/q5sx/Y0eEYR14XzroWFCh7XtknXK8PSfHH1G27sbX33W3pHn320t/19b+8vFQaVM6fqgYSk8dmASb7x7Lf6nyYq2//qV07+022ffuCzvUf/7M/733q9Z575Zv/TwsW5GOaee//vMr/qp1aXm+TaV19RvseTwdvef2PvqYP39773n7ywfJd06vHkjyeAi11bD9ZMVfBXrji7hLX5rXP/0CUq3xf/0IvLXNLiMOgB4UJgA6bBqhcuK3MaKvVTmTt/5w/KPNZZTPbu/lC5Kcd092/d3P/leEPuB8/7p2XODRzR+HnR967snXXmc8vEdmz/K+/cVH4b5ro3/GRZ/3N/NLvDMSRJkjT/2YBpcM7K7yk9CbjjI58sc9CYYTjUGc87vbfhZ36yv/REDDurh5jl9z5iOBQtY4ZQxfAsngayHr/zhJRlhFO/M8J3woztmPNUNTe0YogWvR8Rlzw8Lg+NY7tYPlVsG8PEbnjnB8r3uuV/6Zo3Tn6P+OXx4QzN4zjq84GIe/3ElO3jXMV5IJwQ++F4+Y3PTPV6yGExj3MU28z0OdPUxJCOmOqhHTEcJKamp+z595wGm4wSXptIT237IawcdvRWhnrf9cMU1OsMwu+3fmhXb/9XDk+un89fjm/9W5bzEtuMYtSwh8lhMNXnjLgxtaWTyLuUV0zxe5xb4sn2gc9cp6bzXO+jvj4si+terxtT3qbeR1NaI7y8zpGv/m3/l2bEn7IXUQbnc19flzqdRpxy/PP2i1F9LevzMcp1zL8PKoMivbKPfK1im1yG5HQb6rgy1emUcAkvwsrxrbdn3UFi/Yh3TJFPm44hG7Y/tmFZvR77q/fJOjW2z+vU4efzHevEuWk6dpY1nfdQxzPOQ0bY+Zwj0lB9reIaDQovEDfqY2haP/aRp66xAdPi1a/8X8v8o793/IJHY2bd2onGTY1K7ivX/vwJQ8zY/kdf+abJhBjD1EhYvDMSPRTcTFnvTW+9uVQwQDg/9brN5TMIg3UIM7ZjTqVk9at+drJSHr0hjHuOuLDfjW9cWz5/ZOe9ZQ6GxOGCH/i+Mh8kboB1YqdBV3vu6c/pfzpZPeyOeJMxOY58Pm5452+Wz3loX6DxxzmMcxXnIRcEsR+uCb8FPvNuTqAAymExZxtM95xp5pD+SYM7PzzRg8e0/k3v6v86cXMizcdvTPsO/NUJaYJCnWsavz/wR5876SYRKODpcc3hkS6bbrw14rnnk/+6bEN8SV/5hkqc1r/2xyfDZR3iHnFhXb5Hr+f+L3yyt+lfnnijJC4PPvynk2HQK5yPtcY6HDvrxTaXvPT88hvn5c7b3jW5nPclouKbcRwrli+dXA+D9gnKCh74xDYcK2E3VTDacF4IJ187zg3nqL4e5G/SRawXx0IYMbRrzRUvLVOsEz3GTTjPOR1w/ogLYcYywqIMbsN5jnUjDLaJ/Y6SdkmPnP+cJpquUcZwONZHbBfXnGPgYV3sj/AIv6lClo81tl+MTnUZFNhn5M8oT7h+l7/swrKMa0u6ryuodVzJC6te/KqT8h7hRVj3fWLivhvbky5ie9IL8R+GfcR27JNzQny3vGNTWRbHkOMx6v64P+f8TT5if3mfnF/Cyibv81X4xKvGtpFfGAZKWc1+c3z5zLJrXnNlf8mJIq3Eu2dMN71n+2Q9Y1ych5UvnCi/mIgf5zVf82zf4/eUfSO2ibprpNM4RibOGediWFqcT2zAtHj55T9UKuYktnj6HpXg61p6X+KdmUiwvPNBTw6V66j0ZrwXwnqRyFiPRMR2/Iac2G/5wG+Xdag4RyYkAYL16n0Qf34nvGtf/6rJjEYDKBLph/7NPWX+Cz/3ujKfiqcPPVAKEcSxx7CvEBmlSbxXFPFlPQq45z3vtP4aJ6LBE38wINbnfFApIJy61yqHGz1rB74ycfych7iucT1YNxons3XONDMopAM3J9JNxg2TCmhboczNuq3ySmEfN/NAOj946Ej/WzvSUIQbN42HP/uFMgfh5gchF13wojJve6JOWE1xye9r0EjgWKeC85grpvG+RH3eyN/5vY5h55cbJfkyb8Nxs+yuj93XXzIcZR/b5OMlvpSXO37r4/0lE1gvp4vY96577i/zcRFePvfR+57Ls6jgtJ2HjHPCutt//fixjJJ2aURxzeM6kSYo96aCOCAfF+FxfaM8zEjPajabZVAgzLjuUW7kvMhvpFMeaAQqy+SPXM6wflPeI13lPAq2Zx85bjdtvrak3WEPH3L5F+/DcgwRl5jnMnGc/eVzTt4DeSG2jft2bMe5J10Thxx+5MG6EUA8cnkY8c3njc+cy7xeFuVNPq/Em23GRfxKmVGVf1y3eK1hHKTT+hgj7KmWk3PBBkwL3tWIRPt/3be3NGJoPJD4zvtn55bltejtIHHQkn3+iisme3Dir3IFEh6VfOSXK0lE7Dt+w2Qm7Fe6X/MT/3wyE0YiRr2Pt79tffk93j3hc2QeGg1k6ogzDbZhohEQ00yJeF/0khdNZijOfX7HJvvyX3yl/+l4r1B5+nIsg+PJqhIY5wFv3vAvyvyRz3+pzHOFMc4568b7NtM9Z5o5pHluyPE0L1cI4nP8FhPfMyoT3Mj4re3JVUZFL4dXKiL9fDgO0lDd8OGJWoRL+sXhJ/+mzEl35OtI36NYvuy7yzyfl3FEXJji6eWwIUrLzv6uMm9bj2MmX+awmSKvjopzztPSGr1Bo4TVdP7nAtcmKg9Rho+adkl7PCWfCZyLKNeytjS09AXf2f+0uM1FGTRV5AvyR418VJdhPNmvsX3UZWKKcmE2zOb+onyK8ipEHqzrTpEPMq57btzvuf9PWl8lAD1rUTebrohfPjdMlAnjinTadIzzpZwclQ2YAaIVT6L9wK13l8+/+PMnPqUY1aAhVadSxJ9ehOixoVeCBs5Ccfpp39H/1I7G6KgWwzmbj6LQjpsMaODTeObGQKW/Hl7AE7bcyI4pwqBhzHcqkE2VkKxpyMFM3ZDYLxWJCLfpSTpPZvmNmwrrDxuqNVUcP+Fzg474zOQTd+If4eYpP01cLBgGyPmon3ZjWNrVqRcPFHID7lSWQXONONbHwRQPBGfaqd7fOKI+SKMzho9F79Kp0nRu6p75xcQGzAD56Xu0dAcl2Fi3KRM23bDGFUOqPvaJfzdZ4JGRIm7f/32rynyQiD+9CL/0rg+Wz6+/+pVlPleicUevSPQ2Mecl/Cb5ZlL3CjGNU9id9pxv73+a+GMB4Nzm/3NmPp6zhSJ6H+O6ZzwJamswUGhz7bmJsG3bk7Q25EfSCtq6zHlKSaV+piuQkXcZHjEKhh1QKSq9P9Os6DQ9kY2nk9e/5afLfBxNFbxs1B6SYXhCzLsEtbaehBpxyMfe9MR5tlHx4RryLkM2atrlOOuno8N6yNq0XZemhwYLXQzffOTRiV75jPPBeW86H6eiDJqOpvQC8tEo6b9t+9kym/uL8inKqxDlaVNvRC16xRmyxfAxPg/KJ21lVp3v2tbLptq73nRcg9JpXU7OdzZghoh3JjDsqXt0J9bdoExNFbRxxfAnKtI8+SHc6GLlnY1XrP6R8nkQ4k+lDPRC8H7IKNshhrPE1NbAGBcNBOJBfGIfzNv+jx0yYFRs6zgxjYPhgBEWf0CB7Tm3MUwM0zlnGixuCpGOA0O36PnMlXwqgPkF4xg/HTcnrhF5L+c1PkfPBYV/floa67XdvLix5CEDxGkqXfa1uIHk8dT1C+DsK95TQIxtH3TDHBU3qXwjjPOXK1H19Qic3xwvniAPupFH47/uPeJ7vk58r59kZzz9JN5536QHrg9DcjLWy2FFmqkfPs3EtRwH54o02vSAZVjaBfcXjjfW4Rq2Xadh4lzk/ES4xIEHcIsJaZfzz/XJ+YL0xfnI6etUl0HTUacXEHfyxygPK2J7jjnU8Z9Js7m/qDNwjTPKXRpO8brAMLxvQ7lBPOPdmzZNZVbTsVx28Q+W9eI6cfx1PCN+9X2C65nPV5ucBhDpNKf3SKMz8bD9VLEBk0RPQH55nJffqbAiGhBoWpcLz5PSpr9OFU/6m4aS5V6AJvE7Nz6e+ORGFZmPG07uRmx7+T1EVyhGybhx/IPEPuvji23zMdbxo4Hw7++97aTG4tZ3T2SopnP2O3dsKcfN8Wc5roPOQ16PsMjQsYzrd++u3yifw7jnTKMj7XL+cyOUwrXuTeO80yuS1yE/ROWZoR2kidyo5a/VRN5gPW6S8RvrsX7b9SQ80lesz5hm4jkTiDc3wQi7roRTlvByevzOulN9YTsjXI4pHoBwA+O8UG5xPmN/fG9CvDkPsR6Vglz21Aib68hNP7Zh4ubfVJFvw7ocf44jN3niU18/jo/zGevFuYt0ghi+FuvMtqhk5GvOFMuHpV1w7Uh/sQ7XMJ7gjyuuS44P4XLdu1SBmSlx/iNfMJG+SDc5fZ3qMmg6oj6S48L15rrnvNAmtuc8xPacn/wC/Uya7f013WcYxjtO+HVaGIQyi+PJZRa9r/HANBBOztf8MQPSVC3yeoTFRG/JoHjwWzwgZP1oyDSld3qBplqezJUlR48pn564rtd7wYbyUQsblRYSLsgo41QkFivPWYOv7rDM0IzgBsoNdbqVZ55I8nLtbFWyNE2WGeo4elFWX/HDkw9BNMsoM86d+Au/NXtgFqEYKsKTSivio/GcSbODIRbkq8X45F9Sd9BjynCvPCJDc8cGzCIU/28CXdkajedMmh3krfrFdkmab3iB34eY84dDyCRNjcNBJI3DMkPSOBxCJkmSJGkhsAEjSZIkqTNswEiSJEnqDBswkiRJkjrDBowkSZKkzrABI0mSJKkzbMBIkiRJ6gwbMJK0SG1623t7S06/oP9N0mJ3znmv7l35Ez/X/zY9297/kRkvX/jf8Anzoc881l+ixcoGjCRJkqTOsAEjSYvU9ve9vXf02Uf73yQtdvsev6d33yd+s/9t/lm3dnUpsy556fn9JVqsbMBIkiRJ6gwbMJLUIYxR592VrB5rfuDgk5PjxFmfz0zDtgPbxPpMjDlnTHzelu/1OPkYm86+M9arw8uIH/GI93GYWNYkh8NU72tQGHGsMUk6WZ23yTfkpbpcaHoHJZc1dfmQ5XCYcj4mjDrv8j3Ci3jk/fM9yqkIs2n/uXzIU9OxaP6zASNJC9Sla97Yu/O2d5UhF3t3f6h364d2ndSAyKhIsM3Wd7+lbMN003u293bf/5n+GuOh4rHyhWdPhkUcrn7DjSfF4YZ3fqC3YvnSyfX2f+XwCQ2maJDt/PDNk+sQx1UvftVk5YeKFscXv295x6ayDOyPfez/wifLb8Qjhy+pHflx/ZsmyhGmjW9cW8qJLBoMsc7lL7uw5LlslHy855P/uuwv8i5zvg8b1ka5sv61P17CJJ9TZkUYqMsH4gDWdThaN9mAkaQFipt03JyZr3rhst6DD/9p+d5k1z33l/nmt76+zMGYeLYbF40GKh68ZxOIw5orXtq783f+oL9kAhWivE++77n/T/rfer1bPvDbZTvGv4dYP+JcY90cZkY8crwkDUY5EK55zZVlHj0XND5oMPDQIJD3aJxko+TjlSvOLtvR+CF85tHYGIRtIlzCYD8P/NHnynfwmXIlxLqPPPqlMlf32ICRpEXinJXf0zvwlROHXWXc5Lnxz4RDh/+6zPNQDaZRenPojaHxE4gz29VhZVERYnk9fITKCo0wnvTWw1MkjWfpC76zzA8/+TdlHo2Aiy54UZm3GSUfg7xMfqWXh0ZHbvCMip7ffQf+qv+tV3qE6IEJ0Qs8LM6av2zASJJmTQzZyNNU/soRDaumsHIvC99j+AgVozyEhCfI5fdjDSN+cwiZdOqNko8RDzByT+xMiEYTQ84YSkpvjbrJBowkdciwXpTpqJ9ahtwbgrb1suXLvrvMY2z7dIyyv0CFhAoRT253/NbH+0uP4zeGm+SnsZKmbtnZ31XmR776t2UeDh460v80YdR8zMMFemB4GEHZkx9ETBVlQX73hsl3X7rNBowkdQhDIehhyC+v1y/LThVj2+sKQ9OQq8su/sGyXoyBZzgGTzSzGPax+lU/W+aBykn9Ev8wEa+614S4xXlg2Fj+a0I8uaWxh3qfDJWbyns9kk4W79fxon+Il+azUfIxeZjt+OMj+X2Y6T4IoSygjIoemJhm4gGL5oYNGEnqEIZaMAyD9zm4AVMZH+Ul11FQESEsKgxxg6ciUVf2aZzQw8EYddbhL5UxHKPGU05EWEy83zLumHbixdNYKjY5rKjkYPuvv30yPkyIoWq8sJ8rLzQA80vJkqaH/ETjJPIYvS91uTRKPo73XqJ3JN6HqR+EjIveH8LNPTA0jihH1U1Ljh5TPj1xXa/3gg3loyQN9dUdlhmLBE9IV1/xw/7lLk2PZYbmAL06NIx4yBINI8RyGlW+CzNPUWace3v/y4nsgZEkSdKCFH817eHPfqHMw5Ztd5TeHRsv3WQDRpIkSQsSDRR6X/LQWCY4lLS7HEImaWocDiJpHJYZksbhEDJJkiRJC4ENGEmSJEmdYQNGkiRJUmfYgJEkSZLUGTZgJEmSJHWGDRhJkiRJnWEDRpIkSVJn2ICRJEmS1Bk2YCRJkiR1hg0YSZIkSZ1hA0aSJElSZ9iAkSRJktQZNmAkSZIkdYYNGEmSJEmdseToMeXTE9f1eufeXj5K0lCWGZLGYZkhaRwDyowTGzCSJEmSNB+M1IDxyYikUVlmSBqHZYakcQwoM3wHRpIkSVJn2ICRJEmS1Bk2YCRJkiR1hg0YSZIkSZ1hA0aSxnD33Xf3lixZ0jtw4EB/ycx46KGHSrjMB9m0aVNZj4m4zHfnnHNO78orr+x/m3txnrtw7nTqbNu2raSLmTZqeUEeiXw9rAyYT4j3fMjfs3X9apS/lGnhVO0XkZa6lD5mkw2YeejMM89sTaSDfptpZJZcqF544YUls0oLUVRs5/PNgbjdeuutvb179/b4A5Lr1q3r/yKpyagNiLlEHHfv3t3bv39/ydeXXHJJ/xdJbWzAzENf//rX+59ONui3mcRThquvvroUquHRRx/t3XDDDfO6gictZA8//HCZd6mCs2/fvt59993X/zb3OHd1469+qiqdSg8++GBv1apVvZUrV/aXaDGjsU2jm4ZtRpllA/c4GzA6CZmGp7zYuHHj5FOhxx57rLdmzZqyXJIkSZoLNmAWAIZ18fSQFjvzT33qU/1fJuTfGYLG08avfe1r/V9Pduedd5b5BRdc0Nu+ffvkU6HzzjuvPEmN1v/tt99ehpURblvYxCXW4fd6CNrjjz9enipEGKw7KP5NxyfNpjyMkvTXJtJoTHVPZTxVy9M4CJ8eUDRtn8Nlqp/ekTc5FvJTrNOkbSgd+yeMEPky1o+p3q5pjDzh5G3i3MS2bU8gm8Ia97zWYfOZBzY8qInt8zHk88WUzwHivBJeXg/1uWHfWR22Tp2cX+s0leXrw1Rfw/oaE+442Canv7x9U9puyl+kwchTw/Zfh1fnscjXOT3HMdfxYd0mw85JhJ3Xy8fFMcVypjqOIMz4fdD1q+Vw63iNcr5HVYdTpxvk3yMunFN648AoGH6L44vzVcepPl91GRXnuz6++rzm68E01WM/ZY6Gv9jQ/6C5xmVh2rt3b3/JcfVvO3funFwW0xlnnFF+w4033njS70zHGif9NU4W62zdurW/pFkOL08bN24svx8rkBt/f+yxxyZ/J65N69x7771lnWHHpzm0wMoM8hTpK+c70jLLQk6PpN/A95xfYr0IK/JCtmbNmjKFpv3X2EcdToQd+Q4RVo5THEveZ5O2eBy7qZ6wj4gLy0N9vlAfZ2wX5y/2l/cZx8R5zEY5Z01xyJrCZpt8HKFpOdvm8xD7y/FiG5blePB7DivSSD4POdwFaQ7KjPo8o74WkSbz9WpKJ01pt04ffM/XsWn/taZ0Fmk75+EIK8eJY2HZsLQTx5PXa9pHHGMdH9Tbx75z2h/lfMc6TLX6/EUc62PO4TVdvyb8nsNmuzj2Uc832zftO4ySbsD3trg0hYGII/NAXHJ8wDpN14Qp1HFq2mcd7pwYUGYcPxobMPNGJLScSEP9WyTCq666qnxneSTcp5566qT1SaQkSpZFQ6IW20RmakNCz3GMxlLsn9/4zv6IC/smnrHfWJ9l/I76eAYdn+bYImjA8L3OB3EziIKf35sKepblG1St3q5p/7XID1l9Qw31cr7X2zZpi0d9PE1xadqW/JrzbNN5qbdrupmiDovPdVht24am3+tzhVivPg/1cTdt23Ru6nRTf18U5kEDpun6o+m65rQWWId129TbjXKdm9JQndZDvZzP9bZNmvaBenmchzq+bcdRx4ew6vNT5+8Iq85bsbyW9zHq9asN+70+jlAvbztfob7+gXXivAyLS9sxtp3HYdeqab16H237nHMDygyHkHXcsYzSO+OMM3of/ehHyxCtu+66qwz7wpe//OUyx6WXXlq6BI9lvNJVjSeffLLMp2rZsmW9D37wg5N/Ge3mm2/u/zLhe7/3e8swNPb3/Oc/v3eswdJ785vfXIai4fOf/3yZE3d+J4wYIhNxHHR80myK7vOLL764zNscPHjwhOFHMUUaDnX3PGm9XmcqGBZQD4XAihUrTgqf/D+bli5dWuaHDx8u8xpxJU6XXXZZf8n08AcCGH6Tz+tMHeORI0fKPMrOmKKMmi6GzhJXpqbrp9nxyCOPlPlFF11U5m1Iq/wRm3ztmWp5qBUT6ZF0OV2E0fRSP8vq8EdJP+OUE6j3PeofGiAs8kg+J+ShJlFehEOHDpV53pYp/zGhUa9fjXJ6UNkwzvkeZJR0Mywuo4rzVcebuhmiDGsS2+QwjjW+JoetcRzznQ2YeexLX/pS/9OEpgRFY4C/DkbjABSeNBpGSXynn356/9OJImM98MADZd6E8CmUaFi0/WW0s846q7wzc9ttt5UwWZdtRnmHhW0xneOTThXS99GjpUf7hCka21RySPs7d+6c/G3r1q3lN00PN918zmOaqT8xvbf/J6vraSZQMSIsKn1UGuqx65pbPECrrzvT5s2by++8r0CFL6cR0uNiR9mWz1dMo/71rKZt59NfMhxmWLqZr7hfEU/izz1tvj9YsQEzD1111VVl/ku/9EuTT4GpsOebG70boADdtWtX721ve1vv6aefLomOBgUt7/x0o+km3FaYbNiwocx5isA+o7EQL9wTp2jZs7+nnnqqhFcX3Kz3sz/7s72Xv/zl5UYdv3/xi18s83gCwPFGGDFFYTXo+KTZ1NabEE+sQtsTzIxtSLszVanO2p4QTvUp37BelOmon/qFel9t69W4wc7EwwyuYW02z0ONMo9KHw9oNLvank6TX7K2fJWxDZW92fiztm1pm2VTqVhOt5xoK+fqMAmrPpejWr58eZkPytOjXr/asHJ6ps73KOlmWFyi/Bum7XxFmVX3cI2K+hd1RuIYddD5yAbMPMQwK1BRj+ELFArRjUqPRvRQgO7aGIIVmYKESyagcEWEk6c21157benlADdU9s36559/fulFwWmnnVbm7C/23XTzZf3YPn6PTHfNNdeUOetEGDHlv27SdnzSbIr8wxPWQE9KPYRo7dq1ZV7/JRy+R+FPms83A+YzNRSJfETYOc8QT/Lbli1b+ktGx3GTZ+OvEYIbeOS96eJBBsceN13ORT7HgXO/Y8eO/reJ85mHkmD9+vVlWT52UFaMi+PLFYF8/fNyzu1M9JQQBmEFerw574Fj4jjqyommh8YG55m0EzjX9f0r8lV9rXNFl4oo6S++R76bCZG2cxohniy76aab+ktGN91yIsq5fD7Ik3W5wANQwszx5vyM0giIBzyrV68u85DzyqjXr9YUf7aL8zFT53uUdDMsLoFhe4PE+crhsA/KLMrZURtC4LhzOPF/jkVdi98pj+ZVg+Zo8CX+eYUX3XlxPf+VrmM308m/zhVivViHvy6W1+HleF4YO5bhJ9dhGvaXvGI7wsthsyzwsleEy5zf+Ew8QRjHMtHkMcQ6GS+j5fjHdKyRVn4fdnyaQ4vgJX7kvEPajvWO3aT6a0yIdWKqX4YkL9S/Mw9t+88ij9WIS4QbUx0O++dYRlGHR1w5dsIITXGJ7fKxs12UCYHvETZxajv2WIeJ/bH/OqzYNk/1tcma4oh8nfP29XWr9990XpvOTVzvHHYOt14/whh0LJ0zD17iD/m8cw1jvSzSSp7qNFqnZa5bTg9t+8+a0hBGSdvsv06TbUY5nqa0G+r4cGxNeTKOOU/ZsHOS8yITcarl39uuX60+/vqcj3K+62vVdL5GOc/D4pLPIftExK8Oa9j5ajvf9bo5LTPl/UQY9b5n3YAyYwn/HItUr/fEdb3eubeXj5I0lGWGZghP9eglPnZznJXhOF0UPXpdGvs/lGWG1En0zuzZs2fo8LgZN6DMcAiZJEnzCA06hq74FxclzTWGpTFELw8rng9swEiSNI/w5+K3bt061hh2SZoN/CGljRs3zrvecYeQSZoaywxJ47DMkDQOh5BJkiRJWghswEiSJEnqDBswkiRJkjrDBowkSZKkzrABI0mSJKkzbMBIkiRJ6gwbMJIkSZI6wwaMJM0A/vf0JUuWlPlcOeecc3qbNm3qf2t29913z3k8p4rju/LKK/vfFhaOa6Ee23SRXoel61ERDuloJnU5Tw0Tx8b/xq6TzVS5b/4fnw0YSZIkSZ1hA0aSFpF169b1jh492rvkkkv6S6aGJ7I8eeQJ7Uxre0q+b9++3n333df/pnGN0kM3H5Fet2/f3v82/8xUntLsm40euMVurnqPbMBIkiRJ6gwbMJI6hSdoPO2JsdkxIcYjx9Q0bptt8zp1DwJP57Zt21b2E+vE0yWWx7JBT/H4LdZreuJdx71+esV+CCOvF8eS49UWh0HxrMdsR08K83xu6jhlhL9q1ary+eqrr25cP58DpnqMeI4jU+Dzrbfe2tu/f//kb7Et+8j7ifNUX/d6X3GM9TToGJvkc8/E/jPCY522Ywt1fOpw2uRz2pSucphMkWbi/HBOObfxe1dw3Pl4+cy5rvNRHG+Wf286Z2hKHxnf67TCsggvzm+kuwiP78OuGeHG73lqOpY2sf+Y2GcW56k+zrrsQ45PHU4b1iMNx7b5XI0St1iW12vKE3W+GuV85mPke1vZglHCZ1leZ1T1dqPk+ale1zimvKzpWg87Xr5zPmM/MUXajP3u3r27TPXvbdvNmKPhLzb0P0jSCOaozNi4ceNRiq41a9b0lxw9eqwyXZblIo3fWZ7xne3D3r17yzY7d+7sLzke1tatW8v3Yze7ybDzPvneFBYTnxHbRljgM8sy9pnDjnXq+NfbEu8cdh138L0pnnUcmfJ5qLerxXZ5m8DyHAfWYVnsM74TBlie98Xn+tjBORp2ntiWZVkdH9YfdGxNWD+HUZ9HEDeW5bDZV44z6nViu3q9jN/y72xfX8N8LeLcxDnGVI57Rk2xzKjjzef6fPE5pwPU5z62y+s1XcdYL8Q6cX75fVAYOU/FsjoM1OHENRsH4TYdN2GHyG857Kb0UR933i6vV2N/rJPzB2L7vG19nZr2Mcq5Auvk4yTsvE3T/pvCwSjh1+cs4skU17kJ8crpkO3ZJp+vep1xz10gvrEs4tR2rYcdb4SV41XHAXXcEecm4sC+63VGMqDMOH7UNmAkjWMOGzB1ARoFdFbfAOJ7rS58CTsX4mgqoOt41AV2qNdjHeKS1XFtuuGg6TizprgPiyf7aIrTsH0N2i7vL+S41cdbq+Mc6uvQFMf6+OJ73ldbHMdVH39TOqnj2HbsTdtmg37nfDX9xn7Yf8jXYE7MYAOmvn71ea3TQai35bzV56QpbbNOhFeHWy9r2h71cfA9X5/Yro7zuNhHTg9Naa4pjnzP8UHTtjWOoyn91ceH+ly1hU94EWbbeanzVq1pu/r6Y9Tw6+uH+nhq8Xt9fHU88vFiqueuKT5xfHGtRz3epnPVtM867miKx5QMKDMcQiZpUTh06FCZ5y5tJrq+Z9OKFSvKkAVEF3oMu4qJ701WrlzZ/zRh8+bNZc42eZjGIHn/41i+fHmZj9vtf/DgwROGaMSU48BLz8dujGUadZjKqJYuXVrmhw8fLvN4sXrXrl1ljh07dvRWr17d/za6engKIl21qc/jgw8+WI67vrbD3HTTTZPDNOrhJ4Sdh3Dk+C0Wy5YtK/MjR46U+cMPP1zmw16s5w9D5GF1TFyfWvwRgUsvvbR3rKI3pRf2Ses5P5EGSYsh0ui4YddDdTgejmuQSH+RfmPY0cUXX1zm42pKz+T5G2644YS4cf5GQXhxDHFN2TaHRdg1znH8HtcxyoI2o4TPdeN4Lrvssv6S0cS+iUsOm2s0yHTO3TDjnM9anc/akIaPNWom9zEbbMBIWlSOTvQ8nzCd6r9stXPnzsZ4jFKpZT1ubm2V2fmAm3V9bEz5L0lROWEZx8JxNI03n0m5MkAlZ9y/asU2EeeYTiUqBOyTtBPHksfvU1nIcYspGr1qt3HjxsZzR0M75IbHAw880P80fZH+mbiufB8H+Z8HIHv37p2MN8czX9DYy+c0pqk0APMx5ilE3o7l457LYeFPB3Gpwx3WyJzJc9dkNo8X3FcJLxpvoz50G5UNGEmLwlR7FKaLHol4Elg/9ZwqwuHGQEUlP8GdSRHHtkZV2/Jxe3w4Dm7U+YkkYcwUnk7XDaqpNFg5pi1btvS/TV3b+RlWmQnxJ3s5prvuuqss41qMsj2Vu8WiLb/X3zkno5QJNLBpJFLp4+FB00vR4yLN15XItnzVhvKFeE23Ulv3XIbplFWkUeI3FVyTSK9tccviGtJTOUhT2TJK+HFd6vMxrHdn1B6L2nTO3TCjHO84hqVZyiYevJBvRslro7IBI2lRiKep9dAhKiYzURkJdJnHk3HmVFI2bNhQvoNGB09a89NzPo/ydIp18nZ79uyZsUopT3HjPHCTIY6jPMllSFS2du3aMq+PJ8e9Puc80Y5GXqCSPxM3OyoQhBVPuWOqe3yalmXE78477+x/O/n4RhXnJ++LsIY1+ohf4LywflTGrrnmmvK9jn9T5Zw0sxhEfs/nhM9UorL169eXZXVPZj7fpFXWodeOhgL5om3Y5zhIU/UwnrxfEOd6WUYayBVD4jpseFITKqE0hPJxERblwFRR7hGXnNeJZ1OZxbnIx8AxcW2Q45bTM+vF9Y1KdDTq0TZMtC5bRgkfUXbHOpRnw9IB6SWuc0Z6G9R7Ps65G9eoxzuOOl/Vxxf3ibhOM8EGjKRFgyecyJUFKgB5qMh0sY+olDCndyEP46ESxLJcceFGPUqvANvm7TBTw994QsbTS8LlhsvNetgwK7bhJss2uSLBOeCGFvFk4hjjKTHhcvOM31g39yBwvogDE7/nm+y44mkjlZZ4ys1EvAdVIGpU/PMxXX755SV+4+L88NQ9zhsT52ZYY5FzHevH9Yl0xXnl+HKYTDS4coWB8856/DZTDd/5jGPN14y8Tt7LyPtcDyqmsR4T24K0R1pluziXkS+m2ogNXAPCzemS6zrOtSENUBmNvEIero9xVJQlEQ4T6YdzM1XEjXSb8zrhN/UWsp/YN+uzXS6XiRvnpo5fLqPqfNXUY9pWtowSPp/zuSbfRjoZhONluwiXid6VyL9Nxjl3UzHK8Y4qtolwQPwZHRDLuC6jnKtxLDmWYSbu6E9c1+ude3v5KElDWWYsCNzAuYnVFYaFIiqZdUOP5VRIufnyJJWGIRWg6Q7F0QCWGZN42k3llEpdbmTG8qia0ZihJ2EqFcsuaDsPUjGgzLAHRpK0YFEpqoc30GBhWfxFIZ7U8jTSxotOlXg34pFHHinzQA8KT+tB5Z6K/UJtvEjTYQNGkrRgUfmrh29Ebws9TvRA0ZixkqhTicZyPUSIid6W6C1kSA/rSDqZQ8gkTY1lhqRxWGZIGodDyCRJkiQtBDZgJEmSJHWGDRhJkiRJnWEDRpIkSVJn2ICRJEmS1Bk2YCRJkiR1hg0YSdKc4X8aj/8tX5KkUdiAkSRJktQZNmAkSbNu06ZNpbeltm/fvsn/eVySpFHYgJEkSZLUGTZgJKmjHnrood6SJUtOmA4cOND/dQK9HnfffXdv27ZtJ6zXJP/OlMPiM8vyPgkz8B5LLGdin4Hvt956a2///v2TvxMO2K5+B2bU42L/9OzEOk09PDlevmsjSQuDDRhJ6iAaCJdeemlv586dvaNHj5Zp69atvVWrVk02DsLVV1/dO3jw4OR6a9asOaGyH42TprDqhgP73Lt3b1ln8+bNZRkNg/Xr109uSzjsM7Zl2caNG0t4sc4ll1xSfquNc1w33HBDb8WKFZPr0UCiQRP4zBC1+P3yyy8/oWElSeomGzCS1EE33XRTaRSsW7euv6RXGhRU9O+6667+kgmst3379v63iW2p7EeD4JZbbimNmjos7Nq1q8wDjYm68cE7LHnbiy66qMyPHDlS5uMY97ginuD7nj17+t9Oxro5XElSN9mAkaQOogFC70ONnpW616S2dOnSMj98+HCZs/7u3bsnh1rF1GT58uX9Tydiv7EdjQ1E+OOYznGxHduH66+/vnwnTrlnRpLUbTZgJEmlByaGWuUp93C0oYFAAyO2yY2IubRy5coSH4a88Q4O8XQImSR1nw0YSeogejl4r6XGOx9U3AeJoV3Lli0rc9Znu6mIXhGGfg3S1KvSZDrH1YYhbzRkaKTdeeed/aWSpK6yASNJHbRhw4bSq5BfbGeYFL0fDJ3KWC8PoeKFexoK8S7LNddcU7arh1mNMmwrGhX5/ZTVq1f3P52IfQwLb5zjGqaOP8PkptoIkiTNHzZgJKmDGNrFX+riL3bFuydU/OlpqCvpvNyOWA+5x4WGDA2EGGYVE70Vo1T48xAtpi1btvR/OS5exGdinbaGzDjHNQzxj/0x0QOT/5iBJKmblhy7KRwtn564rtc79/byUZKGsszoBHoh6BGx4q45Z5khaRwDygx7YCRJkiR1hg0YSZIkSZ1hA0aSFjDedXH4mCRpIbEBI0mSJKkzbMBIkiRJ6gwbMJIkSZI6wwaMJEmSpM6wASNJkiSpM2zASJIkSeoMGzCSJEmSOsMGjCRJkqTOsAEjSZIkqTNswEiSJEnqDBswkiRJkjrDBowkSZKkzrABI0mSJKkzbMBIkiRJ6gwbMJIkSZI6wwaMJEmSpM6wASNJkiSpM2zASJIkSeoMGzCSJEmSOsMGjCRJkqTOWHL0mPLpievKTJIkSZLm3Lm39z+c6HgDRpIkSZLmOYeQSZIkSeoMGzCSJEmSOsMGjCRJkqSO6PX+f+nHdGXWAaHTAAAAAElFTkSuQmCC)"
      ],
      "metadata": {
        "id": "_fT1mw_SijIm"
      }
    },
    {
      "cell_type": "markdown",
      "source": [
        "**Example:**\n",
        "\n",
        " Why Sets Are Better for Unique Items"
      ],
      "metadata": {
        "id": "3n33ekGCipGw"
      }
    },
    {
      "cell_type": "markdown",
      "source": [
        "* Removing Duplicates Efficiently"
      ],
      "metadata": {
        "id": "OUe2cQJsi-Ab"
      }
    },
    {
      "cell_type": "code",
      "source": [
        "my_list = [1, 2, 2, 3, 4, 4, 5]\n",
        "unique_set = set(my_list)\n",
        "print(unique_set)  # Output {1, 2, 3, 4, 5}\n"
      ],
      "metadata": {
        "colab": {
          "base_uri": "https://localhost:8080/"
        },
        "id": "dU-Y4iQ_jK5O",
        "outputId": "ca0e377d-160f-4a31-9cb7-becffd349568"
      },
      "execution_count": null,
      "outputs": [
        {
          "output_type": "stream",
          "name": "stdout",
          "text": [
            "{1, 2, 3, 4, 5}\n"
          ]
        }
      ]
    },
    {
      "cell_type": "markdown",
      "source": [],
      "metadata": {
        "id": "ek4hQpwInauN"
      }
    },
    {
      "cell_type": "markdown",
      "source": [
        "Faster and cleaner than using loops or conditionals to remove duplicates."
      ],
      "metadata": {
        "id": "F4MPFGfkjgV8"
      }
    },
    {
      "cell_type": "markdown",
      "source": [
        "**Example:**\n",
        "\n",
        " Faster Lookups in Sets\n",
        " *  **Checking Membership (in operation)**"
      ],
      "metadata": {
        "id": "FjnNPTgDjj6Z"
      }
    },
    {
      "cell_type": "code",
      "source": [
        "my_list = [10, 20, 30, 40, 50]\n",
        "my_set = {10, 20, 30, 40, 50}\n",
        "\n",
        "print(50 in my_list)  # Slow O(n) (List has to scan each element)\n",
        "print(30 in my_set)   # Fast O(1) (Set uses hashing)\n"
      ],
      "metadata": {
        "colab": {
          "base_uri": "https://localhost:8080/"
        },
        "id": "xxB0ZdSGkAEh",
        "outputId": "d5859378-6ba4-43e2-fba9-76bdee4b3bcd"
      },
      "execution_count": null,
      "outputs": [
        {
          "output_type": "stream",
          "name": "stdout",
          "text": [
            "True\n",
            "True\n"
          ]
        }
      ]
    },
    {
      "cell_type": "markdown",
      "source": [
        "Sets outperform lists when checking if an element exists."
      ],
      "metadata": {
        "id": "iAAwRl1pkOjd"
      }
    },
    {
      "cell_type": "markdown",
      "source": [
        "**Example:**\n",
        "\n",
        "Set Operations (Not Available in Lists)\n",
        "\n",
        "* **Mathematical Set Operations**"
      ],
      "metadata": {
        "id": "MdpyulZ0kUrS"
      }
    },
    {
      "cell_type": "code",
      "source": [
        "A = {1, 2, 3, 4}\n",
        "B = {3, 4, 5, 6}\n",
        "\n",
        "print(A | B)  # Union {1, 2, 3, 4, 5, 6}\n",
        "print(A & B)  # Intersection {3, 4}\n",
        "print(A - B)  # Difference {1, 2}\n"
      ],
      "metadata": {
        "colab": {
          "base_uri": "https://localhost:8080/"
        },
        "id": "vVmiGJLjkeBZ",
        "outputId": "b99bd8e7-1526-4be8-fc72-98742970cf3d"
      },
      "execution_count": null,
      "outputs": [
        {
          "output_type": "stream",
          "name": "stdout",
          "text": [
            "{1, 2, 3, 4, 5, 6}\n",
            "{3, 4}\n",
            "{1, 2}\n"
          ]
        }
      ]
    },
    {
      "cell_type": "markdown",
      "source": [
        "Lists require complex loops to achieve the same results.\n",
        "\n"
      ],
      "metadata": {
        "id": "NmaqLea2kkkP"
      }
    },
    {
      "cell_type": "markdown",
      "source": [
        " ## **Q6.What is a string in Python, and how is it different from a list?**\n"
      ],
      "metadata": {
        "id": "56MQDnxKkzXp"
      }
    },
    {
      "cell_type": "markdown",
      "source": [
        "A string in Python is a sequence of characters enclosed in single ('), double (\"), or triple (''' \"\"\") quotes. Strings are immutable, meaning they cannot be changed after creation."
      ],
      "metadata": {
        "id": "N66A3jmZlS9d"
      }
    },
    {
      "cell_type": "markdown",
      "source": [
        "**For Example:**"
      ],
      "metadata": {
        "id": "eTxKd21tlWBa"
      }
    },
    {
      "cell_type": "code",
      "source": [
        "text = \"Hello, World!\"\n",
        "print(text)  # Output: Hello, World!\n"
      ],
      "metadata": {
        "colab": {
          "base_uri": "https://localhost:8080/"
        },
        "id": "L7VnxEUglfCM",
        "outputId": "495071a4-2481-4032-ec41-f2f784b10ca9"
      },
      "execution_count": null,
      "outputs": [
        {
          "output_type": "stream",
          "name": "stdout",
          "text": [
            "Hello, World!\n"
          ]
        }
      ]
    },
    {
      "cell_type": "markdown",
      "source": [
        "* **Differences Between Strings and Lists**"
      ],
      "metadata": {
        "id": "6kg-2T2clhHN"
      }
    },
    {
      "cell_type": "markdown",
      "source": [
        "![Screenshot 2025-01-29 155721.png](data:image/png;base64,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)"
      ],
      "metadata": {
        "id": "twk6QEEil5Tp"
      }
    },
    {
      "cell_type": "markdown",
      "source": [
        "**Example:**\n",
        "\n",
        " Key Differences\n",
        "\n",
        "**1. Strings Are Immutable**"
      ],
      "metadata": {
        "id": "WTkrOCTCm6Ye"
      }
    },
    {
      "cell_type": "code",
      "source": [
        "text = \"hello\"\n",
        "# text[0] = \"H\"  # This will raise an error\n",
        "new_text = \"H\" + text[1:]  # Creates a new string\n",
        "print(new_text)  # Output \"Hello\"\n"
      ],
      "metadata": {
        "colab": {
          "base_uri": "https://localhost:8080/"
        },
        "id": "EfXevxPKnB8d",
        "outputId": "c1cda88a-2ca3-4bfe-83d7-9a5df4936e0d"
      },
      "execution_count": null,
      "outputs": [
        {
          "output_type": "stream",
          "name": "stdout",
          "text": [
            "Hello\n"
          ]
        }
      ]
    },
    {
      "cell_type": "markdown",
      "source": [
        "**2. Lists Are Mutable**"
      ],
      "metadata": {
        "id": "X-ay15JjnKkD"
      }
    },
    {
      "cell_type": "code",
      "source": [
        "my_list = [\"h\", \"e\", \"l\", \"l\", \"o\"]\n",
        "my_list[0] = \"H\"  # Allowed\n",
        "print(my_list)  # Output ['H', 'e', 'l', 'l', 'o']\n"
      ],
      "metadata": {
        "colab": {
          "base_uri": "https://localhost:8080/"
        },
        "id": "GhBpRfhvnlx7",
        "outputId": "dfd5cd0f-118f-4585-9fd8-ce99ca48195e"
      },
      "execution_count": null,
      "outputs": [
        {
          "output_type": "stream",
          "name": "stdout",
          "text": [
            "['H', 'e', 'l', 'l', 'o']\n"
          ]
        }
      ]
    },
    {
      "cell_type": "markdown",
      "source": [
        "**3. Storing Different Data Types**"
      ],
      "metadata": {
        "id": "wckXZmvvnrQg"
      }
    },
    {
      "cell_type": "code",
      "source": [
        "string = \"12345\"  # Only characters\n",
        "my_list = [1, \"two\", 3.0, True]  # Mixed data types\n",
        "print(my_list)"
      ],
      "metadata": {
        "colab": {
          "base_uri": "https://localhost:8080/"
        },
        "id": "utphChcAnvVq",
        "outputId": "5c1a4bf3-1aff-4181-d76c-0822dc7917a6"
      },
      "execution_count": null,
      "outputs": [
        {
          "output_type": "stream",
          "name": "stdout",
          "text": [
            "[1, 'two', 3.0, True]\n"
          ]
        }
      ]
    },
    {
      "cell_type": "markdown",
      "source": [
        "## **Q7.How do tuples ensure data integrity in Python4**"
      ],
      "metadata": {
        "id": "gyLuSzltoFI8"
      }
    },
    {
      "cell_type": "markdown",
      "source": [
        "A tuple in Python is an immutable sequence, meaning its contents cannot be changed after creation. This immutability helps ensure data integrity by preventing accidental modifications."
      ],
      "metadata": {
        "id": "-A0Wwlt_oLSg"
      }
    },
    {
      "cell_type": "markdown",
      "source": [
        "**Key Ways Tuples Ensure Data Integrity**"
      ],
      "metadata": {
        "id": "p3q84VTTocMe"
      }
    },
    {
      "cell_type": "markdown",
      "source": [
        "**1. Immutability (Prevents Unintended Modifications)**\n",
        "\n",
        "* Once a tuple is created, its elements cannot be changed, added, or removed.\n",
        "\n",
        "* This prevents accidental changes, ensuring that the data remains consistent."
      ],
      "metadata": {
        "id": "n2Gy5PmDofyF"
      }
    },
    {
      "cell_type": "markdown",
      "source": [
        "**Example:**\n",
        "\n",
        "* Tuple is Immutable"
      ],
      "metadata": {
        "id": "XivIyA-1oz6n"
      }
    },
    {
      "cell_type": "code",
      "source": [
        "data = (1, 2, 3)\n",
        "# data[0] = 100   This will raise a TypeError (cannot modify)\n",
        "print(data)  # Output (1, 2, 3)\n"
      ],
      "metadata": {
        "colab": {
          "base_uri": "https://localhost:8080/"
        },
        "id": "7x9_G248pCcu",
        "outputId": "8bf8f565-04f1-45ae-b32e-3a03f1613719"
      },
      "execution_count": null,
      "outputs": [
        {
          "output_type": "stream",
          "name": "stdout",
          "text": [
            "(1, 2, 3)\n"
          ]
        }
      ]
    },
    {
      "cell_type": "markdown",
      "source": [
        "Lists, on the other hand, can be modified, leading to potential data corruption."
      ],
      "metadata": {
        "id": "JE6t73jFqWbt"
      }
    },
    {
      "cell_type": "markdown",
      "source": [
        "**2. Safe for Hashing (Used as Dictionary Keys & Set Elements)**\n",
        "\n",
        "* Since tuples cannot change, they can be used as keys in dictionaries and elements in sets.\n",
        "\n",
        "* This ensures that data stored in hash-based structures remains reliable.\n",
        "\n",
        "**Example:**\n",
        "\n",
        "* Tuple as a Dictionary Key"
      ],
      "metadata": {
        "id": "s_7UfVBHphCi"
      }
    },
    {
      "cell_type": "code",
      "source": [
        "coordinates = {(10, 20): \"Location A\", (30, 40): \"Location B\"}\n",
        "print(coordinates[(10, 20)])  # Output Location A\n"
      ],
      "metadata": {
        "colab": {
          "base_uri": "https://localhost:8080/"
        },
        "id": "01u47ZAcp2XF",
        "outputId": "a733b12e-416a-4cdc-dcd2-a004bad02181"
      },
      "execution_count": null,
      "outputs": [
        {
          "output_type": "stream",
          "name": "stdout",
          "text": [
            "Location A\n"
          ]
        }
      ]
    },
    {
      "cell_type": "markdown",
      "source": [
        "Lists cannot be used as dictionary keys because they are mutable."
      ],
      "metadata": {
        "id": "ZXbkaiWpqbef"
      }
    },
    {
      "cell_type": "markdown",
      "source": [
        "**3. Protection in Multi-threaded Environments**\n",
        "\n",
        "* In multi-threaded applications, using immutable objects like tuples prevents race conditions.\n",
        "\n",
        "* This ensures that data remains consistent across threads."
      ],
      "metadata": {
        "id": "pTiw7BGxqhrq"
      }
    },
    {
      "cell_type": "markdown",
      "source": [
        "**Example:**\n",
        "\n",
        "* Tuples Are Thread-Safe"
      ],
      "metadata": {
        "id": "3hGCIFGkq5-x"
      }
    },
    {
      "cell_type": "code",
      "source": [
        "import threading\n",
        "\n",
        "shared_data = (1, 2, 3)  # Safe to share between threads (Immutable)\n",
        "print(shared_data)"
      ],
      "metadata": {
        "colab": {
          "base_uri": "https://localhost:8080/"
        },
        "id": "9tFAVyuXq_06",
        "outputId": "2fe70ed2-89b4-461a-9d71-e742343b627f"
      },
      "execution_count": null,
      "outputs": [
        {
          "output_type": "stream",
          "name": "stdout",
          "text": [
            "(1, 2, 3)\n"
          ]
        }
      ]
    },
    {
      "cell_type": "markdown",
      "source": [
        "Lists, being mutable, could be changed by multiple threads, causing unpredictable behavior."
      ],
      "metadata": {
        "id": "6cQsc8zBrTLm"
      }
    },
    {
      "cell_type": "markdown",
      "source": [
        "**4. Reliable Data Storage (Ensures Consistency)**\n",
        "\n",
        "* Tuples are commonly used to store fixed records (e.g., database records, configurations).\n",
        "\n",
        "* Since they cannot change, they maintain data accuracy across operations."
      ],
      "metadata": {
        "id": "V83y5IjRrWEZ"
      }
    },
    {
      "cell_type": "markdown",
      "source": [
        " **Example:**\n",
        "\n",
        " * Tuple for Fixed Data (Database Record)"
      ],
      "metadata": {
        "id": "pqFqUsaOrtNr"
      }
    },
    {
      "cell_type": "code",
      "source": [
        "student = (\"Alice\", 21, \"Computer Science\")  # Ensures integrity of student data\n",
        "print(student)"
      ],
      "metadata": {
        "colab": {
          "base_uri": "https://localhost:8080/"
        },
        "id": "7yrxZrMGsE2F",
        "outputId": "a3ebcb80-f7f0-4aaa-a483-b1b066caa109"
      },
      "execution_count": null,
      "outputs": [
        {
          "output_type": "stream",
          "name": "stdout",
          "text": [
            "('Alice', 21, 'Computer Science')\n"
          ]
        }
      ]
    },
    {
      "cell_type": "markdown",
      "source": [
        "Using a list would allow unwanted modifications, leading to inconsistencies."
      ],
      "metadata": {
        "id": "OYFEtDkbsMWF"
      }
    },
    {
      "cell_type": "markdown",
      "source": [
        "## **Q8.What is a hash table, and how does it relate to dictionaries in Python?**"
      ],
      "metadata": {
        "id": "Me-ufvzCtdVr"
      }
    },
    {
      "cell_type": "markdown",
      "source": [
        "A hash table (or hash map) is a data structure that stores key-value pairs using a hash function to map keys to specific memory locations (indexes). This enables fast lookups, insertions, and deletions (on average, O(1) time complexity)."
      ],
      "metadata": {
        "id": "tWQoKo91s-vT"
      }
    },
    {
      "cell_type": "markdown",
      "source": [
        " **1.How does it relate to dictionaries in Python?**"
      ],
      "metadata": {
        "id": "-GTr13uXt7IK"
      }
    },
    {
      "cell_type": "markdown",
      "source": [
        "Python's dict (dictionary) is implemented as a hash table, allowing efficient storage and retrieval of key-value pairs."
      ],
      "metadata": {
        "id": "6i2E5193uEdj"
      }
    },
    {
      "cell_type": "markdown",
      "source": [
        "**1.Key Hashing**\n",
        "\n",
        "* When a key is added to a dictionary, Python applies a hash function (hash(key)) to compute a unique integer (hash value).\n",
        "\n",
        "**2.Index Mapping**\n",
        "* The hash value is mapped to a specific index in the dictionary’s memory.\n",
        "\n",
        "**3.Value Storage**\n",
        "\n",
        "* The corresponding value is stored at that index.\n",
        "\n",
        "**4.Handling Collisions**\n",
        "\n",
        "* If two different keys generate the same index (collision), Python handles it using techniques like open addressing or linked lists"
      ],
      "metadata": {
        "id": "2ETgeNhguM-_"
      }
    },
    {
      "cell_type": "markdown",
      "source": [
        "**2. Example:**\n",
        "\n",
        "* Dictionary Using a Hash Table"
      ],
      "metadata": {
        "id": "qte4MNJ2vD0o"
      }
    },
    {
      "cell_type": "code",
      "source": [
        "my_dict = {\n",
        "    \"name\": \"Alice\",\n",
        "    \"age\": 25,\n",
        "    \"city\": \"New York\"\n",
        "}\n",
        "\n",
        "print(my_dict[\"name\"])  # Fast O(1) lookup\n"
      ],
      "metadata": {
        "colab": {
          "base_uri": "https://localhost:8080/"
        },
        "id": "4iUvsacLvQRy",
        "outputId": "9644ad90-89a9-472d-ab78-a38e3a125bd7"
      },
      "execution_count": null,
      "outputs": [
        {
          "output_type": "stream",
          "name": "stdout",
          "text": [
            "Alice\n"
          ]
        }
      ]
    },
    {
      "cell_type": "markdown",
      "source": [
        "**Internally, Python:**\n",
        "\n",
        "* Hashes \"name\" (e.g., hash(\"name\") → 789123).\n",
        "\n",
        "* Maps the hash to an index.\n",
        "\n",
        "* Retrieves \"Alice\" from that location.\n"
      ],
      "metadata": {
        "id": "mGVwtFeCvUPo"
      }
    },
    {
      "cell_type": "markdown",
      "source": [
        "**3. Handling Collisions in Hash Tables**\n",
        "\n",
        "Python uses open addressing to resolve key collisions:\n",
        "\n",
        "* If two keys produce the same hash index, Python finds another available slot for the second key.\n",
        "* This avoids overwriting existing values.\n",
        "\n",
        "**4. When to Use a Dictionary Over Other Data Structures?**\n",
        "\n",
        " * When you need fast lookups (O(1) on average).\n",
        "\n",
        " * When working with key-value pairs (e.g., configurations, mappings).\n",
        "\n",
        " * When storing unique, unordered data."
      ],
      "metadata": {
        "id": "cFUzJ_2wwHBQ"
      }
    },
    {
      "cell_type": "markdown",
      "source": [
        "##**Q9.Can lists contain different data types in Python?**"
      ],
      "metadata": {
        "id": "bbMqJ37h_nW_"
      }
    },
    {
      "cell_type": "markdown",
      "source": [
        " In Python, lists can store elements of different data types within the same list. A list is a heterogeneous data structure, meaning it can hold integers, floats, strings, booleans, other lists, dictionaries, tuples, and even functions."
      ],
      "metadata": {
        "id": "j5PPyUpb_2-s"
      }
    },
    {
      "cell_type": "markdown",
      "source": [
        "**Example:**\n",
        "\n",
        " * List with Mixed Data Types"
      ],
      "metadata": {
        "id": "TZ7B2A5XHJKx"
      }
    },
    {
      "cell_type": "code",
      "source": [
        "my_list = [42, 3.14, \"Hello\", True, [1, 2, 3], {\"key\": \"value\"}, (10, 20)]\n",
        "print(my_list)\n",
        "# Output [42, 3.14, 'Hello', True, [1, 2, 3], {'key': 'value'}, (10, 20)]\n"
      ],
      "metadata": {
        "colab": {
          "base_uri": "https://localhost:8080/"
        },
        "id": "DdDsaM8fHQVP",
        "outputId": "7b47fd3e-5940-4390-efe9-96e6cb56c0e9"
      },
      "execution_count": null,
      "outputs": [
        {
          "output_type": "stream",
          "name": "stdout",
          "text": [
            "[42, 3.14, 'Hello', True, [1, 2, 3], {'key': 'value'}, (10, 20)]\n"
          ]
        }
      ]
    },
    {
      "cell_type": "markdown",
      "source": [
        "**The list contains:**\n",
        "\n",
        "* An integer (42)\n",
        "* A float (3.14)\n",
        "* A string (\"Hello\")\n",
        "* A boolean (True)\n",
        "* A nested list ([1, 2, 3])\n",
        "* A dictionary ({\"key\": \"value\"})\n",
        "* A tuple ((10, 20))\n"
      ],
      "metadata": {
        "id": "R1TlL69_HdmM"
      }
    },
    {
      "cell_type": "markdown",
      "source": [
        "**How Python Handles Different Data Types in a List?**\n",
        "\n",
        "* Each element in the list is stored as an object reference in memory.\n",
        "* Python dynamically allocates memory to different types without restrictions.\n"
      ],
      "metadata": {
        "id": "oapIrytcH0JU"
      }
    },
    {
      "cell_type": "markdown",
      "source": [
        "**Example:**\n",
        "\n",
        " * List with Functions and Objects\n"
      ],
      "metadata": {
        "id": "dMyd1Zu9ICjb"
      }
    },
    {
      "cell_type": "code",
      "source": [
        "def greet():\n",
        "    return \"Hello, World!\"\n",
        "\n",
        "my_list = [len, greet, print]  # Storing functions in a list\n",
        "\n",
        "print(my_list[1]())  # Calls greet() -> Output: Hello, World!\n"
      ],
      "metadata": {
        "colab": {
          "base_uri": "https://localhost:8080/"
        },
        "id": "uQgIFWieIMcv",
        "outputId": "d6a46741-96d3-4547-bc58-a888af5fb462"
      },
      "execution_count": null,
      "outputs": [
        {
          "output_type": "stream",
          "name": "stdout",
          "text": [
            "Hello, World!\n"
          ]
        }
      ]
    },
    {
      "cell_type": "markdown",
      "source": [
        "Lists can store functions, which can be called dynamically."
      ],
      "metadata": {
        "id": "hMdh1nplIRVt"
      }
    },
    {
      "cell_type": "markdown",
      "source": [
        "**When to Use Mixed-Type Lists?**\n",
        "\n",
        "* When you need flexibility in data storage.\n",
        "* When handling complex data structures (e.g., JSON-like objects).\n",
        "* When working with dynamic inputs that vary in type."
      ],
      "metadata": {
        "id": "sR9DDpFqIW9A"
      }
    },
    {
      "cell_type": "markdown",
      "source": [
        " ## **Q10.Explain why strings are immutable in Python**"
      ],
      "metadata": {
        "id": "uv4M_IKsIvIA"
      }
    },
    {
      "cell_type": "markdown",
      "source": [
        "In Python, strings are immutable, meaning once a string is created, it cannot be changed. Any modification creates a new string object rather than altering the original one."
      ],
      "metadata": {
        "id": "G8nGKaNVI8lh"
      }
    },
    {
      "cell_type": "markdown",
      "source": [
        "**Reasons for String Immutability**\n",
        "\n",
        "**1. Memory Efficiency (String Interning)**\n",
        " * Python optimizes memory usage by storing common strings only once.\n",
        "\n",
        "* If strings were mutable, changing one reference could unintentionally affect others\n",
        "\n",
        "**Example:**\n",
        "\n",
        "* String Interning in Action\n",
        "\n"
      ],
      "metadata": {
        "id": "DPp_nNXLPaij"
      }
    },
    {
      "cell_type": "code",
      "source": [
        "s1 = \"hello\"\n",
        "s2 = \"hello\"\n",
        "print(s1 is s2)  # Output: True (both refer to the same object)\n"
      ],
      "metadata": {
        "colab": {
          "base_uri": "https://localhost:8080/"
        },
        "id": "0HzNJGEaP05T",
        "outputId": "68a274ef-d1c2-4b31-8275-462f1a0130f3"
      },
      "execution_count": null,
      "outputs": [
        {
          "output_type": "stream",
          "name": "stdout",
          "text": [
            "True\n"
          ]
        }
      ]
    },
    {
      "cell_type": "markdown",
      "source": [
        "If strings were mutable, modifying s1 would also change s2, causing unexpected behavior."
      ],
      "metadata": {
        "id": "JglxwEISP59C"
      }
    },
    {
      "cell_type": "markdown",
      "source": [
        "**2. Hashability (Used as Dictionary Keys & Set Elements)**"
      ],
      "metadata": {
        "id": "vZysurI6P-Z8"
      }
    },
    {
      "cell_type": "markdown",
      "source": [
        "* Immutable objects are hashable, meaning they can be used as dictionary keys or set elements.\n",
        "\n",
        "* If strings were mutable, their hash values could change, breaking dictionary operations."
      ],
      "metadata": {
        "id": "_izScDiWQMwY"
      }
    },
    {
      "cell_type": "markdown",
      "source": [
        "**Example:**\n",
        "\n",
        "* String as a Dictionary Key"
      ],
      "metadata": {
        "id": "8gR9culAQWC5"
      }
    },
    {
      "cell_type": "code",
      "source": [
        "my_dict = {\"name\": \"Alice\"}\n",
        "print(my_dict[\"name\"])  # Output: Alice\n"
      ],
      "metadata": {
        "colab": {
          "base_uri": "https://localhost:8080/"
        },
        "id": "B00Iou7hQdT0",
        "outputId": "8a1de8c8-95b9-4805-9341-ecfea8cee361"
      },
      "execution_count": null,
      "outputs": [
        {
          "output_type": "stream",
          "name": "stdout",
          "text": [
            "Alice\n"
          ]
        }
      ]
    },
    {
      "cell_type": "markdown",
      "source": [
        "If strings were mutable, modifying \"name\" would make it impossible to find the value."
      ],
      "metadata": {
        "id": "8bhxZIGsQkZ_"
      }
    },
    {
      "cell_type": "markdown",
      "source": [
        "**3. Thread Safety (Avoids Unintended Side Effects)**"
      ],
      "metadata": {
        "id": "-qN6SHanQn1g"
      }
    },
    {
      "cell_type": "markdown",
      "source": [
        "* Immutability makes strings safe to use in multi-threaded applications.\n",
        "\n",
        "* Since they cannot change, multiple threads can access the same string without conflicts\n",
        "\n",
        "**Example:**\n",
        "\n",
        "* Safe Multi-Threading"
      ],
      "metadata": {
        "id": "e-7AXqF7QrfB"
      }
    },
    {
      "cell_type": "code",
      "source": [
        "text = \"Immutable\"\n",
        "# Safe to use across threads since it won't change\n"
      ],
      "metadata": {
        "id": "sAvIosI6Q3S8"
      },
      "execution_count": null,
      "outputs": []
    },
    {
      "cell_type": "markdown",
      "source": [
        "If strings were mutable, different threads modifying the same string could lead to data corruption."
      ],
      "metadata": {
        "id": "6PKveiskQ-RZ"
      }
    },
    {
      "cell_type": "markdown",
      "source": [
        "**4. Security (Prevents Unexpected Changes)**\n",
        "\n",
        "* Strings often store sensitive data (e.g., passwords, file paths).\n",
        "\n",
        "* If mutable, malicious code could modify them unexpectedly, leading to security issues.\n",
        "\n",
        "**Example:**\n",
        "\n",
        "* Protecting Strings\n",
        "\n"
      ],
      "metadata": {
        "id": "BnTctH9iRBZl"
      }
    },
    {
      "cell_type": "code",
      "source": [
        "password = \"secure123\"\n",
        "# Password cannot be modified in-place\n"
      ],
      "metadata": {
        "id": "3fMjIuwZRcKG"
      },
      "execution_count": null,
      "outputs": []
    },
    {
      "cell_type": "markdown",
      "source": [
        "Prevents accidental or malicious modifications."
      ],
      "metadata": {
        "id": "FzLPOdb6RgIT"
      }
    },
    {
      "cell_type": "markdown",
      "source": [
        "**What Happens When You \"Modify\" a String?**\n",
        "\n",
        "* Since strings cannot be changed, any operation that seems to modify a string creates a new one.\n",
        "\n",
        "**Example:**\n",
        "\n",
        "* Creating a New String"
      ],
      "metadata": {
        "id": "rY9OC-SZRlwu"
      }
    },
    {
      "cell_type": "code",
      "source": [
        "s = \"hello\"\n",
        "s = s.upper()  # Creates a new string \"HELLO\" instead of modifying s\n",
        "print(s)  # Output HELLO\n"
      ],
      "metadata": {
        "colab": {
          "base_uri": "https://localhost:8080/"
        },
        "id": "tieJI_FMR0CC",
        "outputId": "c9845292-bf8d-4aab-c07e-4cc6cc54b8b1"
      },
      "execution_count": null,
      "outputs": [
        {
          "output_type": "stream",
          "name": "stdout",
          "text": [
            "HELLO\n"
          ]
        }
      ]
    },
    {
      "cell_type": "markdown",
      "source": [
        "The original \"hello\" is unchanged; \"HELLO\" is a new string"
      ],
      "metadata": {
        "id": "fUcAo890R6NM"
      }
    },
    {
      "cell_type": "markdown",
      "source": [
        "**Conclusion: Why Strings Are Immutable**"
      ],
      "metadata": {
        "id": "1vMXX_KVR66M"
      }
    },
    {
      "cell_type": "code",
      "source": [],
      "metadata": {
        "id": "YqrHvN-oq6Qp"
      },
      "execution_count": null,
      "outputs": []
    },
    {
      "cell_type": "markdown",
      "source": [
        " * Memory Efficiency (Avoids unnecessary copies).\n",
        "\n",
        " *Ensures Hashability (Allows use in dictionaries & sets).\n",
        "\n",
        " *Thread Safety (Prevents unexpected modifications).\n",
        "\n",
        " *Security (Protects against unintended changes)."
      ],
      "metadata": {
        "id": "J596V_KJSDdE"
      }
    },
    {
      "cell_type": "markdown",
      "source": [
        "##**Q11.What advantages do dictionaries offer over lists for certain tasks?**"
      ],
      "metadata": {
        "id": "FS8bujimqx5b"
      }
    },
    {
      "cell_type": "markdown",
      "source": [
        "Dictionaries (dict) and lists (list) are both built-in data structures in Python, but dictionaries offer key advantages in certain scenarios due to their key-value mapping and hash table implementation."
      ],
      "metadata": {
        "id": "-Hj-vjnCq9Fu"
      }
    },
    {
      "cell_type": "markdown",
      "source": [
        "**1. Faster Lookups (O(1) vs. O(n))**"
      ],
      "metadata": {
        "id": "nk0HGNN9rDhr"
      }
    },
    {
      "cell_type": "markdown",
      "source": [
        "* Dictionaries provide O(1) (constant-time) lookups using a hash table.\n",
        "\n",
        "* Lists require O(n) (linear-time) lookups as they must scan elements one by one."
      ],
      "metadata": {
        "id": "5R_1pF17rHt2"
      }
    },
    {
      "cell_type": "markdown",
      "source": [
        "**Example:**\n",
        "\n",
        " * Fast Lookup with Dictionaries"
      ],
      "metadata": {
        "id": "fryTqgHKrOyq"
      }
    },
    {
      "cell_type": "code",
      "source": [
        "students = {\"Alice\": 25, \"Bob\": 22, \"Charlie\": 27}\n",
        "print(students[\"Alice\"])  # Output: 25 (Fast O(1) lookup)\n"
      ],
      "metadata": {
        "colab": {
          "base_uri": "https://localhost:8080/"
        },
        "id": "bfsW35OcrUmT",
        "outputId": "ad9ea5e6-3d43-47aa-a020-f16cf95cdac8"
      },
      "execution_count": null,
      "outputs": [
        {
          "output_type": "stream",
          "name": "stdout",
          "text": [
            "25\n"
          ]
        }
      ]
    },
    {
      "cell_type": "markdown",
      "source": [
        "**Example:**\n",
        "\n",
        " * Slow Lookup with Lists"
      ],
      "metadata": {
        "id": "8nUWsdiJriDN"
      }
    },
    {
      "cell_type": "code",
      "source": [
        "students = [(\"Alice\", 25), (\"Bob\", 22), (\"Charlie\", 27)]\n",
        "for name, age in students:\n",
        "    if name == \"Alice\":\n",
        "        print(age)  # Takes longer as list size grows (O(n) complexity)\n"
      ],
      "metadata": {
        "colab": {
          "base_uri": "https://localhost:8080/"
        },
        "id": "3dsSdwJOrlc6",
        "outputId": "b04a8205-36f4-4d10-984b-609478830464"
      },
      "execution_count": null,
      "outputs": [
        {
          "output_type": "stream",
          "name": "stdout",
          "text": [
            "25\n"
          ]
        }
      ]
    },
    {
      "cell_type": "markdown",
      "source": [
        "Dictionaries are much faster for lookups compared to lists."
      ],
      "metadata": {
        "id": "C-UxwoeVrsEg"
      }
    },
    {
      "cell_type": "markdown",
      "source": [
        "**2. Key-Value Mapping (More Meaningful Access)**\n",
        "\n",
        "\n",
        "* Dictionaries use keys for easy retrieval, while lists use index positions.\n",
        "\n",
        "* This makes dictionaries more intuitive when storing data with labels."
      ],
      "metadata": {
        "id": "utMVhRyWrxeX"
      }
    },
    {
      "cell_type": "markdown",
      "source": [
        "**Example:**\n",
        "\n",
        "* List is Less Intuitive"
      ],
      "metadata": {
        "id": "guJsjLrlsDkR"
      }
    },
    {
      "cell_type": "code",
      "source": [
        "person = [\"Alice\", 25, \"New York\"]\n",
        "print(person[2])  # Not clear what '2' represents\n"
      ],
      "metadata": {
        "colab": {
          "base_uri": "https://localhost:8080/"
        },
        "id": "E_hfi-LzsI3s",
        "outputId": "69daf6de-aef0-46d4-e525-443640212b30"
      },
      "execution_count": null,
      "outputs": [
        {
          "output_type": "stream",
          "name": "stdout",
          "text": [
            "New York\n"
          ]
        }
      ]
    },
    {
      "cell_type": "markdown",
      "source": [
        "Dictionaries provide self-explanatory keys, unlike index-based access in lists.\n",
        "\n"
      ],
      "metadata": {
        "id": "FmrMkuPcsLYN"
      }
    },
    {
      "cell_type": "markdown",
      "source": [
        "**3. No Need for Manual Searching**\n",
        "\n",
        "* Lists require loops or index() calls to find elements.\n",
        "\n",
        "* Dictionaries provide instant access using keys."
      ],
      "metadata": {
        "id": "-W6nVsRisMjS"
      }
    },
    {
      "cell_type": "markdown",
      "source": [
        "**Example:**\n",
        "\n",
        "* Direct Access in Dictionaries\n"
      ],
      "metadata": {
        "id": "t78Ljs9PsVtB"
      }
    },
    {
      "cell_type": "code",
      "source": [
        "inventory = {\"apples\": 10, \"bananas\": 5, \"oranges\": 8}\n",
        "print(inventory[\"bananas\"])  # Output 5 (No search needed)\n"
      ],
      "metadata": {
        "colab": {
          "base_uri": "https://localhost:8080/"
        },
        "id": "BO3adcGnslBw",
        "outputId": "256f9803-ff3a-4971-ffb5-7b934b61db74"
      },
      "execution_count": null,
      "outputs": [
        {
          "output_type": "stream",
          "name": "stdout",
          "text": [
            "5\n"
          ]
        }
      ]
    },
    {
      "cell_type": "markdown",
      "source": [
        "**Example:**\n",
        "\n",
        "* Searching in Lists Takes More Time"
      ],
      "metadata": {
        "id": "BITqSocZso2F"
      }
    },
    {
      "cell_type": "code",
      "source": [
        "inventory = [(\"apples\", 10), (\"bananas\", 5), (\"oranges\", 8)]\n",
        "for fruit, count in inventory:\n",
        "    if fruit == \"bananas\":\n",
        "        print(count)  # Takes O(n) time\n"
      ],
      "metadata": {
        "colab": {
          "base_uri": "https://localhost:8080/"
        },
        "id": "jyi6E9q_szYf",
        "outputId": "fee630dc-f4fa-4fa3-9585-ab7f26ec7cbd"
      },
      "execution_count": null,
      "outputs": [
        {
          "output_type": "stream",
          "name": "stdout",
          "text": [
            "5\n"
          ]
        }
      ]
    },
    {
      "cell_type": "markdown",
      "source": [
        " Dictionaries avoid unnecessary loops for searching.\n",
        "\n"
      ],
      "metadata": {
        "id": "Bi9GSxWks2kY"
      }
    },
    {
      "cell_type": "markdown",
      "source": [
        "**4. Flexible Data Storage (Nested & Complex Structures)**"
      ],
      "metadata": {
        "id": "8_18ngaFs6uo"
      }
    },
    {
      "cell_type": "markdown",
      "source": [
        "* Dictionaries can store complex data efficiently, while lists are better for simple sequences."
      ],
      "metadata": {
        "id": "M7EWx1yDwAYb"
      }
    },
    {
      "cell_type": "markdown",
      "source": [
        "**Example:**\n",
        "\n",
        "* Nested Dictionary for Structured Data"
      ],
      "metadata": {
        "id": "R0ERXqQ0wEsI"
      }
    },
    {
      "cell_type": "code",
      "source": [
        "students = {\n",
        "    \"Alice\": {\"age\": 25, \"grade\": \"A\"},\n",
        "    \"Bob\": {\"age\": 22, \"grade\": \"B\"}\n",
        "}\n",
        "print(students[\"Alice\"][\"grade\"])  # Output A\n"
      ],
      "metadata": {
        "colab": {
          "base_uri": "https://localhost:8080/"
        },
        "id": "L3FYaCWDwOwi",
        "outputId": "dd62d3c5-65c8-437c-acd4-3bf29c7d14cf"
      },
      "execution_count": null,
      "outputs": [
        {
          "output_type": "stream",
          "name": "stdout",
          "text": [
            "A\n"
          ]
        }
      ]
    },
    {
      "cell_type": "markdown",
      "source": [
        "Dictionaries allow hierarchical, structured data storage."
      ],
      "metadata": {
        "id": "PT0iOIcswc69"
      }
    },
    {
      "cell_type": "markdown",
      "source": [
        "**5. No Wasted Index Space (Sparse Data Representation)**\n",
        "\n",
        "* Lists must use consecutive indexes, wasting space if many elements are missing.\n",
        "\n",
        "* Dictionaries allow sparse data storage, keeping only the necessary entries."
      ],
      "metadata": {
        "id": "-5W2-OeuwetX"
      }
    },
    {
      "cell_type": "markdown",
      "source": [
        "**Example:**\n",
        "\n",
        "* Dictionary for Sparse Data"
      ],
      "metadata": {
        "id": "WQaBVa2iwvha"
      }
    },
    {
      "cell_type": "code",
      "source": [
        "sparse_data = {1001: \"Alice\", 5002: \"Bob\", 7005: \"Charlie\"}\n",
        "print(sparse_data)"
      ],
      "metadata": {
        "colab": {
          "base_uri": "https://localhost:8080/"
        },
        "id": "AvyJ_cLSwzQA",
        "outputId": "a0f04586-340c-4aed-c8a5-f5ca471b325e"
      },
      "execution_count": null,
      "outputs": [
        {
          "output_type": "stream",
          "name": "stdout",
          "text": [
            "{1001: 'Alice', 5002: 'Bob', 7005: 'Charlie'}\n"
          ]
        }
      ]
    },
    {
      "cell_type": "markdown",
      "source": [
        "In a list, you would need to fill all missing indexes, leading to memory waste."
      ],
      "metadata": {
        "id": "2sGsjDrHw8WR"
      }
    },
    {
      "cell_type": "markdown",
      "source": [
        "**When to Use Dictionaries Over Lists?**\n",
        "\n",
        "* When fast lookups are needed (O(1) access).\n",
        "* When data is key-value based (e.g., user profiles, inventory).\n",
        "* When working with structured or nested data.\n",
        "* When handling sparse data without wasting memory."
      ],
      "metadata": {
        "id": "D0FoEXEIw_ig"
      }
    },
    {
      "cell_type": "markdown",
      "source": [
        "##**Q12.Describe a scenario where using a tuple would be preferable over a list.**\n"
      ],
      "metadata": {
        "id": "ZxZE64lkzF83"
      }
    },
    {
      "cell_type": "markdown",
      "source": [
        "**Scenario Where a Tuple is Preferable Over a List**\n",
        "\n",
        "A tuple is preferable over a list when you need to store fixed, immutable data that should not change during program execution."
      ],
      "metadata": {
        "id": "3cKEoAokzYK9"
      }
    },
    {
      "cell_type": "markdown",
      "source": [
        "**Scenario: Storing Database Records (Immutable Data)**\n",
        "\n",
        "In database applications, tuples are often used to represent rows in a table. Since database records should remain unchanged once retrieved, tuples ensure data integrity."
      ],
      "metadata": {
        "id": "owWbOOOTzwyD"
      }
    },
    {
      "cell_type": "markdown",
      "source": [
        "**Example:**\n",
        "\n",
        "* Using Tuples for Database Records"
      ],
      "metadata": {
        "id": "K0_uBS8fz7nV"
      }
    },
    {
      "cell_type": "code",
      "source": [
        "# Storing a database record as a tuple\n",
        "user_record = (101, \"Alice\", \"alice@example.com\", \"New York\")\n",
        "print(user_record)\n",
        "# Prevents accidental modifications\n",
        "# user_record[1] = \"Bob\"   TypeError: 'tuple' object does not support item assignment\n"
      ],
      "metadata": {
        "colab": {
          "base_uri": "https://localhost:8080/"
        },
        "id": "KmU906UL0EKT",
        "outputId": "c1e438fd-e2b7-4fc5-f82a-0d11b74bdc2f"
      },
      "execution_count": null,
      "outputs": [
        {
          "output_type": "stream",
          "name": "stdout",
          "text": [
            "(101, 'Alice', 'alice@example.com', 'New York')\n"
          ]
        }
      ]
    },
    {
      "cell_type": "markdown",
      "source": [
        "If this were a list, someone could accidentally modify the data, leading to data inconsistency."
      ],
      "metadata": {
        "id": "eWj8ytGN0fZ5"
      }
    },
    {
      "cell_type": "markdown",
      "source": [
        "**Other Scenarios Where Tuples Are Better Than Lists**\n",
        "\n",
        "* 1.Using Tuples as Dictionary Keys (Hashable & Immutable)"
      ],
      "metadata": {
        "id": "rZ5-7tJS0hWk"
      }
    },
    {
      "cell_type": "code",
      "source": [
        "coordinates = {(40.7128, -74.0060): \"New York\", (34.0522, -118.2437): \"Los Angeles\"}\n",
        "print(coordinates)"
      ],
      "metadata": {
        "colab": {
          "base_uri": "https://localhost:8080/"
        },
        "id": "5VCJmR7L0uEd",
        "outputId": "9d6b8f8a-efc0-492f-fdd9-36b55aac7344"
      },
      "execution_count": null,
      "outputs": [
        {
          "output_type": "stream",
          "name": "stdout",
          "text": [
            "{(40.7128, -74.006): 'New York', (34.0522, -118.2437): 'Los Angeles'}\n"
          ]
        }
      ]
    },
    {
      "cell_type": "markdown",
      "source": [
        "Lists cannot be used as dictionary keys because they are mutable."
      ],
      "metadata": {
        "id": "NEQFEahy072L"
      }
    },
    {
      "cell_type": "markdown",
      "source": [
        "* 2.Returning Multiple Values from a Function (Fixed Structure)"
      ],
      "metadata": {
        "id": "N7J2KH1z09H6"
      }
    },
    {
      "cell_type": "code",
      "source": [
        "def get_user():\n",
        "    return (\"Alice\", 25, \"New York\")  # Returns a tuple\n",
        "\n",
        "user = get_user()\n",
        "print(user[0])  # Output: Alice\n"
      ],
      "metadata": {
        "colab": {
          "base_uri": "https://localhost:8080/"
        },
        "id": "9povrXFe1B0u",
        "outputId": "5d3ae067-c956-4c8a-b67d-712ed073d091"
      },
      "execution_count": null,
      "outputs": [
        {
          "output_type": "stream",
          "name": "stdout",
          "text": [
            "Alice\n"
          ]
        }
      ]
    },
    {
      "cell_type": "markdown",
      "source": [
        "Using a tuple ensures that the returned values remain unchanged."
      ],
      "metadata": {
        "id": "UzQpJXDt1WOz"
      }
    },
    {
      "cell_type": "markdown",
      "source": [
        "* 3.Ensuring Read-Only Configuration Settings"
      ],
      "metadata": {
        "id": "MfkXL7aH1diG"
      }
    },
    {
      "cell_type": "code",
      "source": [
        "config = (\"192.168.1.1\", 8080, \"HTTPS\")\n",
        "print(config)"
      ],
      "metadata": {
        "id": "XldccOaa1h6T"
      },
      "execution_count": null,
      "outputs": []
    },
    {
      "cell_type": "markdown",
      "source": [
        "Prevents accidental modifications to critical settings.\n",
        "\n"
      ],
      "metadata": {
        "id": "-myJFpn51rff"
      }
    },
    {
      "cell_type": "markdown",
      "source": [
        " **When to Use a Tuple Over a List?**\n",
        "* When data should not change (e.g., database records, configurations).\n",
        "* When performance matters (tuples are faster and use less memory than lists).\n",
        "*  When using as dictionary keys (since tuples are hashable, but lists are not).\n",
        "* When returning multiple values from a function (ensures structure remains fixed)."
      ],
      "metadata": {
        "id": "T4_Z1gaM1x29"
      }
    },
    {
      "cell_type": "markdown",
      "source": [
        "##**Q13.How do sets handle duplicate values in Python?**"
      ],
      "metadata": {
        "id": "lwmBI5ol2KOz"
      }
    },
    {
      "cell_type": "markdown",
      "source": [
        "In Python, sets automatically remove duplicate values because they are unordered collections of unique elements. When you add duplicate values to a set, Python only keeps one occurrence and ignores the rest.\n",
        "\n"
      ],
      "metadata": {
        "id": "e-laoY0a7Q4V"
      }
    },
    {
      "cell_type": "markdown",
      "source": [
        "**Example:**\n",
        "\n",
        "* 1.Removing Duplicates with a Set"
      ],
      "metadata": {
        "id": "iA49Vt1P_GDT"
      }
    },
    {
      "cell_type": "code",
      "source": [
        "my_set = {1, 2, 2, 3, 4, 4, 4, 5}\n",
        "print(my_set)\n",
        "# Output {1, 2, 3, 4, 5}   Duplicates are removed automatically\n"
      ],
      "metadata": {
        "colab": {
          "base_uri": "https://localhost:8080/"
        },
        "id": "dKsMPh42_Kpy",
        "outputId": "d6ef6553-9842-4bc1-ffc3-92dc62100ed8"
      },
      "execution_count": null,
      "outputs": [
        {
          "output_type": "stream",
          "name": "stdout",
          "text": [
            "{1, 2, 3, 4, 5}\n"
          ]
        }
      ]
    },
    {
      "cell_type": "markdown",
      "source": [
        "Even though 2 and 4 were added multiple times, the set stores them only once."
      ],
      "metadata": {
        "id": "hTbu7aEm_Qp9"
      }
    },
    {
      "cell_type": "markdown",
      "source": [
        "* 2.Adding Duplicate Elements to a Set\n",
        "\n",
        " * If you try to add a duplicate value to an existing set, Python ignores it without raising an error.\n",
        "\n"
      ],
      "metadata": {
        "id": "T9Dohpkh_Tjp"
      }
    },
    {
      "cell_type": "code",
      "source": [
        "numbers = {10, 20, 30}\n",
        "numbers.add(20)  # Adding an existing element\n",
        "print(numbers)\n",
        "# Output {10, 20, 30}  ✅ No duplicate added\n"
      ],
      "metadata": {
        "colab": {
          "base_uri": "https://localhost:8080/"
        },
        "id": "fLtwoNIC_5pY",
        "outputId": "3387420f-ca78-4714-9ab6-0f7de9559b80"
      },
      "execution_count": null,
      "outputs": [
        {
          "output_type": "stream",
          "name": "stdout",
          "text": [
            "{10, 20, 30}\n"
          ]
        }
      ]
    },
    {
      "cell_type": "markdown",
      "source": [
        "The set remains unchanged because 20 is already present.\n",
        "\n"
      ],
      "metadata": {
        "id": "9ndLxr5G_-L9"
      }
    },
    {
      "cell_type": "markdown",
      "source": [
        "* 3.Using a Set to Remove Duplicates from a List\n",
        "\n",
        " * A common use case for sets is removing duplicates from a list.\n",
        "\n",
        "* Converting a List to a Set"
      ],
      "metadata": {
        "id": "6-ASyXwMACCL"
      }
    },
    {
      "cell_type": "code",
      "source": [
        "numbers_list = [1, 2, 2, 3, 4, 4, 5]\n",
        "unique_numbers = set(numbers_list)\n",
        "print(unique_numbers)\n",
        "# Output: {1, 2, 3, 4, 5} ✅ Duplicates removed\n"
      ],
      "metadata": {
        "id": "odkOYn8XAMJx"
      },
      "execution_count": null,
      "outputs": []
    },
    {
      "cell_type": "markdown",
      "source": [
        "Lists allow duplicates, but converting them to a set removes them."
      ],
      "metadata": {
        "id": "Eoz-a_JbAqrS"
      }
    },
    {
      "cell_type": "markdown",
      "source": [
        "**When to Use Sets Over Lists?**\n",
        "\n",
        "* When you need unique values (e.g., storing unique user IDs).\n",
        "* When removing duplicates from a collection quickly.\n",
        "* When checking for membership efficiently (O(1) lookup time)."
      ],
      "metadata": {
        "id": "dDeeif51Aupa"
      }
    },
    {
      "cell_type": "markdown",
      "source": [
        "##**Q14.How does the “in” keyword work differently for lists and dictionaries?**\n"
      ],
      "metadata": {
        "id": "NOeFrw6QBc-y"
      }
    },
    {
      "cell_type": "markdown",
      "source": [
        "The in keyword in Python is used to check membership—whether a value exists in a list, dictionary, or other iterable. However, it behaves differently in lists and dictionaries because of their underlying data structures.\n",
        "\n"
      ],
      "metadata": {
        "id": "PJg1n-ILB0bq"
      }
    },
    {
      "cell_type": "markdown",
      "source": [
        "**1.in with Lists (Searches for Values - O(n) Complexity)**\n",
        "\n",
        "* The in keyword checks if a value exists in a list.\n",
        "\n",
        "* Python scans each element one by one (linear search - O(n) time complexity).\n"
      ],
      "metadata": {
        "id": "U-jxFg_mB8VA"
      }
    },
    {
      "cell_type": "markdown",
      "source": [
        "**Example:**\n",
        "\n",
        "* Checking for an Element in a List"
      ],
      "metadata": {
        "id": "fny3XNniCPUM"
      }
    },
    {
      "cell_type": "code",
      "source": [
        "my_list = [10, 20, 30, 40]\n",
        "print(20 in my_list)  # Output True\n",
        "print(50 in my_list)  # Output False\n"
      ],
      "metadata": {
        "colab": {
          "base_uri": "https://localhost:8080/"
        },
        "id": "0F6vC07MCThT",
        "outputId": "4c9938ef-1b90-46ca-ef8a-c22e6e8cca76"
      },
      "execution_count": null,
      "outputs": [
        {
          "output_type": "stream",
          "name": "stdout",
          "text": [
            "True\n",
            "False\n"
          ]
        }
      ]
    },
    {
      "cell_type": "markdown",
      "source": [
        " **2.in with Dictionaries (Searches for Keys - O(1) Complexity)**\n",
        "\n",
        "* The in keyword checks for the existence of a key, not a value.\n",
        "\n",
        "* Since Python dictionaries use hash tables, this check is O(1) time complexity (very fast).\n",
        "\n",
        "**Example:**\n",
        "\n",
        "* Checking for a Key in a Dictionary"
      ],
      "metadata": {
        "id": "KDZYTsZPCeZI"
      }
    },
    {
      "cell_type": "code",
      "source": [
        "my_dict = {\"name\": \"Alice\", \"age\": 25, \"city\": \"New York\"}\n",
        "\n",
        "print(\"name\" in my_dict)  # Output True  (Key exists)\n",
        "print(\"Alice\" in my_dict)  # Output False  (Values are not checked)\n"
      ],
      "metadata": {
        "colab": {
          "base_uri": "https://localhost:8080/"
        },
        "id": "HyoNyJ6oC1Ih",
        "outputId": "397bb52b-3965-484c-f111-e3e6704da8af"
      },
      "execution_count": null,
      "outputs": [
        {
          "output_type": "stream",
          "name": "stdout",
          "text": [
            "True\n",
            "False\n"
          ]
        }
      ]
    },
    {
      "cell_type": "markdown",
      "source": [
        "*Dictionaries check for keys, not values. If you need to check for a value, use:*"
      ],
      "metadata": {
        "id": "QNEPgboUC9-j"
      }
    },
    {
      "cell_type": "code",
      "source": [
        "print(\"Alice\" in my_dict.values())  # Output: True ✅\n"
      ],
      "metadata": {
        "colab": {
          "base_uri": "https://localhost:8080/"
        },
        "id": "dlAybpllDCQV",
        "outputId": "336fa909-79bf-4441-f8bf-3a0c797744f7"
      },
      "execution_count": null,
      "outputs": [
        {
          "output_type": "stream",
          "name": "stdout",
          "text": [
            "True\n"
          ]
        }
      ]
    },
    {
      "cell_type": "markdown",
      "source": [
        " Key lookup is much faster in dictionaries than searching in a list.\n",
        "\n"
      ],
      "metadata": {
        "id": "KdA-JHzFDIG1"
      }
    },
    {
      "cell_type": "markdown",
      "source": [
        "**Key Differences Between in for Lists vs. Dictionaries**"
      ],
      "metadata": {
        "id": "YCMMi048DKll"
      }
    },
    {
      "cell_type": "markdown",
      "source": [
        "![Screenshot 2025-01-30 173209.png](data:image/png;base64,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)"
      ],
      "metadata": {
        "id": "SZH7KD4jDOVk"
      }
    },
    {
      "cell_type": "markdown",
      "source": [
        "**When to Use Lists vs. Dictionaries for Membership Checks?**\n",
        "* Use Lists when checking for values and ordering matters.\n",
        "* Use Dictionaries when checking for keys (faster lookups)."
      ],
      "metadata": {
        "id": "jBymk30NGWkx"
      }
    },
    {
      "cell_type": "markdown",
      "source": [
        "##**Q15.Can you modify the elements of a tuple? Explain why or why not?**\n",
        "\n"
      ],
      "metadata": {
        "id": "_iu2yg2JGu0m"
      }
    },
    {
      "cell_type": "markdown",
      "source": [
        "No, tuples are immutable in Python, meaning once created, their elements cannot be changed, added, or removed.\n",
        "\n"
      ],
      "metadata": {
        "id": "pOcO8YiCMY1q"
      }
    },
    {
      "cell_type": "markdown",
      "source": [
        "**Why Are Tuples Immutable?**\n",
        "\n",
        "**1.Memory Efficiency –** Tuples use less memory than lists.\n",
        "\n",
        "**2.Performance –** Tuples are faster since they don’t allow modifications.\n",
        "\n",
        "**3.Hashability –** Tuples can be used as dictionary keys and set elements (if they contain only immutable data).\n",
        "\n",
        "**4.Data Integrity –** Prevents accidental changes to important data.\n"
      ],
      "metadata": {
        "id": "ZgQBxAEdMym0"
      }
    },
    {
      "cell_type": "markdown",
      "source": [
        "**Example:**\n",
        "\n",
        "* Trying to Modify a Tuple"
      ],
      "metadata": {
        "id": "C8yK2bYvNIoH"
      }
    },
    {
      "cell_type": "code",
      "source": [
        "my_tuple = (1, 2, 3)\n",
        "my_tuple[0] = 100  # TypeError: 'tuple' object does not support item assignment\n"
      ],
      "metadata": {
        "colab": {
          "base_uri": "https://localhost:8080/",
          "height": 182
        },
        "id": "3u8aMEz_NO6s",
        "outputId": "707efe0f-d200-483a-9f30-ad6e2944e9bd"
      },
      "execution_count": null,
      "outputs": [
        {
          "output_type": "error",
          "ename": "TypeError",
          "evalue": "'tuple' object does not support item assignment",
          "traceback": [
            "\u001b[0;31m---------------------------------------------------------------------------\u001b[0m",
            "\u001b[0;31mTypeError\u001b[0m                                 Traceback (most recent call last)",
            "\u001b[0;32m<ipython-input-23-56a40eb7d7bb>\u001b[0m in \u001b[0;36m<cell line: 0>\u001b[0;34m()\u001b[0m\n\u001b[1;32m      1\u001b[0m \u001b[0mmy_tuple\u001b[0m \u001b[0;34m=\u001b[0m \u001b[0;34m(\u001b[0m\u001b[0;36m1\u001b[0m\u001b[0;34m,\u001b[0m \u001b[0;36m2\u001b[0m\u001b[0;34m,\u001b[0m \u001b[0;36m3\u001b[0m\u001b[0;34m)\u001b[0m\u001b[0;34m\u001b[0m\u001b[0;34m\u001b[0m\u001b[0m\n\u001b[0;32m----> 2\u001b[0;31m \u001b[0mmy_tuple\u001b[0m\u001b[0;34m[\u001b[0m\u001b[0;36m0\u001b[0m\u001b[0;34m]\u001b[0m \u001b[0;34m=\u001b[0m \u001b[0;36m100\u001b[0m  \u001b[0;31m# TypeError: 'tuple' object does not support item assignment\u001b[0m\u001b[0;34m\u001b[0m\u001b[0;34m\u001b[0m\u001b[0m\n\u001b[0m",
            "\u001b[0;31mTypeError\u001b[0m: 'tuple' object does not support item assignment"
          ]
        }
      ]
    },
    {
      "cell_type": "markdown",
      "source": [
        "Python prevents modification, ensuring the tuple remains unchanged.\n",
        "\n"
      ],
      "metadata": {
        "id": "zYBWtjKjNTO6"
      }
    },
    {
      "cell_type": "markdown",
      "source": [
        "**Workarounds: How to \"Modify\" a Tuple?**\n",
        "\n",
        "Since tuples themselves cannot be changed, you can:\n",
        "\n",
        "* Convert the tuple to a list, modify it, then convert back to a tuple\n",
        "\n",
        "* Create a new tuple with the desired changes"
      ],
      "metadata": {
        "id": "BSL793wGNXMt"
      }
    },
    {
      "cell_type": "markdown",
      "source": [
        "**Example:**\n",
        "\n",
        "* Converting to a List"
      ],
      "metadata": {
        "id": "1A0lpQmCN6Un"
      }
    },
    {
      "cell_type": "code",
      "source": [
        "temp_list = list(my_tuple)  # Convert tuple to list\n",
        "temp_list[0] = 100          # Modify the list\n",
        "my_tuple = tuple(temp_list)  # Convert back to tuple\n",
        "print(my_tuple)  # Output (100, 2, 3)\n"
      ],
      "metadata": {
        "colab": {
          "base_uri": "https://localhost:8080/"
        },
        "id": "5hwv6jYOON59",
        "outputId": "de5b1048-ed78-4edc-e080-4d4874143c88"
      },
      "execution_count": null,
      "outputs": [
        {
          "output_type": "stream",
          "name": "stdout",
          "text": [
            "(100, 2, 3)\n"
          ]
        }
      ]
    },
    {
      "cell_type": "markdown",
      "source": [
        "This doesn’t modify the original tuple but creates a new one."
      ],
      "metadata": {
        "id": "F2evu9fnOZYi"
      }
    },
    {
      "cell_type": "markdown",
      "source": [
        " **Example:**\n",
        "\n",
        " * Creating a New Tuple"
      ],
      "metadata": {
        "id": "5WBn5l1HOaZh"
      }
    },
    {
      "cell_type": "code",
      "source": [
        "new_tuple = (100,) + my_tuple[1:]\n",
        "print(new_tuple)  # Output (100, 2, 3)\n"
      ],
      "metadata": {
        "colab": {
          "base_uri": "https://localhost:8080/"
        },
        "id": "aMsTmpfHOi4U",
        "outputId": "bf72e8e8-0093-4c24-e5a0-efc87f5b3ca9"
      },
      "execution_count": null,
      "outputs": [
        {
          "output_type": "stream",
          "name": "stdout",
          "text": [
            "(100, 2, 3)\n"
          ]
        }
      ]
    },
    {
      "cell_type": "markdown",
      "source": [
        "A new tuple is created instead of modifying the original.\n",
        "\n"
      ],
      "metadata": {
        "id": "_SMJRRw_OmiK"
      }
    },
    {
      "cell_type": "markdown",
      "source": [
        "**Exception: Tuples with Mutable Elements**\n",
        "\n",
        "While tuples themselves are immutable, if a tuple contains a mutable object (like a list), that object can be modified."
      ],
      "metadata": {
        "id": "pg82aZmMOn3x"
      }
    },
    {
      "cell_type": "markdown",
      "source": [
        "**Example:**\n",
        "\n",
        "*Tuple with a Mutable Element"
      ],
      "metadata": {
        "id": "mmTJde_oOv84"
      }
    },
    {
      "cell_type": "code",
      "source": [
        "my_tuple = (1, [2, 3], 4)\n",
        "my_tuple[1].append(5)\n",
        "print(my_tuple)  # Output: (1, [2, 3, 5], 4) ✅ List inside the tuple was modified\n"
      ],
      "metadata": {
        "id": "ZJhN3OAjOzij"
      },
      "execution_count": null,
      "outputs": []
    },
    {
      "cell_type": "markdown",
      "source": [
        "The tuple remains unchanged, but the list inside it can be modified.\n",
        "\n"
      ],
      "metadata": {
        "id": "OA6X1lfdO1n3"
      }
    },
    {
      "cell_type": "markdown",
      "source": [
        " Conclusion: Why Can't Tuples Be Modified?\n",
        "* **Immutable by Design –**\n",
        " Prevents accidental changes.\n",
        "* **More Efficient –** Uses less memory than lists.\n",
        "* **Hashable –** Can be used as dictionary keys (if fully immutable)."
      ],
      "metadata": {
        "id": "z849SmLzO36n"
      }
    },
    {
      "cell_type": "markdown",
      "source": [],
      "metadata": {
        "id": "cY8sA5tlPxbF"
      }
    },
    {
      "cell_type": "markdown",
      "source": [
        "## **Q16.What is a nested dictionary, and give an example of its use case?**"
      ],
      "metadata": {
        "id": "Pw_beRpK-NOF"
      }
    },
    {
      "cell_type": "markdown",
      "source": [
        "A nested dictionary is a dictionary inside another dictionary. It allows hierarchical data storage, making it useful for organizing complex data structures."
      ],
      "metadata": {
        "id": "2vwvg0hT-Y9c"
      }
    },
    {
      "cell_type": "markdown",
      "source": [
        "**Example Structure**"
      ],
      "metadata": {
        "id": "thiNOe9J-bjT"
      }
    },
    {
      "cell_type": "code",
      "source": [
        "nested_dict = {\n",
        "    \"person1\": {\"name\": \"Alice\", \"age\": 25, \"city\": \"New York\"},\n",
        "    \"person2\": {\"name\": \"Bob\", \"age\": 30, \"city\": \"Los Angeles\"}\n",
        "}\n",
        "print(nested_dict)"
      ],
      "metadata": {
        "colab": {
          "base_uri": "https://localhost:8080/"
        },
        "id": "9tILAsut-pKj",
        "outputId": "9272fee1-7ce1-4b95-d1a2-b7477c55d977"
      },
      "execution_count": null,
      "outputs": [
        {
          "output_type": "stream",
          "name": "stdout",
          "text": [
            "{'person1': {'name': 'Alice', 'age': 25, 'city': 'New York\\n'}, 'person2': {'name': 'Bob', 'age': 30, 'city': 'Los Angeles'}}\n"
          ]
        }
      ]
    },
    {
      "cell_type": "markdown",
      "source": [
        "Here, each key (person1, person2) maps to another dictionary with personal details.\n",
        "\n"
      ],
      "metadata": {
        "id": "dppVuj6T_THf"
      }
    },
    {
      "cell_type": "markdown",
      "source": [
        "**Use Case: Storing Employee Records**\n",
        "\n",
        "A nested dictionary is useful for storing structured data, such as employee records:"
      ],
      "metadata": {
        "id": "vp9H9LH5_bX3"
      }
    },
    {
      "cell_type": "code",
      "source": [
        "employees = {\n",
        "    \"emp_101\": {\"name\": \"John Doe\", \"position\": \"Software Engineer\", \"salary\": 80000},\n",
        "    \"emp_102\": {\"name\": \"Jane Smith\", \"position\": \"Data Scientist\", \"salary\": 90000},\n",
        "}\n",
        "\n",
        "# Accessing an employee's details\n",
        "print(employees[\"emp_101\"][\"name\"])  # Output: John Doe\n",
        "\n",
        "# Updating an employee's salary\n",
        "employees[\"emp_101\"][\"salary\"]\n"
      ],
      "metadata": {
        "colab": {
          "base_uri": "https://localhost:8080/"
        },
        "id": "SWux8gvG_xyX",
        "outputId": "9a4861bc-4660-4429-da10-3eaa32f829fa"
      },
      "execution_count": null,
      "outputs": [
        {
          "output_type": "stream",
          "name": "stdout",
          "text": [
            "John Doe\n"
          ]
        },
        {
          "output_type": "execute_result",
          "data": {
            "text/plain": [
              "80000"
            ]
          },
          "metadata": {},
          "execution_count": 5
        }
      ]
    },
    {
      "cell_type": "markdown",
      "source": [
        "**Other Use Cases**\n",
        "\n",
        "* **Database-like Storage:** Organizing students, employees, products, etc.\n",
        "\n",
        "* **Configuration Settings:** Storing app settings in a structured way.\n",
        "\n",
        "* **JSON Data Handling:** Parsing and managing API responses.\n",
        "\n"
      ],
      "metadata": {
        "id": "Y9gHiLarAVsk"
      }
    },
    {
      "cell_type": "markdown",
      "source": [
        "## **Q17.Describe the time complexity of accessing elements in a dictionary.**"
      ],
      "metadata": {
        "id": "qmKc_cj4Axvx"
      }
    },
    {
      "cell_type": "markdown",
      "source": [
        "In Python, a dictionary (dict) is implemented as a hash table, which provides fast lookups. The time complexity for accessing an element in a dictionary depends on different scenarios:"
      ],
      "metadata": {
        "id": "CXJGRcQLBVCp"
      }
    },
    {
      "cell_type": "markdown",
      "source": [
        "**1.Average Case: O(1) (Constant Time)**\n",
        "\n",
        "* When using a key to access a value (dict[key]), Python computes the hash of the key and directly finds the corresponding value in constant time (O(1)).\n",
        "\n",
        "* Example:"
      ],
      "metadata": {
        "id": "ndgzHAs-52Ho"
      }
    },
    {
      "cell_type": "code",
      "source": [
        "my_dict = {\"name\": \"Alice\", \"age\": 25, \"city\": \"New York\"}\n",
        "print(my_dict[\"age\"])  # O(1) lookup\n"
      ],
      "metadata": {
        "colab": {
          "base_uri": "https://localhost:8080/"
        },
        "id": "onOFsRok6HQV",
        "outputId": "af22c69d-8c24-439c-e344-5bafc3defa04"
      },
      "execution_count": null,
      "outputs": [
        {
          "output_type": "stream",
          "name": "stdout",
          "text": [
            "25\n"
          ]
        }
      ]
    },
    {
      "cell_type": "markdown",
      "source": [
        "On average, dictionary lookups are very fast!"
      ],
      "metadata": {
        "id": "N_pRIXQv6P30"
      }
    },
    {
      "cell_type": "markdown",
      "source": [
        "**2.Worst Case: O(n) (Linear Time)**\n",
        "\n",
        "* In rare cases, when hash collisions occur (multiple keys mapping to the same hash bucket), Python may have to check multiple entries in a linked list inside the hash table.\n",
        "\n",
        "* If many collisions happen, the lookup can degrade to O(n) time complexity.\n",
        "\n",
        "* Example scenario:"
      ],
      "metadata": {
        "id": "CdXWK1pA6Q7K"
      }
    },
    {
      "cell_type": "code",
      "source": [
        "my_dict = { \"a\": 1, \"b\": 2, \"c\": 3 }\n",
        "print(my_dict[\"z\"])  # If \"z\" isn't found, worst case O(n) search\n"
      ],
      "metadata": {
        "colab": {
          "base_uri": "https://localhost:8080/",
          "height": 164
        },
        "id": "v99NI4Qh7PLA",
        "outputId": "edc35ca5-16c5-4b03-ef45-abf84441a190"
      },
      "execution_count": null,
      "outputs": [
        {
          "output_type": "error",
          "ename": "KeyError",
          "evalue": "'z'",
          "traceback": [
            "\u001b[0;31m---------------------------------------------------------------------------\u001b[0m",
            "\u001b[0;31mKeyError\u001b[0m                                  Traceback (most recent call last)",
            "\u001b[0;32m<ipython-input-2-af097cc744ff>\u001b[0m in \u001b[0;36m<cell line: 0>\u001b[0;34m()\u001b[0m\n\u001b[1;32m      1\u001b[0m \u001b[0mmy_dict\u001b[0m \u001b[0;34m=\u001b[0m \u001b[0;34m{\u001b[0m \u001b[0;34m\"a\"\u001b[0m\u001b[0;34m:\u001b[0m \u001b[0;36m1\u001b[0m\u001b[0;34m,\u001b[0m \u001b[0;34m\"b\"\u001b[0m\u001b[0;34m:\u001b[0m \u001b[0;36m2\u001b[0m\u001b[0;34m,\u001b[0m \u001b[0;34m\"c\"\u001b[0m\u001b[0;34m:\u001b[0m \u001b[0;36m3\u001b[0m \u001b[0;34m}\u001b[0m\u001b[0;34m\u001b[0m\u001b[0;34m\u001b[0m\u001b[0m\n\u001b[0;32m----> 2\u001b[0;31m \u001b[0mprint\u001b[0m\u001b[0;34m(\u001b[0m\u001b[0mmy_dict\u001b[0m\u001b[0;34m[\u001b[0m\u001b[0;34m\"z\"\u001b[0m\u001b[0;34m]\u001b[0m\u001b[0;34m)\u001b[0m  \u001b[0;31m# If \"z\" isn't found, worst case O(n) search\u001b[0m\u001b[0;34m\u001b[0m\u001b[0;34m\u001b[0m\u001b[0m\n\u001b[0m",
            "\u001b[0;31mKeyError\u001b[0m: 'z'"
          ]
        }
      ]
    },
    {
      "cell_type": "markdown",
      "source": [
        "However, Python optimizes its hash table to minimize collisions!\n"
      ],
      "metadata": {
        "id": "v68Qz_Mw7VmD"
      }
    },
    {
      "cell_type": "markdown",
      "source": [
        " **3.Checking Membership: O(1) (Best) / O(n) (Worst)**\n",
        "\n",
        "* Using key in dict checks if a key exists.\n",
        "* Best case (O(1)): The key is found quickly in the hash table.\n",
        "* Worst case (O(n)): If there are many hash collisions or the key doesn’t exist."
      ],
      "metadata": {
        "id": "dc9LeHEa7Xwl"
      }
    },
    {
      "cell_type": "code",
      "source": [
        "if \"name\" in my_dict:  # O(1) average case\n",
        "    print(\"Found\")\n"
      ],
      "metadata": {
        "id": "clGooeGW7ifc"
      },
      "execution_count": null,
      "outputs": []
    },
    {
      "cell_type": "markdown",
      "source": [
        "**Conclusion**"
      ],
      "metadata": {
        "id": "HBPqn56R7pxh"
      }
    },
    {
      "cell_type": "markdown",
      "source": [
        "![Screenshot 2025-02-01 104621.png](data:image/png;base64,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)"
      ],
      "metadata": {
        "id": "YcXyC6Pq7vOA"
      }
    },
    {
      "cell_type": "markdown",
      "source": [
        " ## **Q18.In what situations are lists preferred over dictionaries?**"
      ],
      "metadata": {
        "id": "WEpQED1z8ooQ"
      }
    },
    {
      "cell_type": "markdown",
      "source": [
        "While dictionaries (dict) are efficient for key-value lookups, lists (list) are better in certain situations. Here are key scenarios where lists are preferred over dictionaries:"
      ],
      "metadata": {
        "id": "2aYmNOG19Btp"
      }
    },
    {
      "cell_type": "markdown",
      "source": [
        "**1.When Order Matters (O(1) Indexing)**\n",
        "\n",
        "* Lists maintain order, while Python dictionaries"
      ],
      "metadata": {
        "id": "WX-m2R8s9FKG"
      }
    },
    {
      "cell_type": "code",
      "source": [
        "my_list = [\"apple\", \"banana\", \"cherry\"]\n",
        "print(my_list[1])  # Output: banana (O(1) lookup)\n"
      ],
      "metadata": {
        "colab": {
          "base_uri": "https://localhost:8080/"
        },
        "id": "Fkjn3tEb9O0n",
        "outputId": "241dfe5b-11f8-4d81-be5d-6785697fd763"
      },
      "execution_count": null,
      "outputs": [
        {
          "output_type": "stream",
          "name": "stdout",
          "text": [
            "banana\n"
          ]
        }
      ]
    },
    {
      "cell_type": "markdown",
      "source": [
        "Dictionaries require key lookups (O(1)) but don't have direct indexing."
      ],
      "metadata": {
        "id": "WfmpCuwo9RMl"
      }
    },
    {
      "cell_type": "markdown",
      "source": [
        "**2.When You Need Indexed Access**\n",
        "\n",
        "* Lists maintain order, while Python dictionaries"
      ],
      "metadata": {
        "id": "VLjx2Max9Uy5"
      }
    },
    {
      "cell_type": "code",
      "source": [
        "fruits = [\"apple\", \"banana\", \"cherry\"]\n",
        "print(fruits[2])  # Output: cherry (O(1) indexing)\n"
      ],
      "metadata": {
        "colab": {
          "base_uri": "https://localhost:8080/"
        },
        "id": "uTb7QuxF90Ut",
        "outputId": "31a6e457-eff6-4b98-9f55-7d0598643b04"
      },
      "execution_count": null,
      "outputs": [
        {
          "output_type": "stream",
          "name": "stdout",
          "text": [
            "cherry\n"
          ]
        }
      ]
    },
    {
      "cell_type": "markdown",
      "source": [
        "* Dictionaries don’t support integer-based indexing:"
      ],
      "metadata": {
        "id": "xRyGwtqN96N5"
      }
    },
    {
      "cell_type": "code",
      "source": [
        "my_dict = {\"a\": \"apple\", \"b\": \"banana\"}\n",
        "print(my_dict[1])  #  KeyError (no integer-based indexing)\n"
      ],
      "metadata": {
        "colab": {
          "base_uri": "https://localhost:8080/",
          "height": 164
        },
        "id": "lEbxURkb979w",
        "outputId": "9d85f33e-d28b-4b3b-a1bf-7d3c01f91d66"
      },
      "execution_count": null,
      "outputs": [
        {
          "output_type": "error",
          "ename": "KeyError",
          "evalue": "1",
          "traceback": [
            "\u001b[0;31m---------------------------------------------------------------------------\u001b[0m",
            "\u001b[0;31mKeyError\u001b[0m                                  Traceback (most recent call last)",
            "\u001b[0;32m<ipython-input-7-ef79b715fbec>\u001b[0m in \u001b[0;36m<cell line: 0>\u001b[0;34m()\u001b[0m\n\u001b[1;32m      1\u001b[0m \u001b[0mmy_dict\u001b[0m \u001b[0;34m=\u001b[0m \u001b[0;34m{\u001b[0m\u001b[0;34m\"a\"\u001b[0m\u001b[0;34m:\u001b[0m \u001b[0;34m\"apple\"\u001b[0m\u001b[0;34m,\u001b[0m \u001b[0;34m\"b\"\u001b[0m\u001b[0;34m:\u001b[0m \u001b[0;34m\"banana\"\u001b[0m\u001b[0;34m}\u001b[0m\u001b[0;34m\u001b[0m\u001b[0;34m\u001b[0m\u001b[0m\n\u001b[0;32m----> 2\u001b[0;31m \u001b[0mprint\u001b[0m\u001b[0;34m(\u001b[0m\u001b[0mmy_dict\u001b[0m\u001b[0;34m[\u001b[0m\u001b[0;36m1\u001b[0m\u001b[0;34m]\u001b[0m\u001b[0;34m)\u001b[0m  \u001b[0;31m#  KeyError (no integer-based indexing)\u001b[0m\u001b[0;34m\u001b[0m\u001b[0;34m\u001b[0m\u001b[0m\n\u001b[0m",
            "\u001b[0;31mKeyError\u001b[0m: 1"
          ]
        }
      ]
    },
    {
      "cell_type": "markdown",
      "source": [
        "**3.When You Need to Store Ordered Sequences**\n",
        "\n",
        "* Lists are ideal for storing ordered sequences of elements.\n",
        "\n",
        "* For example, a list of names, numbers, or items:"
      ],
      "metadata": {
        "id": "tazFls3c-jAp"
      }
    },
    {
      "cell_type": "code",
      "source": [
        "students = [\"Alice\", \"Bob\", \"Charlie\"]  # Ordered list of names\n"
      ],
      "metadata": {
        "id": "SivzEpQK_E7K"
      },
      "execution_count": null,
      "outputs": []
    },
    {
      "cell_type": "markdown",
      "source": [
        " Dictionaries store key-value pairs and are better for mappings, not sequences.\n",
        "\n"
      ],
      "metadata": {
        "id": "mJ9F9tlb_Ehn"
      }
    },
    {
      "cell_type": "markdown",
      "source": [
        "**4.When Duplicates Are Allowed**\n",
        "\n",
        "* Lists allow duplicate values, but dictionaries do not allow duplicate keys."
      ],
      "metadata": {
        "id": "dYg_Fxy8_J_r"
      }
    },
    {
      "cell_type": "code",
      "source": [
        "numbers = [1, 2, 2, 3, 3, 3]  #  Allowed\n"
      ],
      "metadata": {
        "id": "viIKdaKA_SG8"
      },
      "execution_count": null,
      "outputs": []
    },
    {
      "cell_type": "markdown",
      "source": [
        "* Dictionaries overwrite duplicate keys:"
      ],
      "metadata": {
        "id": "CQbh1k36_VPY"
      }
    },
    {
      "cell_type": "code",
      "source": [
        "data = {\"a\": 1, \"a\": 2}  # {\"a\": 2} (overwrites old value)\n"
      ],
      "metadata": {
        "id": "WXs-4TFu_Wwx"
      },
      "execution_count": null,
      "outputs": []
    },
    {
      "cell_type": "markdown",
      "source": [
        "**5.When Memory Efficiency is Needed**\n",
        "\n",
        "* Lists are more memory-efficient than dictionaries because dictionaries store extra overhead for keys and hashing."
      ],
      "metadata": {
        "id": "fxPxW7nN_ZiE"
      }
    },
    {
      "cell_type": "code",
      "source": [
        "import sys\n",
        "\n",
        "list_data = [1, 2, 3, 4, 5]\n",
        "dict_data = {0: 1, 1: 2, 2: 3, 3: 4, 4: 5}\n",
        "\n",
        "print(sys.getsizeof(list_data))  # Output 96 bytes\n",
        "print(sys.getsizeof(dict_data))  # Output 232 bytes (larger)\n"
      ],
      "metadata": {
        "colab": {
          "base_uri": "https://localhost:8080/"
        },
        "id": "nKsRkaCI_i0a",
        "outputId": "fe81b93d-c9bc-4b6d-f355-91d2e854da05"
      },
      "execution_count": null,
      "outputs": [
        {
          "output_type": "stream",
          "name": "stdout",
          "text": [
            "104\n",
            "224\n"
          ]
        }
      ]
    },
    {
      "cell_type": "markdown",
      "source": [
        "Dictionaries consume more memory than lists because of hash tables."
      ],
      "metadata": {
        "id": "V7pWlPRD_iMa"
      }
    },
    {
      "cell_type": "markdown",
      "source": [
        "**6.When You Need Faster Iteration (O(n))**\n",
        "\n",
        "* Lists are faster to iterate through than dictionaries."
      ],
      "metadata": {
        "id": "vNTJsAxu_nzJ"
      }
    },
    {
      "cell_type": "code",
      "source": [
        "fruits = [\"apple\", \"banana\", \"cherry\"]\n",
        "for fruit in fruits:\n",
        "    print(fruit)  # Faster iteration (O(n))\n"
      ],
      "metadata": {
        "colab": {
          "base_uri": "https://localhost:8080/"
        },
        "id": "88YAt8SG_uaL",
        "outputId": "2cbc067b-fff1-487a-8d88-927738017e97"
      },
      "execution_count": null,
      "outputs": [
        {
          "output_type": "stream",
          "name": "stdout",
          "text": [
            "apple\n",
            "banana\n",
            "cherry\n"
          ]
        }
      ]
    },
    {
      "cell_type": "markdown",
      "source": [
        "* Dictionaries involve iterating over keys, values, or items:"
      ],
      "metadata": {
        "id": "9J4RFvbq_yFS"
      }
    },
    {
      "cell_type": "code",
      "source": [
        "my_dict = {\"a\": 1, \"b\": 2}\n",
        "for key, value in my_dict.items():  #  Slightly slower than lists\n",
        "    print(key, value)\n"
      ],
      "metadata": {
        "colab": {
          "base_uri": "https://localhost:8080/"
        },
        "id": "2J6Aj0_K_x2f",
        "outputId": "cec05978-56aa-4002-95a4-0c8d843f2746"
      },
      "execution_count": null,
      "outputs": [
        {
          "output_type": "stream",
          "name": "stdout",
          "text": [
            "a 1\n",
            "b 2\n"
          ]
        }
      ]
    },
    {
      "cell_type": "markdown",
      "source": [
        "**Conclusion: When to Use Lists vs. Dictionaries**"
      ],
      "metadata": {
        "id": "AQAYgvyi_4Fp"
      }
    },
    {
      "cell_type": "markdown",
      "source": [
        "![Screenshot 2025-02-01 110705.png](data:image/png;base64,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)"
      ],
      "metadata": {
        "id": "SMduHV9xAMoJ"
      }
    },
    {
      "cell_type": "markdown",
      "source": [
        "## **Q19.Why are dictionaries considered unordered, and how does that affect data retrieval?**"
      ],
      "metadata": {
        "id": "ntUAFCxLBBw4"
      }
    },
    {
      "cell_type": "markdown",
      "source": [
        "Historically, dictionaries in Python were unordered because they used a hash table to store key-value pairs. In Python versions before 3.7, the insertion order of keys was not guaranteed—the internal structure of the dictionary could change unexpectedly.\n",
        "\n",
        "However, in Python 3.7+, dictionaries preserve insertion order by default. This means:\n",
        "\n",
        "* Before Python 3.7 → Unordered (No guarantee of order)\n",
        "* Python 3.7+ → Ordered (Maintains insertion order)"
      ],
      "metadata": {
        "id": "PzwJ0yRgBO5t"
      }
    },
    {
      "cell_type": "markdown",
      "source": [
        "**How Does Unordered Nature Affect Data Retrieval?**"
      ],
      "metadata": {
        "id": "yKVaxKZqBwNT"
      }
    },
    {
      "cell_type": "markdown",
      "source": [
        "Even though Python now preserves order, dictionaries are not indexed like lists, meaning:\n",
        "\n"
      ],
      "metadata": {
        "id": "2vNFwHUgB0g9"
      }
    },
    {
      "cell_type": "markdown",
      "source": [
        "**1.No Positional Access (dict[1] is invalid)**\n",
        "\n",
        "* Unlike lists, dictionaries do not support integer-based indexing"
      ],
      "metadata": {
        "id": "9xi_-TxZB1oK"
      }
    },
    {
      "cell_type": "code",
      "source": [
        "my_dict = {\"a\": 1, \"b\": 2, \"c\": 3}\n",
        "print(my_dict[1])  # KeyError (No index-based retrieval)\n"
      ],
      "metadata": {
        "colab": {
          "base_uri": "https://localhost:8080/",
          "height": 164
        },
        "id": "lUgChAWxB93M",
        "outputId": "b8ad1a59-5a5e-4f85-bfca-27a0c206a280"
      },
      "execution_count": null,
      "outputs": [
        {
          "output_type": "error",
          "ename": "KeyError",
          "evalue": "1",
          "traceback": [
            "\u001b[0;31m---------------------------------------------------------------------------\u001b[0m",
            "\u001b[0;31mKeyError\u001b[0m                                  Traceback (most recent call last)",
            "\u001b[0;32m<ipython-input-16-51f13ea343ee>\u001b[0m in \u001b[0;36m<cell line: 0>\u001b[0;34m()\u001b[0m\n\u001b[1;32m      1\u001b[0m \u001b[0mmy_dict\u001b[0m \u001b[0;34m=\u001b[0m \u001b[0;34m{\u001b[0m\u001b[0;34m\"a\"\u001b[0m\u001b[0;34m:\u001b[0m \u001b[0;36m1\u001b[0m\u001b[0;34m,\u001b[0m \u001b[0;34m\"b\"\u001b[0m\u001b[0;34m:\u001b[0m \u001b[0;36m2\u001b[0m\u001b[0;34m,\u001b[0m \u001b[0;34m\"c\"\u001b[0m\u001b[0;34m:\u001b[0m \u001b[0;36m3\u001b[0m\u001b[0;34m}\u001b[0m\u001b[0;34m\u001b[0m\u001b[0;34m\u001b[0m\u001b[0m\n\u001b[0;32m----> 2\u001b[0;31m \u001b[0mprint\u001b[0m\u001b[0;34m(\u001b[0m\u001b[0mmy_dict\u001b[0m\u001b[0;34m[\u001b[0m\u001b[0;36m1\u001b[0m\u001b[0;34m]\u001b[0m\u001b[0;34m)\u001b[0m  \u001b[0;31m# KeyError (No index-based retrieval)\u001b[0m\u001b[0;34m\u001b[0m\u001b[0;34m\u001b[0m\u001b[0m\n\u001b[0m",
            "\u001b[0;31mKeyError\u001b[0m: 1"
          ]
        }
      ]
    },
    {
      "cell_type": "markdown",
      "source": [
        "**2.Fast Lookup via Keys (O(1))**\n",
        "\n",
        "* Dictionaries are optimized for fast key lookups (O(1)) but not for sequential access."
      ],
      "metadata": {
        "id": "7OoPDnjBCCIs"
      }
    },
    {
      "cell_type": "code",
      "source": [
        "print(my_dict[\"b\"])  # Output: 2 (Fast lookup)\n"
      ],
      "metadata": {
        "colab": {
          "base_uri": "https://localhost:8080/"
        },
        "id": "IiX9JAB6CJMT",
        "outputId": "14f6d93d-0d41-4d4f-84c9-a8cc5b691796"
      },
      "execution_count": null,
      "outputs": [
        {
          "output_type": "stream",
          "name": "stdout",
          "text": [
            "2\n"
          ]
        }
      ]
    },
    {
      "cell_type": "markdown",
      "source": [
        "**3.Order of Retrieval in Older Versions (Before Python 3.7)**\n",
        "\n",
        "* Older versions of Python might return elements in a different order than insertion."
      ],
      "metadata": {
        "id": "KFxuKrulCOWt"
      }
    },
    {
      "cell_type": "code",
      "source": [
        "my_dict = {\"one\": 1, \"two\": 2, \"three\": 3}\n",
        "print(my_dict)  # Could be {'three': 3, 'one': 1, 'two': 2} in Python 3.5\n"
      ],
      "metadata": {
        "colab": {
          "base_uri": "https://localhost:8080/"
        },
        "id": "Z9M8jmUmCUia",
        "outputId": "45389063-5d61-4059-f107-8b565a009e99"
      },
      "execution_count": null,
      "outputs": [
        {
          "output_type": "stream",
          "name": "stdout",
          "text": [
            "{'one': 1, 'two': 2, 'three': 3}\n"
          ]
        }
      ]
    },
    {
      "cell_type": "markdown",
      "source": [
        "Key Takeaways\n",
        "* Dictionaries are unordered in versions before Python 3.7.\n",
        "* In Python 3.7+, dictionaries maintain insertion order but do not support indexing.\n",
        "* Lookups (dict[key]) are very fast (O(1)) because of hash tables.\n",
        "* For ordered retrieval & indexing, use OrderedDict (Python < 3.7) or a list."
      ],
      "metadata": {
        "id": "LG5HyDHbCXlY"
      }
    },
    {
      "cell_type": "markdown",
      "source": [
        " ## **Q20.Explain the difference between a list and a dictionary in terms of data retrieval.**"
      ],
      "metadata": {
        "id": "4bGvfLZTCdCG"
      }
    },
    {
      "cell_type": "markdown",
      "source": [
        "Both lists and dictionaries are fundamental data structures in Python, but they retrieve data differently."
      ],
      "metadata": {
        "id": "79SxIuekCt7n"
      }
    },
    {
      "cell_type": "markdown",
      "source": [
        "![Screenshot 2025-02-01 111742.png](data:image/png;base64,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)"
      ],
      "metadata": {
        "id": "0d4TX2rqC_Z5"
      }
    },
    {
      "cell_type": "markdown",
      "source": [
        "**1.List: Index-Based Retrieval (O(1))**\n",
        "* Lists use integer indexing, meaning each element has a position (0, 1, 2,...).\n",
        "* Fast retrieval (O(1)) if the index is known.\n",
        "* Slow searching (O(n)) if the value is unknown.\n",
        "\n",
        "**Example: Retrieving an Item Using an Index**"
      ],
      "metadata": {
        "id": "z65O02_sDeE2"
      }
    },
    {
      "cell_type": "code",
      "source": [
        "my_list = [\"apple\", \"banana\", \"cherry\"]\n",
        "print(my_list[1])  # Output: banana (O(1) lookup)\n"
      ],
      "metadata": {
        "colab": {
          "base_uri": "https://localhost:8080/"
        },
        "id": "xLq0q3FdDfwu",
        "outputId": "d6668aa0-69ac-48cf-b97a-227412341206"
      },
      "execution_count": null,
      "outputs": [
        {
          "output_type": "stream",
          "name": "stdout",
          "text": [
            "banana\n"
          ]
        }
      ]
    },
    {
      "cell_type": "markdown",
      "source": [
        "**Example: Searching for an Item (O(n))**\n"
      ],
      "metadata": {
        "id": "__ybBwZUD5aC"
      }
    },
    {
      "cell_type": "code",
      "source": [
        "if \"banana\" in my_list:\n",
        "    print(\"Found\")  # Requires scanning (O(n))\n"
      ],
      "metadata": {
        "colab": {
          "base_uri": "https://localhost:8080/"
        },
        "id": "CkwAimXpEc7u",
        "outputId": "7a50a44b-c488-4152-b15a-868290806d90"
      },
      "execution_count": null,
      "outputs": [
        {
          "output_type": "stream",
          "name": "stdout",
          "text": [
            "Found\n"
          ]
        }
      ]
    },
    {
      "cell_type": "markdown",
      "source": [
        "**2.Dictionary: Key-Based Retrieval (O(1))**\n",
        "\n",
        "* Uses hashing for fast key lookups (O(1) in most cases).\n",
        "\n",
        "* integer-based indexing (must use a key)."
      ],
      "metadata": {
        "id": "-7zvgy86EiHU"
      }
    },
    {
      "cell_type": "markdown",
      "source": [
        "* Example: Retrieving an Item Using a Key"
      ],
      "metadata": {
        "id": "y_X1ZprqEqeg"
      }
    },
    {
      "cell_type": "code",
      "source": [
        "my_dict = {\"name\": \"Alice\", \"age\": 25, \"city\": \"New York\"}\n",
        "print(my_dict[\"age\"])  # Output: 25 (O(1) lookup)\n"
      ],
      "metadata": {
        "colab": {
          "base_uri": "https://localhost:8080/"
        },
        "id": "pTbj4ikLEtHt",
        "outputId": "82d4a0cb-ca79-46f5-dbeb-83d4a79087c6"
      },
      "execution_count": null,
      "outputs": [
        {
          "output_type": "stream",
          "name": "stdout",
          "text": [
            "25\n"
          ]
        }
      ]
    },
    {
      "cell_type": "markdown",
      "source": [
        "* Example: Checking for a Key (O(1))"
      ],
      "metadata": {
        "id": "kuuS2MdwEvYg"
      }
    },
    {
      "cell_type": "code",
      "source": [
        "if \"city\" in my_dict:\n",
        "    print(\"City found\")  # O(1) lookup\n"
      ],
      "metadata": {
        "colab": {
          "base_uri": "https://localhost:8080/"
        },
        "id": "0G3RXA8mEx8f",
        "outputId": "393e8db0-818d-47bd-cd3f-361e44c4f7c7"
      },
      "execution_count": null,
      "outputs": [
        {
          "output_type": "stream",
          "name": "stdout",
          "text": [
            "City found\n"
          ]
        }
      ]
    },
    {
      "cell_type": "markdown",
      "source": [
        "**Key Differences in Data Retrieval**"
      ],
      "metadata": {
        "id": "hhFnGa94E1Jp"
      }
    },
    {
      "cell_type": "markdown",
      "source": [
        "![Screenshot 2025-02-01 112548.png](data:image/png;base64,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)"
      ],
      "metadata": {
        "id": "npXsrp8fE3We"
      }
    },
    {
      "cell_type": "markdown",
      "source": [
        "## ***Practical Questions***"
      ],
      "metadata": {
        "id": "ehSYWhhTWroa"
      }
    },
    {
      "cell_type": "markdown",
      "source": [
        " ## **Q1.Write a code to create a string with your name and print it.**"
      ],
      "metadata": {
        "id": "CCJ1CqBtW2ZQ"
      }
    },
    {
      "cell_type": "code",
      "source": [
        "name = \"Pankaj\"\n",
        "print(name)"
      ],
      "metadata": {
        "colab": {
          "base_uri": "https://localhost:8080/"
        },
        "id": "CaW0FNWpsNEU",
        "outputId": "5ffd1fa2-0a2a-4787-c9f3-ea6272860b64"
      },
      "execution_count": null,
      "outputs": [
        {
          "output_type": "stream",
          "name": "stdout",
          "text": [
            "Pankaj\n"
          ]
        }
      ]
    },
    {
      "cell_type": "markdown",
      "source": [
        " ## **Q2.Write a code to find the length of the string \"Hello World\".**"
      ],
      "metadata": {
        "id": "TMC_kyN9QavV"
      }
    },
    {
      "cell_type": "code",
      "source": [
        "string = \"Hello World\"\n",
        "length = len(string)\n",
        "print(\"Length of the string: \", length)"
      ],
      "metadata": {
        "colab": {
          "base_uri": "https://localhost:8080/"
        },
        "id": "iYR3d5ZGQoCI",
        "outputId": "f2ca73b7-8d66-4972-e653-e9bc46a59f08"
      },
      "execution_count": null,
      "outputs": [
        {
          "output_type": "stream",
          "name": "stdout",
          "text": [
            "Length of the string:  11\n"
          ]
        }
      ]
    },
    {
      "cell_type": "markdown",
      "source": [
        "## **Q3.Write a code to slice the first 3 characters from the string \"Python Programming\".**"
      ],
      "metadata": {
        "id": "vaZUcf1rRGON"
      }
    },
    {
      "cell_type": "code",
      "source": [
        "string = \"Python Programming\"\n",
        "sliced_string = string[:3] # Slices from index 0 to 2\n",
        "print(\"Sliced_string:\", sliced_string)"
      ],
      "metadata": {
        "colab": {
          "base_uri": "https://localhost:8080/"
        },
        "id": "WZHHC0QaRM3_",
        "outputId": "010b823d-2d12-41aa-faf9-cd5790a5651c"
      },
      "execution_count": null,
      "outputs": [
        {
          "output_type": "stream",
          "name": "stdout",
          "text": [
            "Sliced_string: Pyt\n"
          ]
        }
      ]
    },
    {
      "cell_type": "markdown",
      "source": [
        "## **Q4.Write a code to convert the string \"hello\" to uppercase.**\n"
      ],
      "metadata": {
        "id": "nSWUrvI3Sk0x"
      }
    },
    {
      "cell_type": "code",
      "source": [
        "string = \"hello\"\n",
        "uppercase_string = string.upper()\n",
        "print(\"Uppercase string:\", uppercase_string)"
      ],
      "metadata": {
        "colab": {
          "base_uri": "https://localhost:8080/"
        },
        "id": "RGvkrq_FSs14",
        "outputId": "08f0029f-212e-48d8-83f8-c59b1a75f1f2"
      },
      "execution_count": null,
      "outputs": [
        {
          "output_type": "stream",
          "name": "stdout",
          "text": [
            "Uppercase string: HELLO\n"
          ]
        }
      ]
    },
    {
      "cell_type": "markdown",
      "source": [
        "##**Q5.Write a code to replace the word \"apple\" with \"orange\" in the string \"I like apple\".**"
      ],
      "metadata": {
        "id": "MDJFWSDTjqnt"
      }
    },
    {
      "cell_type": "code",
      "source": [
        "text = \"I like apple\"\n",
        "new_text = text.replace(\"apple\", \"orange\")\n",
        "print(new_text)\n"
      ],
      "metadata": {
        "colab": {
          "base_uri": "https://localhost:8080/"
        },
        "id": "p8V87CGGyi7l",
        "outputId": "4d675150-016e-4cfa-d2c0-adaf3dea5aad"
      },
      "execution_count": null,
      "outputs": [
        {
          "output_type": "stream",
          "name": "stdout",
          "text": [
            "I like orange\n"
          ]
        }
      ]
    },
    {
      "cell_type": "markdown",
      "source": [
        " ## **Q6.Write a code to create a list with numbers 1 to 5 and print it.**"
      ],
      "metadata": {
        "id": "XSXbrbcmymqd"
      }
    },
    {
      "cell_type": "code",
      "source": [
        "numbers = [1, 2, 3, 4, 5]\n",
        "print(numbers)\n"
      ],
      "metadata": {
        "colab": {
          "base_uri": "https://localhost:8080/"
        },
        "id": "EpBVxGRqy1xe",
        "outputId": "d11e03e3-28fd-4c6d-da91-b86bfd6da232"
      },
      "execution_count": null,
      "outputs": [
        {
          "output_type": "stream",
          "name": "stdout",
          "text": [
            "[1, 2, 3, 4, 5]\n"
          ]
        }
      ]
    },
    {
      "cell_type": "markdown",
      "source": [
        "*Alternatively, you can use range():*"
      ],
      "metadata": {
        "id": "FLiL1IF9zJ0e"
      }
    },
    {
      "cell_type": "code",
      "source": [
        "numbers = list(range(1, 6))\n",
        "print(numbers)\n"
      ],
      "metadata": {
        "colab": {
          "base_uri": "https://localhost:8080/"
        },
        "id": "0DDb0HBBzQmc",
        "outputId": "46462ed4-2d34-4891-8106-a5b0b73b7ed6"
      },
      "execution_count": null,
      "outputs": [
        {
          "output_type": "stream",
          "name": "stdout",
          "text": [
            "[1, 2, 3, 4, 5]\n"
          ]
        }
      ]
    },
    {
      "cell_type": "markdown",
      "source": [
        "## **Q7.Write a code to append the number 10 to the list [1, 2, 3, 4].**"
      ],
      "metadata": {
        "id": "5h9wfYZvy8XR"
      }
    },
    {
      "cell_type": "code",
      "source": [
        "numbers = [1, 2, 3, 4]\n",
        "numbers.append(10)\n",
        "print(numbers)\n"
      ],
      "metadata": {
        "colab": {
          "base_uri": "https://localhost:8080/"
        },
        "id": "s-qjaD_ZzDB_",
        "outputId": "382e087a-1f16-4854-a75f-ee5c68e3970c"
      },
      "execution_count": null,
      "outputs": [
        {
          "output_type": "stream",
          "name": "stdout",
          "text": [
            "[1, 2, 3, 4, 10]\n"
          ]
        }
      ]
    },
    {
      "cell_type": "markdown",
      "source": [],
      "metadata": {
        "id": "pYMRJwCRzpjK"
      }
    },
    {
      "cell_type": "code",
      "source": [],
      "metadata": {
        "id": "K8RobLTGzqbv"
      },
      "execution_count": null,
      "outputs": []
    },
    {
      "cell_type": "markdown",
      "source": [
        "## **Q8.Write a code to remove the number 3 from the list [1, 2, 3, 4, 5].**"
      ],
      "metadata": {
        "id": "7_h8fASKzrPv"
      }
    },
    {
      "cell_type": "code",
      "source": [
        "numbers = [1, 2, 3, 4, 5]\n",
        "numbers.remove(3)\n",
        "print(numbers)\n"
      ],
      "metadata": {
        "colab": {
          "base_uri": "https://localhost:8080/"
        },
        "id": "fFdSnJQXz0rx",
        "outputId": "8c936c99-c812-40c8-f0cd-a53aab018eb7"
      },
      "execution_count": null,
      "outputs": [
        {
          "output_type": "stream",
          "name": "stdout",
          "text": [
            "[1, 2, 4, 5]\n"
          ]
        }
      ]
    },
    {
      "cell_type": "markdown",
      "source": [
        "## **Q9.Write a code to access the second element in the list ['a', 'b', 'c', 'd']**"
      ],
      "metadata": {
        "id": "Yi_21l-Iz8sF"
      }
    },
    {
      "cell_type": "code",
      "source": [
        "letters = ['a', 'b', 'c', 'd']\n",
        "second_element = letters[1]  # Indexing starts from 0\n",
        "print(second_element)\n"
      ],
      "metadata": {
        "colab": {
          "base_uri": "https://localhost:8080/"
        },
        "id": "30PARlSx0C_2",
        "outputId": "c6a3ad6c-75a5-40d5-a29c-c3c8b7b89d46"
      },
      "execution_count": null,
      "outputs": [
        {
          "output_type": "stream",
          "name": "stdout",
          "text": [
            "b\n"
          ]
        }
      ]
    },
    {
      "cell_type": "markdown",
      "source": [
        " ## **Q10.Write a code to reverse the list [10, 20, 30, 40, 50].**"
      ],
      "metadata": {
        "id": "LRNVVzWV0lFS"
      }
    },
    {
      "cell_type": "markdown",
      "source": [
        "*Method 1: Using reverse() (Modifies the original list)*"
      ],
      "metadata": {
        "id": "4He3gMof1TN4"
      }
    },
    {
      "cell_type": "code",
      "source": [
        "numbers = [10, 20, 30, 40, 50]\n",
        "numbers.reverse()\n",
        "print(numbers)\n"
      ],
      "metadata": {
        "colab": {
          "base_uri": "https://localhost:8080/"
        },
        "id": "4uvSTzCN1VvC",
        "outputId": "93e1fe88-2877-4bd0-ae9b-5f58f04dba5a"
      },
      "execution_count": null,
      "outputs": [
        {
          "output_type": "stream",
          "name": "stdout",
          "text": [
            "[50, 40, 30, 20, 10]\n"
          ]
        }
      ]
    },
    {
      "cell_type": "markdown",
      "source": [
        "*Method 2: Using slicing (Creates a new reversed list)*"
      ],
      "metadata": {
        "id": "h-2eZ0y41ZLD"
      }
    },
    {
      "cell_type": "code",
      "source": [
        "numbers = [10, 20, 30, 40, 50]\n",
        "reversed_numbers = numbers[::-1]\n",
        "print(reversed_numbers)\n"
      ],
      "metadata": {
        "id": "tG2VnjA61cU3",
        "outputId": "20c7f936-f8f3-4e06-f790-73f17aaef6ab",
        "colab": {
          "base_uri": "https://localhost:8080/"
        }
      },
      "execution_count": null,
      "outputs": [
        {
          "output_type": "stream",
          "name": "stdout",
          "text": [
            "[50, 40, 30, 20, 10]\n"
          ]
        }
      ]
    },
    {
      "cell_type": "markdown",
      "source": [
        "## **Q11.Write a code to create a tuple with the elements 100, 200, 300 and print it.**"
      ],
      "metadata": {
        "id": "tE-mfwvalm9V"
      }
    },
    {
      "cell_type": "code",
      "source": [
        "# Creating a tuple\n",
        "my_tuple = (100, 200, 300)\n",
        "\n",
        "# Printing the tuple\n",
        "print(my_tuple)\n"
      ],
      "metadata": {
        "colab": {
          "base_uri": "https://localhost:8080/"
        },
        "id": "__R4mrJCl5T8",
        "outputId": "bae23d36-f3df-4b8f-dd35-c8b9f32bd473"
      },
      "execution_count": null,
      "outputs": [
        {
          "output_type": "stream",
          "name": "stdout",
          "text": [
            "(100, 200, 300)\n"
          ]
        }
      ]
    },
    {
      "cell_type": "markdown",
      "source": [
        "## **Q12.Write a code to access the second-to-last element of the tuple ('red', 'green', 'blue', 'yellow')**"
      ],
      "metadata": {
        "id": "EkPn7vWdmE_W"
      }
    },
    {
      "cell_type": "code",
      "source": [
        "#Creating a tuple\n",
        "colors = ('red', 'green','blue','yellow')\n",
        "\n",
        "#Accessing the second to last element\n",
        "second_to_last_element = colors[-2]\n",
        "\n",
        "#Printing the result\n",
        "print(second_to_last_element)"
      ],
      "metadata": {
        "colab": {
          "base_uri": "https://localhost:8080/"
        },
        "id": "NYtiXBDBmLOv",
        "outputId": "aa569d9a-c938-440b-921d-31b9640d8e63"
      },
      "execution_count": null,
      "outputs": [
        {
          "output_type": "stream",
          "name": "stdout",
          "text": [
            "blue\n"
          ]
        }
      ]
    },
    {
      "cell_type": "markdown",
      "source": [
        "##**Q13.Write a code to find the minimum number in the tuple (10, 20, 5, 15).**"
      ],
      "metadata": {
        "id": "EzL7AFGVm6QC"
      }
    },
    {
      "cell_type": "code",
      "source": [
        "# Creating a tuple\n",
        "numbers = (10, 20, 5, 15)\n",
        "\n",
        "# Finding the minimum number\n",
        "min_number = min(numbers)\n",
        "\n",
        "# Printing the result\n",
        "print(min_number)"
      ],
      "metadata": {
        "colab": {
          "base_uri": "https://localhost:8080/"
        },
        "id": "3jS92PYanJdQ",
        "outputId": "a7ba0a89-8eb1-457d-e2a0-4091eda170c8"
      },
      "execution_count": null,
      "outputs": [
        {
          "output_type": "stream",
          "name": "stdout",
          "text": [
            "5\n"
          ]
        }
      ]
    },
    {
      "cell_type": "markdown",
      "source": [
        "##**Q14.Write a code to find the index of the element \"cat\" in the tuple ('dog', 'cat', 'rabbit').**"
      ],
      "metadata": {
        "id": "_zAieCDOnqe9"
      }
    },
    {
      "cell_type": "code",
      "source": [
        "# Creating a tuple\n",
        "animals = ('dog', 'cat', 'rabbit')\n",
        "\n",
        "# Finding the index of 'cat'\n",
        "index_cat = animals.index('cat')\n",
        "\n",
        "# Printing the result\n",
        "print(index_cat)"
      ],
      "metadata": {
        "colab": {
          "base_uri": "https://localhost:8080/"
        },
        "id": "RJYN4rYonuTm",
        "outputId": "eeb3821d-534d-469a-d067-4520ed5ca03a"
      },
      "execution_count": null,
      "outputs": [
        {
          "output_type": "stream",
          "name": "stdout",
          "text": [
            "1\n"
          ]
        }
      ]
    },
    {
      "cell_type": "markdown",
      "source": [
        "##**Q15.Write a code to create a tuple containing three different fruits and check if \"kiwi\" is in it.**"
      ],
      "metadata": {
        "id": "RB8SgN4koXsQ"
      }
    },
    {
      "cell_type": "code",
      "source": [
        "# Creating a tuple with three fruits\n",
        "fruits = ('apple', 'banana', 'orange')\n",
        "\n",
        "# Checking if 'kiwi' is in the tuple\n",
        "is_kiwi_present = 'kiwi' in fruits\n",
        "\n",
        "# Printing the result\n",
        "print(is_kiwi_present)"
      ],
      "metadata": {
        "colab": {
          "base_uri": "https://localhost:8080/"
        },
        "id": "ynmjD0eBohMX",
        "outputId": "a040bfe3-5551-42d2-b011-acc345f26df3"
      },
      "execution_count": null,
      "outputs": [
        {
          "output_type": "stream",
          "name": "stdout",
          "text": [
            "False\n"
          ]
        }
      ]
    },
    {
      "cell_type": "markdown",
      "source": [],
      "metadata": {
        "id": "_AyfIUS-pc71"
      }
    },
    {
      "cell_type": "markdown",
      "source": [
        "##**Q16.Write a code to create a set with the elements 'a', 'b', 'c' and print it.**"
      ],
      "metadata": {
        "id": "pxFeu9NTpfza"
      }
    },
    {
      "cell_type": "code",
      "source": [
        "# Creating a set\n",
        "my_set = {\"a\", 'b', \"c\"}\n",
        "\n",
        "# Printing the set\n",
        "print(my_set)"
      ],
      "metadata": {
        "colab": {
          "base_uri": "https://localhost:8080/"
        },
        "id": "qPfrrkTepkP4",
        "outputId": "c2a371ad-6626-4d7b-9e57-8166e46c086c"
      },
      "execution_count": null,
      "outputs": [
        {
          "output_type": "stream",
          "name": "stdout",
          "text": [
            "{'b', 'c', 'a'}\n"
          ]
        }
      ]
    },
    {
      "cell_type": "markdown",
      "source": [
        "##**Q17.Write a code to clear all elements from the set {1, 2, 3, 4, 5}.**"
      ],
      "metadata": {
        "id": "MjKtGsMBqoWF"
      }
    },
    {
      "cell_type": "code",
      "source": [
        "# Creating a set\n",
        "my_set = {1, 2, 3, 4, 5}\n",
        "\n",
        "# Clearing all elements from the set\n",
        "my_set.clear()\n",
        "\n",
        "# Printing the result\n",
        "print(my_set)"
      ],
      "metadata": {
        "colab": {
          "base_uri": "https://localhost:8080/"
        },
        "id": "KEA4xe2xquH0",
        "outputId": "b95abe37-bc17-42cd-a5a6-d93bb4427572"
      },
      "execution_count": null,
      "outputs": [
        {
          "output_type": "stream",
          "name": "stdout",
          "text": [
            "set()\n"
          ]
        }
      ]
    },
    {
      "cell_type": "markdown",
      "source": [
        " ## **Q18.Write a code to remove the element 4 from the set {1, 2, 3, 4}.**"
      ],
      "metadata": {
        "id": "X1s9oP3rra-v"
      }
    },
    {
      "cell_type": "code",
      "source": [
        "# craeting a set\n",
        "my_set = {1, 2, 3, 4}\n",
        "\n",
        "# Removing element 4\n",
        "my_set.remove(4)\n",
        "\n",
        "# Printing the result\n",
        "print(my_set)"
      ],
      "metadata": {
        "colab": {
          "base_uri": "https://localhost:8080/"
        },
        "id": "Wdw2cLWMrhFQ",
        "outputId": "d8d0c146-0988-4928-92fc-e6c41ad88b78"
      },
      "execution_count": null,
      "outputs": [
        {
          "output_type": "stream",
          "name": "stdout",
          "text": [
            "{1, 2, 3}\n"
          ]
        }
      ]
    },
    {
      "cell_type": "markdown",
      "source": [
        " ## **Q19.Write a code to find the union of two sets {1, 2, 3} and {3, 4, 5}.**"
      ],
      "metadata": {
        "id": "XOSsjdQ7r_uL"
      }
    },
    {
      "cell_type": "code",
      "source": [
        "# Creating two sets\n",
        "set1 = {1, 2, 3}\n",
        "set2 = {3, 4, 5}\n",
        "\n",
        "# Finding the union of the sets\n",
        "union_set = set1.union(set2)\n",
        "\n",
        "# Printing the result\n",
        "print(union_set)"
      ],
      "metadata": {
        "colab": {
          "base_uri": "https://localhost:8080/"
        },
        "id": "IBgrmaHPsGad",
        "outputId": "dc2492e3-b976-4430-e029-6053154b705c"
      },
      "execution_count": null,
      "outputs": [
        {
          "output_type": "stream",
          "name": "stdout",
          "text": [
            "{1, 2, 3, 4, 5}\n"
          ]
        }
      ]
    },
    {
      "cell_type": "markdown",
      "source": [
        "## **Q20.Write a code to find the intersection of two sets {1, 2, 3} and {2, 3, 4}.**"
      ],
      "metadata": {
        "id": "-7sWjXDY1RQ8"
      }
    },
    {
      "cell_type": "code",
      "source": [
        "# Creating two sets\n",
        "set1 = {1, 2, 3}\n",
        "set2 = {2, 3, 4}\n",
        "\n",
        "# Finding the intersection of the sets\n",
        "intersection_set = set1.intersection(set2)\n",
        "\n",
        "# Printing the result\n",
        "print(intersection_set)\n"
      ],
      "metadata": {
        "id": "YrF9M_2b2DCn"
      },
      "execution_count": null,
      "outputs": []
    },
    {
      "cell_type": "markdown",
      "source": [
        " ## **Q21.Write a code to create a dictionary with the keys \"name\", \"age\", and \"city\", and print it.**"
      ],
      "metadata": {
        "id": "c0OusXk9nId8"
      }
    },
    {
      "cell_type": "code",
      "source": [
        "# Creating a dictoinary\n",
        "person = {\n",
        "    \"name\" : \"Pankaj\",\n",
        "    \"age\"  : 30,\n",
        "    \"city\" : \"Hoshiarpur\"\n",
        "}\n",
        "\n",
        "#Printing the dictionary\n",
        "print(person)"
      ],
      "metadata": {
        "colab": {
          "base_uri": "https://localhost:8080/"
        },
        "id": "3U952ne_ngLi",
        "outputId": "ed47888c-d814-4b45-d77f-40ab95868687"
      },
      "execution_count": null,
      "outputs": [
        {
          "output_type": "stream",
          "name": "stdout",
          "text": [
            "{'name': 'Pankaj', 'age': 30, 'city': 'Hoshiarpur'}\n"
          ]
        }
      ]
    },
    {
      "cell_type": "markdown",
      "source": [
        "## **Q22.Write a code to add a new key-value pair \"country\": \"USA\" to the dictionary {'name': 'John', 'age': 25}.**"
      ],
      "metadata": {
        "id": "jfujBmHppB25"
      }
    },
    {
      "cell_type": "code",
      "source": [
        "# Existing dictionary\n",
        "person = {\"name\": \"Pankaj\", \"age\" : 30, \"city\" : \"Hoshiarpur\"}\n",
        "\n",
        "# Adding a new key value pair\n",
        "person[\"country\"] = \"India\"\n",
        "\n",
        "# Printing the updated dictionary\n",
        "print(person)"
      ],
      "metadata": {
        "colab": {
          "base_uri": "https://localhost:8080/"
        },
        "id": "BT-4owM0pW2a",
        "outputId": "6410fc5d-f784-430e-ef16-03242fcdb17b"
      },
      "execution_count": null,
      "outputs": [
        {
          "output_type": "stream",
          "name": "stdout",
          "text": [
            "{'name': 'Pankaj', 'age': 30, 'city': 'Hoshiarpur', 'country': 'India'}\n"
          ]
        }
      ]
    },
    {
      "cell_type": "markdown",
      "source": [
        "## **Q23. Write a code to access the value associated with the key \"name\" in the dictionary {'name': 'Alice', 'age': 30}.**"
      ],
      "metadata": {
        "id": "doxa68n3tzeg"
      }
    },
    {
      "cell_type": "code",
      "source": [
        "# Give dictionary\n",
        "person = {\"name\" : \"Alice\", \"age\" : 30}\n",
        "\n",
        "# Accessing the value of the key \"name\"\n",
        "name_value = person[\"name\"]\n",
        "\n",
        "# Printing the value\n",
        "print(name_value)"
      ],
      "metadata": {
        "colab": {
          "base_uri": "https://localhost:8080/"
        },
        "id": "vgklnfsovFbM",
        "outputId": "b9ad458f-de26-476e-d102-b1af05ae3b6e"
      },
      "execution_count": null,
      "outputs": [
        {
          "output_type": "stream",
          "name": "stdout",
          "text": [
            "Alice\n"
          ]
        }
      ]
    },
    {
      "cell_type": "markdown",
      "source": [
        "## **Q24. Write a code to remove the key \"age\" from the dictionary {'name': 'Bob', 'age': 22, 'city': 'New York'}.**"
      ],
      "metadata": {
        "id": "MFq5hSG0wAus"
      }
    },
    {
      "cell_type": "code",
      "source": [
        "# Give the dictionary\n",
        "person = {\"name\": \"Pankaj\", \"age\" : 30, \"city\" : \"Hoshiarpur\"}\n",
        "\n",
        "#Removing the key \"age\"\n",
        "person.pop(\"age\")\n",
        "\n",
        "# Print the update dictionary\n",
        "print(person)"
      ],
      "metadata": {
        "colab": {
          "base_uri": "https://localhost:8080/"
        },
        "id": "30DfvuASwJg-",
        "outputId": "9555f940-bc3f-46e0-dc95-ec269bf8d280"
      },
      "execution_count": null,
      "outputs": [
        {
          "output_type": "stream",
          "name": "stdout",
          "text": [
            "{'name': 'Pankaj', 'city': 'Hoshiarpur'}\n"
          ]
        }
      ]
    },
    {
      "cell_type": "markdown",
      "source": [
        "## **Q25.Write a code to check if the key \"city\" exists in the dictionary {'name': 'Alice', 'city': 'Paris'}.**\n",
        "\n"
      ],
      "metadata": {
        "id": "30xOp0rCw2TL"
      }
    },
    {
      "cell_type": "code",
      "source": [
        "# Given dictionary\n",
        "person = {\"name\" : \"Alice\", \"city\" : \"Paris\"}\n",
        "\n",
        "# Checking if the key \"city\" exits\n",
        "if 'city' in person:\n",
        "  print(\"key 'city' exits in the dictionary.\")\n",
        "else:\n",
        "  print(\"key 'city' does not exits in the dictionary.\")"
      ],
      "metadata": {
        "colab": {
          "base_uri": "https://localhost:8080/"
        },
        "id": "4K_hkZ1Uxnhd",
        "outputId": "3e8e21d3-5e56-4fcd-fd68-923a99a5bd18"
      },
      "execution_count": null,
      "outputs": [
        {
          "output_type": "stream",
          "name": "stdout",
          "text": [
            "key 'city' exits in the dictionary.\n"
          ]
        }
      ]
    },
    {
      "cell_type": "markdown",
      "source": [
        "## **Q26.Write a code to create a list, a tuple, and a dictionary, and print them all.**"
      ],
      "metadata": {
        "id": "zH5GSbQKyvEG"
      }
    },
    {
      "cell_type": "code",
      "source": [
        "# Creating a list\n",
        "my_list = [1, 2, 3, 4, 5]\n",
        "\n",
        "# Creating a tuple\n",
        "my_tuple = (\"Samsung\", \"L.G\", \"Onida\", \"Wyber\")\n",
        "\n",
        "# Creating a dictionary\n",
        "my_dict = {\"name\" : \"Pankaj\", \"age\" : 30, \"city\" : \"Hoshiarpur\"}\n",
        "\n",
        "# Print all\n",
        "print(my_list)\n",
        "print(my_tuple)\n",
        "print(my_dict)"
      ],
      "metadata": {
        "colab": {
          "base_uri": "https://localhost:8080/"
        },
        "id": "ODWF56q8y9Yw",
        "outputId": "5977aae5-2627-4f53-9ec9-3ccbf5f4d1e5"
      },
      "execution_count": null,
      "outputs": [
        {
          "output_type": "stream",
          "name": "stdout",
          "text": [
            "[1, 2, 3, 4, 5]\n",
            "('Samsung', 'L.G', 'Onida', 'Wyber')\n",
            "{'name': 'Pankaj', 'age': 30, 'city': 'Hoshiarpur'}\n"
          ]
        }
      ]
    },
    {
      "cell_type": "markdown",
      "source": [
        "## **Q27.Write a code to create a list of 5 random numbers between 1 and 100, sort it in ascending order, and print the result.(replaced)**"
      ],
      "metadata": {
        "id": "67gux8kF0b0t"
      }
    },
    {
      "cell_type": "code",
      "source": [
        "import random\n",
        "\n",
        "# Generating a list of 5 random numbers between 1 and 100\n",
        "random_numbers = random.sample(range(1, 101), 5)\n",
        "\n",
        "#sorting the list in ascending order\n",
        "random_numbers.sort()\n",
        "\n",
        "# Printing the sorted list\n",
        "print(\"Sorted random numbers:\", random_numbers)"
      ],
      "metadata": {
        "colab": {
          "base_uri": "https://localhost:8080/"
        },
        "id": "REq1D7ma0rWm",
        "outputId": "42de83d8-c3e3-4a31-c30f-e69f41813848"
      },
      "execution_count": null,
      "outputs": [
        {
          "output_type": "stream",
          "name": "stdout",
          "text": [
            "Sorted random numbers: [9, 11, 41, 90, 93]\n"
          ]
        }
      ]
    },
    {
      "cell_type": "markdown",
      "source": [
        "## **Q28. Write a code to create a list with strings and print the element at the third index.**"
      ],
      "metadata": {
        "id": "uhyBFfM63A-k"
      }
    },
    {
      "cell_type": "code",
      "source": [
        "# Creating a list with srings\n",
        "fruits = [\"Apple\", \"Banana\", \"Cherry\", \"Orange\", \"Graphes\"]\n",
        "\n",
        "# Printing the element at the third index (0-based index)\n",
        "print(\"Element at index 3:\", fruits[3])"
      ],
      "metadata": {
        "colab": {
          "base_uri": "https://localhost:8080/"
        },
        "id": "Q2ryi6nj3Xuc",
        "outputId": "bebba13e-2d35-4e35-aebc-d5647066575a"
      },
      "execution_count": null,
      "outputs": [
        {
          "output_type": "stream",
          "name": "stdout",
          "text": [
            "Element at index 3: Orange\n"
          ]
        }
      ]
    },
    {
      "cell_type": "markdown",
      "source": [
        "## **Q29.Write a code to combine two dictionaries into one and print the result.**"
      ],
      "metadata": {
        "id": "A2TcHXQk4x3G"
      }
    },
    {
      "cell_type": "code",
      "source": [
        "dict1 = {\"name\" : \"Pankaj\", \"age\" : 30}\n",
        "dict2 = {\"city\" : \"Hoshiarpur\", \"country\" : \"India\"}\n",
        "\n",
        "# Combining the dictionaries\n",
        "combined_dict = {**dict1, **dict2}\n",
        "\n",
        "# Printing the result\n",
        "print(\"Combined Dictionary:\", combined_dict)"
      ],
      "metadata": {
        "colab": {
          "base_uri": "https://localhost:8080/"
        },
        "id": "FM8Qes9M48ot",
        "outputId": "b521e04e-3680-4757-dfc1-a7c5d86ff9b0"
      },
      "execution_count": null,
      "outputs": [
        {
          "output_type": "stream",
          "name": "stdout",
          "text": [
            "Combined Dictionary: {'name': 'Pankaj', 'age': 30, 'city': 'Hoshiarpur', 'country': 'India'}\n"
          ]
        }
      ]
    },
    {
      "cell_type": "markdown",
      "source": [],
      "metadata": {
        "id": "lpBLgVB053s-"
      }
    },
    {
      "cell_type": "markdown",
      "source": [
        "## **Q30.Write a code to convert a list of strings into a set.**"
      ],
      "metadata": {
        "id": "qtQN6AKW59AB"
      }
    },
    {
      "cell_type": "code",
      "source": [
        "# Creating a list of strings\n",
        "fruits = [\"Apple\", \"Banana\", \"Cherry\", \"Orange\", \"Graphes\"]\n",
        "\n",
        "# Converting the list into a set\n",
        "fruits_set = set(fruits)\n",
        "\n",
        "# Printing the result\n",
        "print(\"set of fruits:\", fruits_set)"
      ],
      "metadata": {
        "colab": {
          "base_uri": "https://localhost:8080/"
        },
        "id": "LBJiwYoO6EAS",
        "outputId": "87099c42-f6fe-473b-d15d-7884c9a039bd"
      },
      "execution_count": null,
      "outputs": [
        {
          "output_type": "stream",
          "name": "stdout",
          "text": [
            "set of fruits: {'Orange', 'Apple', 'Banana', 'Graphes', 'Cherry'}\n"
          ]
        }
      ]
    }
  ]
}